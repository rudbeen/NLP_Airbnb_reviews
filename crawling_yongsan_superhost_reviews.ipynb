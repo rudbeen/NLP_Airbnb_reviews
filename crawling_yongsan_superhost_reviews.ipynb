{
 "cells": [
  {
   "cell_type": "code",
   "execution_count": 190,
   "metadata": {},
   "outputs": [],
   "source": [
    "import pandas as pd\n",
    "from selenium.webdriver import Chrome\n",
    "import os\n",
    "import lxml.html\n",
    "import time\n",
    "import re\n",
    "import numpy as np"
   ]
  },
  {
   "cell_type": "code",
   "execution_count": 2,
   "metadata": {},
   "outputs": [],
   "source": [
    "browser = Chrome(os.getcwd()+ '/chromedriver')"
   ]
  },
  {
   "cell_type": "code",
   "execution_count": 3,
   "metadata": {},
   "outputs": [],
   "source": [
    "url1 = 'https://www.airbnb.co.kr/rooms/41563365?adults=2&check_in=2021-04-29&check_out=2021-04-30&federated_search_id=9bdb0587-d019-42c4-a508-9836537113f0&source_impression_id=p3_1618748322_Ob%2F5R2NqoTUc51%2Bs&guests=1'"
   ]
  },
  {
   "cell_type": "code",
   "execution_count": 4,
   "metadata": {},
   "outputs": [],
   "source": [
    "browser.get(url1)"
   ]
  },
  {
   "cell_type": "code",
   "execution_count": 5,
   "metadata": {},
   "outputs": [],
   "source": [
    "more_links = browser.find_elements_by_css_selector('._13e0raay')"
   ]
  },
  {
   "cell_type": "code",
   "execution_count": 6,
   "metadata": {},
   "outputs": [
    {
     "data": {
      "text/plain": [
       "[<selenium.webdriver.remote.webelement.WebElement (session=\"8006f0fbc8904d56d210797f22d293f3\", element=\"2a1bcf73-b8fe-4d41-a195-e2ea3fa2beed\")>,\n",
       " <selenium.webdriver.remote.webelement.WebElement (session=\"8006f0fbc8904d56d210797f22d293f3\", element=\"76e1a6e3-1c33-444b-b0a3-da896f9473f2\")>,\n",
       " <selenium.webdriver.remote.webelement.WebElement (session=\"8006f0fbc8904d56d210797f22d293f3\", element=\"f56364b3-224a-40d5-b57b-f9a7f7e24c70\")>]"
      ]
     },
     "execution_count": 6,
     "metadata": {},
     "output_type": "execute_result"
    }
   ],
   "source": [
    "more_links"
   ]
  },
  {
   "cell_type": "code",
   "execution_count": 9,
   "metadata": {},
   "outputs": [],
   "source": [
    "more = more_links[0]"
   ]
  },
  {
   "cell_type": "code",
   "execution_count": 11,
   "metadata": {},
   "outputs": [],
   "source": [
    "more.click()"
   ]
  },
  {
   "cell_type": "code",
   "execution_count": 14,
   "metadata": {},
   "outputs": [],
   "source": [
    "data=[]\n",
    "for review in browser.find_elements_by_css_selector('span ._1d784e5'):\n",
    "    reviews = re.sub(r'₩s+', ' ', review.text)\n",
    "    data.append(reviews)"
   ]
  },
  {
   "cell_type": "code",
   "execution_count": 15,
   "metadata": {},
   "outputs": [],
   "source": [
    "url2 = 'https://www.airbnb.co.kr/rooms/45858741?adults=2&check_in=2021-04-29&check_out=2021-04-30&federated_search_id=9bdb0587-d019-42c4-a508-9836537113f0&source_impression_id=p3_1618748577_mtzTa8%2FhZCtQDFSm&guests=1'"
   ]
  },
  {
   "cell_type": "code",
   "execution_count": 16,
   "metadata": {},
   "outputs": [],
   "source": [
    "browser.get(url2)"
   ]
  },
  {
   "cell_type": "code",
   "execution_count": 17,
   "metadata": {},
   "outputs": [
    {
     "data": {
      "text/plain": [
       "[<selenium.webdriver.remote.webelement.WebElement (session=\"8006f0fbc8904d56d210797f22d293f3\", element=\"441e6790-bd24-4d86-983f-dbdaea06394f\")>,\n",
       " <selenium.webdriver.remote.webelement.WebElement (session=\"8006f0fbc8904d56d210797f22d293f3\", element=\"9177244e-372a-486e-bda8-7039ff0a5f6c\")>,\n",
       " <selenium.webdriver.remote.webelement.WebElement (session=\"8006f0fbc8904d56d210797f22d293f3\", element=\"8d3d710e-3b59-45e3-9e29-2c08b0c8f448\")>]"
      ]
     },
     "execution_count": 17,
     "metadata": {},
     "output_type": "execute_result"
    }
   ],
   "source": [
    "more_links = browser.find_elements_by_css_selector('._13e0raay')\n",
    "more_links"
   ]
  },
  {
   "cell_type": "code",
   "execution_count": 18,
   "metadata": {},
   "outputs": [],
   "source": [
    "more = more_links[0]\n",
    "more.click()"
   ]
  },
  {
   "cell_type": "code",
   "execution_count": 20,
   "metadata": {},
   "outputs": [],
   "source": [
    "for review in browser.find_elements_by_css_selector('span ._1d784e5'):\n",
    "    reviews = re.sub(r'₩s+', ' ', review.text)\n",
    "    data.append(reviews)"
   ]
  },
  {
   "cell_type": "code",
   "execution_count": 21,
   "metadata": {},
   "outputs": [],
   "source": [
    "url3 = 'https://www.airbnb.co.kr/rooms/46842654?adults=2&check_in=2021-04-29&check_out=2021-04-30&federated_search_id=9bdb0587-d019-42c4-a508-9836537113f0&source_impression_id=p3_1618748810_npiFVnHGQxg4bZL4&guests=1'"
   ]
  },
  {
   "cell_type": "code",
   "execution_count": 22,
   "metadata": {},
   "outputs": [],
   "source": [
    "browser.get(url3)"
   ]
  },
  {
   "cell_type": "code",
   "execution_count": 23,
   "metadata": {},
   "outputs": [
    {
     "data": {
      "text/plain": [
       "[<selenium.webdriver.remote.webelement.WebElement (session=\"8006f0fbc8904d56d210797f22d293f3\", element=\"d0b49997-ecdb-4664-9953-8738a1f76780\")>,\n",
       " <selenium.webdriver.remote.webelement.WebElement (session=\"8006f0fbc8904d56d210797f22d293f3\", element=\"0715762d-05a7-4298-9bd1-778930c2dd99\")>,\n",
       " <selenium.webdriver.remote.webelement.WebElement (session=\"8006f0fbc8904d56d210797f22d293f3\", element=\"d526d339-62c4-4df2-9742-4b82fcbbc7da\")>]"
      ]
     },
     "execution_count": 23,
     "metadata": {},
     "output_type": "execute_result"
    }
   ],
   "source": [
    "more_links = browser.find_elements_by_css_selector('._13e0raay')\n",
    "more_links"
   ]
  },
  {
   "cell_type": "code",
   "execution_count": 24,
   "metadata": {},
   "outputs": [],
   "source": [
    "more = more_links[0]\n",
    "more.click()"
   ]
  },
  {
   "cell_type": "code",
   "execution_count": 25,
   "metadata": {},
   "outputs": [],
   "source": [
    "for review in browser.find_elements_by_css_selector('span ._1d784e5'):\n",
    "    reviews = re.sub(r'₩s+', ' ', review.text)\n",
    "    data.append(reviews)"
   ]
  },
  {
   "cell_type": "code",
   "execution_count": 26,
   "metadata": {},
   "outputs": [],
   "source": [
    "url4 = 'https://www.airbnb.co.kr/rooms/47148672?adults=2&check_in=2021-04-29&check_out=2021-04-30&federated_search_id=f2bfe7d7-b67a-479a-b218-7ac5cc3d64ed&source_impression_id=p3_1618749006_PKBk3RJ364Rw4r8n&guests=1'"
   ]
  },
  {
   "cell_type": "code",
   "execution_count": 27,
   "metadata": {},
   "outputs": [],
   "source": [
    "browser.get(url4)"
   ]
  },
  {
   "cell_type": "code",
   "execution_count": 28,
   "metadata": {},
   "outputs": [
    {
     "data": {
      "text/plain": [
       "[<selenium.webdriver.remote.webelement.WebElement (session=\"8006f0fbc8904d56d210797f22d293f3\", element=\"9a4c7e81-f730-416f-ae47-c9f9d53bd3c0\")>,\n",
       " <selenium.webdriver.remote.webelement.WebElement (session=\"8006f0fbc8904d56d210797f22d293f3\", element=\"d4bd7a02-ecd9-4ee4-abb2-6d787702baa1\")>,\n",
       " <selenium.webdriver.remote.webelement.WebElement (session=\"8006f0fbc8904d56d210797f22d293f3\", element=\"2a2f6c8c-f4c8-4292-9f34-baff6238cd65\")>]"
      ]
     },
     "execution_count": 28,
     "metadata": {},
     "output_type": "execute_result"
    }
   ],
   "source": [
    "more_links = browser.find_elements_by_css_selector('._13e0raay')\n",
    "more_links"
   ]
  },
  {
   "cell_type": "code",
   "execution_count": 29,
   "metadata": {},
   "outputs": [],
   "source": [
    "more = more_links[0]\n",
    "more.click()"
   ]
  },
  {
   "cell_type": "code",
   "execution_count": 30,
   "metadata": {},
   "outputs": [],
   "source": [
    "for review in browser.find_elements_by_css_selector('span ._1d784e5'):\n",
    "    reviews = re.sub(r'₩s+', ' ', review.text)\n",
    "    data.append(reviews)"
   ]
  },
  {
   "cell_type": "code",
   "execution_count": 31,
   "metadata": {},
   "outputs": [],
   "source": [
    "url5 = 'https://www.airbnb.co.kr/rooms/43246238?adults=2&check_in=2021-04-29&check_out=2021-04-30&federated_search_id=f2bfe7d7-b67a-479a-b218-7ac5cc3d64ed&source_impression_id=p3_1618749117_3ZQx4HjL1WPLb%2BY5'"
   ]
  },
  {
   "cell_type": "code",
   "execution_count": 32,
   "metadata": {},
   "outputs": [],
   "source": [
    "browser.get(url5)"
   ]
  },
  {
   "cell_type": "code",
   "execution_count": 33,
   "metadata": {},
   "outputs": [
    {
     "data": {
      "text/plain": [
       "[<selenium.webdriver.remote.webelement.WebElement (session=\"8006f0fbc8904d56d210797f22d293f3\", element=\"3387f4f9-3732-429c-96e6-e85cc4cca876\")>,\n",
       " <selenium.webdriver.remote.webelement.WebElement (session=\"8006f0fbc8904d56d210797f22d293f3\", element=\"4c20d6d3-13a9-4812-8ac2-807600afcec5\")>,\n",
       " <selenium.webdriver.remote.webelement.WebElement (session=\"8006f0fbc8904d56d210797f22d293f3\", element=\"06df6b89-0a9f-4436-b520-c3f4219365c2\")>]"
      ]
     },
     "execution_count": 33,
     "metadata": {},
     "output_type": "execute_result"
    }
   ],
   "source": [
    "more_links = browser.find_elements_by_css_selector('._13e0raay')\n",
    "more_links"
   ]
  },
  {
   "cell_type": "code",
   "execution_count": 34,
   "metadata": {},
   "outputs": [],
   "source": [
    "more = more_links[0]\n",
    "more.click()"
   ]
  },
  {
   "cell_type": "code",
   "execution_count": 35,
   "metadata": {},
   "outputs": [],
   "source": [
    "for review in browser.find_elements_by_css_selector('span ._1d784e5'):\n",
    "    reviews = re.sub(r'₩s+', ' ', review.text)\n",
    "    data.append(reviews)"
   ]
  },
  {
   "cell_type": "code",
   "execution_count": 36,
   "metadata": {},
   "outputs": [],
   "source": [
    "url6 = 'https://www.airbnb.co.kr/rooms/37605363?adults=2&check_in=2021-04-29&check_out=2021-04-30&federated_search_id=f2bfe7d7-b67a-479a-b218-7ac5cc3d64ed&source_impression_id=p3_1618749197_AqOXAjr2iXMZfrJN&guests=1'"
   ]
  },
  {
   "cell_type": "code",
   "execution_count": 37,
   "metadata": {},
   "outputs": [],
   "source": [
    "browser.get(url6)"
   ]
  },
  {
   "cell_type": "code",
   "execution_count": 38,
   "metadata": {},
   "outputs": [
    {
     "data": {
      "text/plain": [
       "[<selenium.webdriver.remote.webelement.WebElement (session=\"8006f0fbc8904d56d210797f22d293f3\", element=\"abd1ccaf-15c2-408f-848e-4967c945187c\")>,\n",
       " <selenium.webdriver.remote.webelement.WebElement (session=\"8006f0fbc8904d56d210797f22d293f3\", element=\"c9d54b07-3045-4be5-bb66-0c6982cbd299\")>,\n",
       " <selenium.webdriver.remote.webelement.WebElement (session=\"8006f0fbc8904d56d210797f22d293f3\", element=\"b8df9966-a85e-4c89-b0dc-8d3de359f06a\")>]"
      ]
     },
     "execution_count": 38,
     "metadata": {},
     "output_type": "execute_result"
    }
   ],
   "source": [
    "more_links = browser.find_elements_by_css_selector('._13e0raay')\n",
    "more_links"
   ]
  },
  {
   "cell_type": "code",
   "execution_count": 39,
   "metadata": {},
   "outputs": [],
   "source": [
    "more = more_links[0]\n",
    "more.click()"
   ]
  },
  {
   "cell_type": "code",
   "execution_count": 40,
   "metadata": {},
   "outputs": [],
   "source": [
    "for review in browser.find_elements_by_css_selector('span ._1d784e5'):\n",
    "    reviews = re.sub(r'₩s+', ' ', review.text)\n",
    "    data.append(reviews)"
   ]
  },
  {
   "cell_type": "code",
   "execution_count": 41,
   "metadata": {},
   "outputs": [],
   "source": [
    "url7 = 'https://www.airbnb.co.kr/rooms/48528017?adults=2&check_in=2021-04-29&check_out=2021-04-30&federated_search_id=f2bfe7d7-b67a-479a-b218-7ac5cc3d64ed&source_impression_id=p3_1618749499_aLSH72YlaWYUQUGF&guests=1'"
   ]
  },
  {
   "cell_type": "code",
   "execution_count": 42,
   "metadata": {},
   "outputs": [],
   "source": [
    "browser.get(url7)\n",
    "time.sleep(2)\n",
    "more_links = browser.find_elements_by_css_selector('._13e0raay')\n",
    "more = more_links[0]\n",
    "more.click()"
   ]
  },
  {
   "cell_type": "code",
   "execution_count": 43,
   "metadata": {},
   "outputs": [],
   "source": [
    "for review in browser.find_elements_by_css_selector('span ._1d784e5'):\n",
    "    reviews = re.sub(r'₩s+', ' ', review.text)\n",
    "    data.append(reviews)"
   ]
  },
  {
   "cell_type": "code",
   "execution_count": 44,
   "metadata": {},
   "outputs": [],
   "source": [
    "url8 = 'https://www.airbnb.co.kr/rooms/32948898?adults=2&check_in=2021-04-29&check_out=2021-04-30&federated_search_id=f2bfe7d7-b67a-479a-b218-7ac5cc3d64ed&source_impression_id=p3_1618749733_I0vbyHgIxaXezRrF&guests=1'"
   ]
  },
  {
   "cell_type": "code",
   "execution_count": 45,
   "metadata": {},
   "outputs": [],
   "source": [
    "browser.get(url8)\n",
    "time.sleep(2)\n",
    "more_links = browser.find_elements_by_css_selector('._13e0raay')\n",
    "more_links\n",
    "more = more_links[0]\n",
    "more.click()"
   ]
  },
  {
   "cell_type": "code",
   "execution_count": 46,
   "metadata": {},
   "outputs": [],
   "source": [
    "for review in browser.find_elements_by_css_selector('span ._1d784e5'):\n",
    "    reviews = re.sub(r'₩s+', ' ', review.text)\n",
    "    data.append(reviews)"
   ]
  },
  {
   "cell_type": "code",
   "execution_count": 47,
   "metadata": {},
   "outputs": [],
   "source": [
    "url9 = 'https://www.airbnb.co.kr/rooms/47927471?adults=2&check_in=2021-04-29&check_out=2021-04-30&federated_search_id=f2bfe7d7-b67a-479a-b218-7ac5cc3d64ed&source_impression_id=p3_1618749896_uxciKRL0%2F7201amE'"
   ]
  },
  {
   "cell_type": "code",
   "execution_count": 48,
   "metadata": {},
   "outputs": [],
   "source": [
    "browser.get(url9)\n",
    "time.sleep(3)\n",
    "more_links = browser.find_elements_by_css_selector('._13e0raay')\n",
    "more_links\n",
    "more = more_links[0]\n",
    "more.click()"
   ]
  },
  {
   "cell_type": "code",
   "execution_count": 49,
   "metadata": {},
   "outputs": [],
   "source": [
    "for review in browser.find_elements_by_css_selector('span ._1d784e5'):\n",
    "    reviews = re.sub(r'₩s+', ' ', review.text)\n",
    "    data.append(reviews)"
   ]
  },
  {
   "cell_type": "code",
   "execution_count": 50,
   "metadata": {},
   "outputs": [],
   "source": [
    "url10 = 'https://www.airbnb.co.kr/rooms/46388764?adults=2&check_in=2021-04-29&check_out=2021-04-30&federated_search_id=f2bfe7d7-b67a-479a-b218-7ac5cc3d64ed&source_impression_id=p3_1618750183_yuea83u6HhCDicxX&guests=1'"
   ]
  },
  {
   "cell_type": "code",
   "execution_count": 51,
   "metadata": {},
   "outputs": [],
   "source": [
    "browser.get(url10)\n",
    "time.sleep(3)\n",
    "more_links = browser.find_elements_by_css_selector('._13e0raay')\n",
    "more_links\n",
    "more = more_links[0]\n",
    "more.click()"
   ]
  },
  {
   "cell_type": "code",
   "execution_count": 52,
   "metadata": {},
   "outputs": [],
   "source": [
    "for review in browser.find_elements_by_css_selector('span ._1d784e5'):\n",
    "    reviews = re.sub(r'₩s+', ' ', review.text)\n",
    "    data.append(reviews)"
   ]
  },
  {
   "cell_type": "code",
   "execution_count": 53,
   "metadata": {},
   "outputs": [],
   "source": [
    "url11 = 'https://www.airbnb.co.kr/rooms/39531694?adults=2&check_in=2021-04-29&check_out=2021-04-30&federated_search_id=f2bfe7d7-b67a-479a-b218-7ac5cc3d64ed&source_impression_id=p3_1618750247_SN03B7rZKer6kS45&guests=1'"
   ]
  },
  {
   "cell_type": "code",
   "execution_count": 54,
   "metadata": {},
   "outputs": [],
   "source": [
    "browser.get(url11)\n",
    "time.sleep(3)\n",
    "more_links = browser.find_elements_by_css_selector('._13e0raay')\n",
    "more_links\n",
    "more = more_links[0]\n",
    "more.click()"
   ]
  },
  {
   "cell_type": "code",
   "execution_count": 55,
   "metadata": {},
   "outputs": [],
   "source": [
    "for review in browser.find_elements_by_css_selector('span ._1d784e5'):\n",
    "    reviews = re.sub(r'₩s+', ' ', review.text)\n",
    "    data.append(reviews)"
   ]
  },
  {
   "cell_type": "code",
   "execution_count": 56,
   "metadata": {},
   "outputs": [],
   "source": [
    "url12 = 'https://www.airbnb.co.kr/rooms/43064971?adults=2&check_in=2021-04-29&check_out=2021-04-30&federated_search_id=2362bd8c-3359-4eff-9e11-3a4319e86efa&source_impression_id=p3_1618750352_4Nccz6ChYriDmxiT&guests=1'"
   ]
  },
  {
   "cell_type": "code",
   "execution_count": 57,
   "metadata": {},
   "outputs": [],
   "source": [
    "browser.get(url12)\n",
    "time.sleep(3)\n",
    "more_links = browser.find_elements_by_css_selector('._13e0raay')\n",
    "more_links\n",
    "more = more_links[0]\n",
    "more.click()"
   ]
  },
  {
   "cell_type": "code",
   "execution_count": 58,
   "metadata": {},
   "outputs": [],
   "source": [
    "for review in browser.find_elements_by_css_selector('span ._1d784e5'):\n",
    "    reviews = re.sub(r'₩s+', ' ', review.text)\n",
    "    data.append(reviews)"
   ]
  },
  {
   "cell_type": "code",
   "execution_count": 59,
   "metadata": {},
   "outputs": [],
   "source": [
    "url13 = 'https://www.airbnb.co.kr/rooms/44601382?adults=2&check_in=2021-04-29&check_out=2021-04-30&federated_search_id=2362bd8c-3359-4eff-9e11-3a4319e86efa&source_impression_id=p3_1618750444_Dt10uuoUPeBS%2By1x&guests=1'"
   ]
  },
  {
   "cell_type": "code",
   "execution_count": 60,
   "metadata": {},
   "outputs": [],
   "source": [
    "browser.get(url13)\n",
    "time.sleep(3)\n",
    "more_links = browser.find_elements_by_css_selector('._13e0raay')\n",
    "more_links\n",
    "more = more_links[1]\n",
    "more.click()"
   ]
  },
  {
   "cell_type": "code",
   "execution_count": 61,
   "metadata": {},
   "outputs": [],
   "source": [
    "for review in browser.find_elements_by_css_selector('span ._1d784e5'):\n",
    "    reviews = re.sub(r'₩s+', ' ', review.text)\n",
    "    data.append(reviews)"
   ]
  },
  {
   "cell_type": "code",
   "execution_count": 62,
   "metadata": {},
   "outputs": [],
   "source": [
    "url14 = 'https://www.airbnb.co.kr/rooms/46020596?adults=2&check_in=2021-04-29&check_out=2021-04-30&federated_search_id=2362bd8c-3359-4eff-9e11-3a4319e86efa&source_impression_id=p3_1618750563_pwoVPV8Ogbew%2F2w5&guests=1'"
   ]
  },
  {
   "cell_type": "code",
   "execution_count": 63,
   "metadata": {},
   "outputs": [],
   "source": [
    "browser.get(url14)\n",
    "time.sleep(3)\n",
    "more_links = browser.find_elements_by_css_selector('._13e0raay')\n",
    "more_links\n",
    "more = more_links[0]\n",
    "more.click()"
   ]
  },
  {
   "cell_type": "code",
   "execution_count": 64,
   "metadata": {},
   "outputs": [],
   "source": [
    "for review in browser.find_elements_by_css_selector('span ._1d784e5'):\n",
    "    reviews = re.sub(r'₩s+', ' ', review.text)\n",
    "    data.append(reviews)"
   ]
  },
  {
   "cell_type": "code",
   "execution_count": 65,
   "metadata": {},
   "outputs": [],
   "source": [
    "url15 = 'https://www.airbnb.co.kr/rooms/43058131?adults=2&check_in=2021-04-29&check_out=2021-04-30&federated_search_id=2362bd8c-3359-4eff-9e11-3a4319e86efa&source_impression_id=p3_1618750665_BsXO%2Fyf4vscxgN2T'"
   ]
  },
  {
   "cell_type": "code",
   "execution_count": 66,
   "metadata": {},
   "outputs": [],
   "source": [
    "browser.get(url15)\n",
    "time.sleep(3)\n",
    "more_links = browser.find_elements_by_css_selector('._13e0raay')\n",
    "more_links\n",
    "more = more_links[0]\n",
    "more.click()"
   ]
  },
  {
   "cell_type": "code",
   "execution_count": 67,
   "metadata": {},
   "outputs": [],
   "source": [
    "for review in browser.find_elements_by_css_selector('span ._1d784e5'):\n",
    "    reviews = re.sub(r'₩s+', ' ', review.text)\n",
    "    data.append(reviews)"
   ]
  },
  {
   "cell_type": "code",
   "execution_count": 68,
   "metadata": {},
   "outputs": [],
   "source": [
    "url16 = 'https://www.airbnb.co.kr/rooms/46843850?adults=2&check_in=2021-04-29&check_out=2021-04-30&federated_search_id=2362bd8c-3359-4eff-9e11-3a4319e86efa&source_impression_id=p3_1618750840_SZOw85%2BWXGb19Xg1&guests=1'"
   ]
  },
  {
   "cell_type": "code",
   "execution_count": 69,
   "metadata": {},
   "outputs": [],
   "source": [
    "browser.get(url16)\n",
    "time.sleep(3)\n",
    "more_links = browser.find_elements_by_css_selector('._13e0raay')\n",
    "more_links\n",
    "more = more_links[0]\n",
    "more.click()"
   ]
  },
  {
   "cell_type": "code",
   "execution_count": 70,
   "metadata": {},
   "outputs": [],
   "source": [
    "for review in browser.find_elements_by_css_selector('span ._1d784e5'):\n",
    "    reviews = re.sub(r'₩s+', ' ', review.text)\n",
    "    data.append(reviews)"
   ]
  },
  {
   "cell_type": "code",
   "execution_count": 71,
   "metadata": {},
   "outputs": [],
   "source": [
    "url17 = 'https://www.airbnb.co.kr/rooms/38675273?adults=2&check_in=2021-04-29&check_out=2021-04-30&federated_search_id=2362bd8c-3359-4eff-9e11-3a4319e86efa&source_impression_id=p3_1618750951_cubsafFnyx038vtC&guests=1'"
   ]
  },
  {
   "cell_type": "code",
   "execution_count": 72,
   "metadata": {},
   "outputs": [],
   "source": [
    "browser.get(url17)\n",
    "time.sleep(3)\n",
    "more_links = browser.find_elements_by_css_selector('._13e0raay')\n",
    "more_links\n",
    "more = more_links[0]\n",
    "more.click()"
   ]
  },
  {
   "cell_type": "code",
   "execution_count": 73,
   "metadata": {},
   "outputs": [],
   "source": [
    "for review in browser.find_elements_by_css_selector('span ._1d784e5'):\n",
    "    reviews = re.sub(r'₩s+', ' ', review.text)\n",
    "    data.append(reviews)"
   ]
  },
  {
   "cell_type": "code",
   "execution_count": 74,
   "metadata": {},
   "outputs": [],
   "source": [
    "url18 = 'https://www.airbnb.co.kr/rooms/23988577?adults=2&check_in=2021-04-29&check_out=2021-04-30&federated_search_id=2362bd8c-3359-4eff-9e11-3a4319e86efa&source_impression_id=p3_1618751047_WvsPZYzJeOZlGd4U&guests=1'"
   ]
  },
  {
   "cell_type": "code",
   "execution_count": 75,
   "metadata": {},
   "outputs": [],
   "source": [
    "browser.get(url18)\n",
    "time.sleep(4)\n",
    "more_links = browser.find_elements_by_css_selector('._13e0raay')\n",
    "more_links\n",
    "more = more_links[0]\n",
    "more.click()"
   ]
  },
  {
   "cell_type": "code",
   "execution_count": 76,
   "metadata": {},
   "outputs": [],
   "source": [
    "for review in browser.find_elements_by_css_selector('span ._1d784e5'):\n",
    "    reviews = re.sub(r'₩s+', ' ', review.text)\n",
    "    data.append(reviews)"
   ]
  },
  {
   "cell_type": "code",
   "execution_count": 77,
   "metadata": {},
   "outputs": [],
   "source": [
    "url19 = 'https://www.airbnb.co.kr/rooms/26244352?adults=2&check_in=2021-04-29&check_out=2021-04-30&federated_search_id=c22a8ce2-9155-4e9d-8317-d6dabd910502&source_impression_id=p3_1618751242_LNhODBJIvsnrzR0I&guests=1'"
   ]
  },
  {
   "cell_type": "code",
   "execution_count": 78,
   "metadata": {},
   "outputs": [],
   "source": [
    "browser.get(url19)\n",
    "time.sleep(4)\n",
    "more_links = browser.find_elements_by_css_selector('._13e0raay')\n",
    "more_links\n",
    "more = more_links[0]\n",
    "more.click()"
   ]
  },
  {
   "cell_type": "code",
   "execution_count": 79,
   "metadata": {},
   "outputs": [],
   "source": [
    "for review in browser.find_elements_by_css_selector('span ._1d784e5'):\n",
    "    reviews = re.sub(r'₩s+', ' ', review.text)\n",
    "    data.append(reviews)"
   ]
  },
  {
   "cell_type": "code",
   "execution_count": 80,
   "metadata": {},
   "outputs": [],
   "source": [
    "url20 = 'https://www.airbnb.co.kr/rooms/24717099?adults=2&check_in=2021-04-29&check_out=2021-04-30&federated_search_id=c22a8ce2-9155-4e9d-8317-d6dabd910502&source_impression_id=p3_1618751451_AHC8jrfxIodp2bSN&guests=1'"
   ]
  },
  {
   "cell_type": "code",
   "execution_count": 83,
   "metadata": {},
   "outputs": [],
   "source": [
    "browser.get(url20)\n",
    "time.sleep(4)\n",
    "more_links = browser.find_elements_by_css_selector('._13e0raay')\n",
    "more_links\n",
    "more = more_links[0]\n",
    "more.click()"
   ]
  },
  {
   "cell_type": "code",
   "execution_count": 84,
   "metadata": {},
   "outputs": [],
   "source": [
    "for review in browser.find_elements_by_css_selector('span ._1d784e5'):\n",
    "    reviews = re.sub(r'₩s+', ' ', review.text)\n",
    "    data.append(reviews)"
   ]
  },
  {
   "cell_type": "code",
   "execution_count": 85,
   "metadata": {},
   "outputs": [],
   "source": [
    "url21 = 'https://www.airbnb.co.kr/rooms/44652001?adults=2&check_in=2021-04-29&check_out=2021-04-30&federated_search_id=c22a8ce2-9155-4e9d-8317-d6dabd910502&source_impression_id=p3_1618751893_byvOg9%2BKhiK9EWJZ&guests=1'"
   ]
  },
  {
   "cell_type": "code",
   "execution_count": 86,
   "metadata": {},
   "outputs": [],
   "source": [
    "browser.get(url21)\n",
    "time.sleep(4)\n",
    "more_links = browser.find_elements_by_css_selector('._13e0raay')\n",
    "more_links\n",
    "more = more_links[0]\n",
    "more.click()"
   ]
  },
  {
   "cell_type": "code",
   "execution_count": 87,
   "metadata": {},
   "outputs": [],
   "source": [
    "for review in browser.find_elements_by_css_selector('span ._1d784e5'):\n",
    "    reviews = re.sub(r'₩s+', ' ', review.text)\n",
    "    data.append(reviews)"
   ]
  },
  {
   "cell_type": "code",
   "execution_count": 88,
   "metadata": {},
   "outputs": [],
   "source": [
    "url22 = 'https://www.airbnb.co.kr/rooms/43591318?adults=2&check_in=2021-04-29&check_out=2021-04-30&federated_search_id=c22a8ce2-9155-4e9d-8317-d6dabd910502&source_impression_id=p3_1618751985_pkFHfIUPy1TgDhom'"
   ]
  },
  {
   "cell_type": "code",
   "execution_count": 89,
   "metadata": {},
   "outputs": [],
   "source": [
    "browser.get(url22)\n",
    "time.sleep(4)\n",
    "more_links = browser.find_elements_by_css_selector('._13e0raay')\n",
    "more_links\n",
    "more = more_links[0]\n",
    "more.click()"
   ]
  },
  {
   "cell_type": "code",
   "execution_count": 90,
   "metadata": {},
   "outputs": [],
   "source": [
    "for review in browser.find_elements_by_css_selector('span ._1d784e5'):\n",
    "    reviews = re.sub(r'₩s+', ' ', review.text)\n",
    "    data.append(reviews)"
   ]
  },
  {
   "cell_type": "code",
   "execution_count": 91,
   "metadata": {},
   "outputs": [],
   "source": [
    "url23 = 'https://www.airbnb.co.kr/rooms/38675273?adults=2&check_in=2021-04-29&check_out=2021-04-30&federated_search_id=c22a8ce2-9155-4e9d-8317-d6dabd910502&source_impression_id=p3_1618752074_OovVjCvnREhcDZCv&guests=1'"
   ]
  },
  {
   "cell_type": "code",
   "execution_count": 92,
   "metadata": {},
   "outputs": [],
   "source": [
    "browser.get(url23)\n",
    "time.sleep(4)\n",
    "more_links = browser.find_elements_by_css_selector('._13e0raay')\n",
    "more_links\n",
    "more = more_links[0]\n",
    "more.click()"
   ]
  },
  {
   "cell_type": "code",
   "execution_count": 93,
   "metadata": {},
   "outputs": [],
   "source": [
    "for review in browser.find_elements_by_css_selector('span ._1d784e5'):\n",
    "    reviews = re.sub(r'₩s+', ' ', review.text)\n",
    "    data.append(reviews)"
   ]
  },
  {
   "cell_type": "code",
   "execution_count": 94,
   "metadata": {},
   "outputs": [],
   "source": [
    "url24 = 'https://www.airbnb.co.kr/rooms/49086914?adults=2&check_in=2021-04-29&check_out=2021-04-30&federated_search_id=c22a8ce2-9155-4e9d-8317-d6dabd910502&source_impression_id=p3_1618752198_PdKNyNnxne1SKc6s&guests=1'"
   ]
  },
  {
   "cell_type": "code",
   "execution_count": 95,
   "metadata": {},
   "outputs": [],
   "source": [
    "browser.get(url24)\n",
    "time.sleep(4)\n",
    "more_links = browser.find_elements_by_css_selector('._13e0raay')\n",
    "more_links\n",
    "more = more_links[0]\n",
    "more.click()"
   ]
  },
  {
   "cell_type": "code",
   "execution_count": 96,
   "metadata": {},
   "outputs": [],
   "source": [
    "for review in browser.find_elements_by_css_selector('span ._1d784e5'):\n",
    "    reviews = re.sub(r'₩s+', ' ', review.text)\n",
    "    data.append(reviews)"
   ]
  },
  {
   "cell_type": "code",
   "execution_count": 97,
   "metadata": {},
   "outputs": [],
   "source": [
    "url25 = 'https://www.airbnb.co.kr/rooms/34754005?adults=2&check_in=2021-04-29&check_out=2021-04-30&federated_search_id=aa996e82-26b0-45a6-868e-5c167cc6d6c6&source_impression_id=p3_1618752279_Mh%2B6x9EPeUOt2Y0u&guests=1'"
   ]
  },
  {
   "cell_type": "code",
   "execution_count": 98,
   "metadata": {},
   "outputs": [],
   "source": [
    "browser.get(url25)\n",
    "time.sleep(4)\n",
    "more_links = browser.find_elements_by_css_selector('._13e0raay')\n",
    "more_links\n",
    "more = more_links[0]\n",
    "more.click()"
   ]
  },
  {
   "cell_type": "code",
   "execution_count": 99,
   "metadata": {},
   "outputs": [],
   "source": [
    "for review in browser.find_elements_by_css_selector('span ._1d784e5'):\n",
    "    reviews = re.sub(r'₩s+', ' ', review.text)\n",
    "    data.append(reviews)"
   ]
  },
  {
   "cell_type": "code",
   "execution_count": 100,
   "metadata": {},
   "outputs": [],
   "source": [
    "url26 = 'https://www.airbnb.co.kr/rooms/47955403?adults=2&check_in=2021-04-29&check_out=2021-04-30&federated_search_id=aa996e82-26b0-45a6-868e-5c167cc6d6c6&source_impression_id=p3_1618752440_ySirTIiBrNttBib8&guests=1'"
   ]
  },
  {
   "cell_type": "code",
   "execution_count": 101,
   "metadata": {},
   "outputs": [],
   "source": [
    "browser.get(url26)\n",
    "time.sleep(4)\n",
    "more_links = browser.find_elements_by_css_selector('._13e0raay')\n",
    "more_links\n",
    "more = more_links[0]\n",
    "more.click()"
   ]
  },
  {
   "cell_type": "code",
   "execution_count": 103,
   "metadata": {},
   "outputs": [],
   "source": [
    "for review in browser.find_elements_by_css_selector('span ._1d784e5'):\n",
    "    reviews = re.sub(r'₩s+', ' ', review.text)\n",
    "    data.append(reviews)"
   ]
  },
  {
   "cell_type": "code",
   "execution_count": 104,
   "metadata": {},
   "outputs": [],
   "source": [
    "url27 = 'https://www.airbnb.co.kr/rooms/42506623?adults=2&check_in=2021-04-29&check_out=2021-04-30&federated_search_id=aa996e82-26b0-45a6-868e-5c167cc6d6c6&source_impression_id=p3_1618752501_%2BIU%2FiEF7nibRChuZ&guests=1'"
   ]
  },
  {
   "cell_type": "code",
   "execution_count": 106,
   "metadata": {},
   "outputs": [],
   "source": [
    "browser.get(url27)\n",
    "time.sleep(4)\n",
    "more_links = browser.find_elements_by_css_selector('._13e0raay')\n",
    "more_links\n",
    "more = more_links[0]\n",
    "more.click()"
   ]
  },
  {
   "cell_type": "code",
   "execution_count": 107,
   "metadata": {},
   "outputs": [],
   "source": [
    "for review in browser.find_elements_by_css_selector('span ._1d784e5'):\n",
    "    reviews = re.sub(r'₩s+', ' ', review.text)\n",
    "    data.append(reviews)"
   ]
  },
  {
   "cell_type": "code",
   "execution_count": 108,
   "metadata": {},
   "outputs": [],
   "source": [
    "url28 = 'https://www.airbnb.co.kr/rooms/42650435?adults=2&check_in=2021-04-29&check_out=2021-04-30&federated_search_id=aa996e82-26b0-45a6-868e-5c167cc6d6c6&source_impression_id=p3_1618752619_Gf7mhTFnvV8mpr2P&guests=1'"
   ]
  },
  {
   "cell_type": "code",
   "execution_count": 109,
   "metadata": {},
   "outputs": [],
   "source": [
    "browser.get(url28)\n",
    "time.sleep(4)\n",
    "more_links = browser.find_elements_by_css_selector('._13e0raay')\n",
    "more_links\n",
    "more = more_links[0]\n",
    "more.click()"
   ]
  },
  {
   "cell_type": "code",
   "execution_count": 110,
   "metadata": {},
   "outputs": [],
   "source": [
    "for review in browser.find_elements_by_css_selector('span ._1d784e5'):\n",
    "    reviews = re.sub(r'₩s+', ' ', review.text)\n",
    "    data.append(reviews)"
   ]
  },
  {
   "cell_type": "code",
   "execution_count": 111,
   "metadata": {},
   "outputs": [],
   "source": [
    "url29 = 'https://www.airbnb.co.kr/rooms/41400548?adults=2&check_in=2021-04-29&check_out=2021-04-30&federated_search_id=aa996e82-26b0-45a6-868e-5c167cc6d6c6&source_impression_id=p3_1618752711_wcLKWVt4BPG9BuU9&guests=1'"
   ]
  },
  {
   "cell_type": "code",
   "execution_count": 112,
   "metadata": {},
   "outputs": [],
   "source": [
    "browser.get(url29)\n",
    "time.sleep(4)\n",
    "more_links = browser.find_elements_by_css_selector('._13e0raay')\n",
    "more_links\n",
    "more = more_links[0]\n",
    "more.click()"
   ]
  },
  {
   "cell_type": "code",
   "execution_count": 113,
   "metadata": {},
   "outputs": [],
   "source": [
    "for review in browser.find_elements_by_css_selector('span ._1d784e5'):\n",
    "    reviews = re.sub(r'₩s+', ' ', review.text)\n",
    "    data.append(reviews)\n",
    "    "
   ]
  },
  {
   "cell_type": "code",
   "execution_count": 114,
   "metadata": {},
   "outputs": [],
   "source": [
    "url30 = 'https://www.airbnb.co.kr/rooms/45085818?adults=2&check_in=2021-04-29&check_out=2021-04-30&federated_search_id=aa996e82-26b0-45a6-868e-5c167cc6d6c6&source_impression_id=p3_1618753070_Sw1pTvd67IpZBgyz&guests=1'"
   ]
  },
  {
   "cell_type": "code",
   "execution_count": 115,
   "metadata": {},
   "outputs": [],
   "source": [
    "browser.get(url30)\n",
    "time.sleep(4)\n",
    "more_links = browser.find_elements_by_css_selector('._13e0raay')\n",
    "more_links\n",
    "more = more_links[0]\n",
    "more.click()"
   ]
  },
  {
   "cell_type": "code",
   "execution_count": 116,
   "metadata": {},
   "outputs": [],
   "source": [
    "for review in browser.find_elements_by_css_selector('span ._1d784e5'):\n",
    "    reviews = re.sub(r'₩s+', ' ', review.text)\n",
    "    data.append(reviews)"
   ]
  },
  {
   "cell_type": "code",
   "execution_count": 117,
   "metadata": {},
   "outputs": [],
   "source": [
    "url31 = 'https://www.airbnb.co.kr/rooms/43169331?adults=2&check_in=2021-04-29&check_out=2021-04-30&federated_search_id=2a764977-30dd-421d-905d-cc9580e7f9dd&source_impression_id=p3_1618916749_wWa95O7rLsKiudUV&guests=1'"
   ]
  },
  {
   "cell_type": "code",
   "execution_count": 118,
   "metadata": {},
   "outputs": [],
   "source": [
    "browser.get(url31)\n",
    "time.sleep(4)\n",
    "more_links = browser.find_elements_by_css_selector('._13e0raay')\n",
    "more_links\n",
    "more = more_links[0]\n",
    "more.click()"
   ]
  },
  {
   "cell_type": "code",
   "execution_count": 119,
   "metadata": {},
   "outputs": [],
   "source": [
    "for review in browser.find_elements_by_css_selector('span ._1d784e5'):\n",
    "    reviews = re.sub(r'₩s+', ' ', review.text)\n",
    "    data.append(reviews)"
   ]
  },
  {
   "cell_type": "code",
   "execution_count": 120,
   "metadata": {},
   "outputs": [],
   "source": [
    "url32 = 'https://www.airbnb.co.kr/rooms/33333021?adults=2&check_in=2021-04-29&check_out=2021-04-30&federated_search_id=2a764977-30dd-421d-905d-cc9580e7f9dd&source_impression_id=p3_1618916819_u6cFbguTnurczlGs&guests=1'"
   ]
  },
  {
   "cell_type": "code",
   "execution_count": 121,
   "metadata": {},
   "outputs": [],
   "source": [
    "browser.get(url32)\n",
    "time.sleep(4)\n",
    "more_links = browser.find_elements_by_css_selector('._13e0raay')\n",
    "more_links\n",
    "more = more_links[0]\n",
    "more.click()"
   ]
  },
  {
   "cell_type": "code",
   "execution_count": 122,
   "metadata": {},
   "outputs": [],
   "source": [
    "for review in browser.find_elements_by_css_selector('span ._1d784e5'):\n",
    "    reviews = re.sub(r'₩s+', ' ', review.text)\n",
    "    data.append(reviews)"
   ]
  },
  {
   "cell_type": "code",
   "execution_count": 123,
   "metadata": {},
   "outputs": [],
   "source": [
    "url33 = 'https://www.airbnb.co.kr/rooms/40724087?adults=2&check_in=2021-04-29&check_out=2021-04-30&federated_search_id=2a764977-30dd-421d-905d-cc9580e7f9dd&source_impression_id=p3_1618916855_D0FPV3VfZZ1yAUCK&guests=1'"
   ]
  },
  {
   "cell_type": "code",
   "execution_count": 124,
   "metadata": {},
   "outputs": [],
   "source": [
    "browser.get(url33)\n",
    "time.sleep(4)\n",
    "more_links = browser.find_elements_by_css_selector('._13e0raay')\n",
    "more_links\n",
    "more = more_links[0]\n",
    "more.click()"
   ]
  },
  {
   "cell_type": "code",
   "execution_count": 125,
   "metadata": {},
   "outputs": [],
   "source": [
    "for review in browser.find_elements_by_css_selector('span ._1d784e5'):\n",
    "    reviews = re.sub(r'₩s+', ' ', review.text)\n",
    "    data.append(reviews)"
   ]
  },
  {
   "cell_type": "code",
   "execution_count": 126,
   "metadata": {},
   "outputs": [],
   "source": [
    "url34 = 'https://www.airbnb.co.kr/rooms/48413157?adults=2&check_in=2021-04-29&check_out=2021-04-30&federated_search_id=2a764977-30dd-421d-905d-cc9580e7f9dd&source_impression_id=p3_1618916928_H1YPW0gNldp%2FmfvS'"
   ]
  },
  {
   "cell_type": "code",
   "execution_count": 127,
   "metadata": {},
   "outputs": [],
   "source": [
    "browser.get(url34)\n",
    "time.sleep(4)\n",
    "more_links = browser.find_elements_by_css_selector('._13e0raay')\n",
    "more_links\n",
    "more = more_links[0]\n",
    "more.click()"
   ]
  },
  {
   "cell_type": "code",
   "execution_count": 128,
   "metadata": {},
   "outputs": [],
   "source": [
    "for review in browser.find_elements_by_css_selector('span ._1d784e5'):\n",
    "    reviews = re.sub(r'₩s+', ' ', review.text)\n",
    "    data.append(reviews)"
   ]
  },
  {
   "cell_type": "code",
   "execution_count": 129,
   "metadata": {},
   "outputs": [],
   "source": [
    "url35 ='https://www.airbnb.co.kr/rooms/40992683?adults=2&check_in=2021-04-29&check_out=2021-04-30&federated_search_id=2a764977-30dd-421d-905d-cc9580e7f9dd&source_impression_id=p3_1618916952_2yK8%2BINRrEtW012q'"
   ]
  },
  {
   "cell_type": "code",
   "execution_count": 130,
   "metadata": {},
   "outputs": [],
   "source": [
    "browser.get(url35)\n",
    "time.sleep(4)\n",
    "more_links = browser.find_elements_by_css_selector('._13e0raay')\n",
    "more_links\n",
    "more = more_links[0]\n",
    "more.click()"
   ]
  },
  {
   "cell_type": "code",
   "execution_count": 131,
   "metadata": {},
   "outputs": [],
   "source": [
    "for review in browser.find_elements_by_css_selector('span ._1d784e5'):\n",
    "    reviews = re.sub(r'₩s+', ' ', review.text)\n",
    "    data.append(reviews)"
   ]
  },
  {
   "cell_type": "code",
   "execution_count": 132,
   "metadata": {},
   "outputs": [],
   "source": [
    "url36 = 'https://www.airbnb.co.kr/rooms/22143206?adults=2&check_in=2021-04-29&check_out=2021-04-30&federated_search_id=5076d438-b7ea-4a0b-882f-08b01eb98e48&source_impression_id=p3_1618916996_9mgKi1LIfGry8ivw&guests=1'"
   ]
  },
  {
   "cell_type": "code",
   "execution_count": 133,
   "metadata": {},
   "outputs": [],
   "source": [
    "browser.get(url36)\n",
    "time.sleep(4)\n",
    "more_links = browser.find_elements_by_css_selector('._13e0raay')\n",
    "more_links\n",
    "more = more_links[0]\n",
    "more.click()"
   ]
  },
  {
   "cell_type": "code",
   "execution_count": 134,
   "metadata": {},
   "outputs": [],
   "source": [
    "for review in browser.find_elements_by_css_selector('span ._1d784e5'):\n",
    "    reviews = re.sub(r'₩s+', ' ', review.text)\n",
    "    data.append(reviews)"
   ]
  },
  {
   "cell_type": "code",
   "execution_count": 135,
   "metadata": {},
   "outputs": [],
   "source": [
    "url37 ='https://www.airbnb.co.kr/rooms/38701960?adults=2&check_in=2021-04-29&check_out=2021-04-30&previous_page_section_name=1000&federated_search_id=5076d438-b7ea-4a0b-882f-08b01eb98e48'"
   ]
  },
  {
   "cell_type": "code",
   "execution_count": 136,
   "metadata": {},
   "outputs": [],
   "source": [
    "browser.get(url37)\n",
    "time.sleep(4)\n",
    "more_links = browser.find_elements_by_css_selector('._13e0raay')\n",
    "more_links\n",
    "more = more_links[0]\n",
    "more.click()"
   ]
  },
  {
   "cell_type": "code",
   "execution_count": 137,
   "metadata": {},
   "outputs": [],
   "source": [
    "for review in browser.find_elements_by_css_selector('span ._1d784e5'):\n",
    "    reviews = re.sub(r'₩s+', ' ', review.text)\n",
    "    data.append(reviews)"
   ]
  },
  {
   "cell_type": "code",
   "execution_count": 138,
   "metadata": {},
   "outputs": [],
   "source": [
    "url38 = 'https://www.airbnb.co.kr/rooms/26905629?adults=2&check_in=2021-04-29&check_out=2021-04-30&federated_search_id=5076d438-b7ea-4a0b-882f-08b01eb98e48&source_impression_id=p3_1618917087_R6HGQwVcSQSAqNHo&guests=1'"
   ]
  },
  {
   "cell_type": "code",
   "execution_count": 140,
   "metadata": {},
   "outputs": [],
   "source": [
    "browser.get(url38)\n",
    "time.sleep(4)\n",
    "more_links = browser.find_elements_by_css_selector('._13e0raay')\n",
    "more_links\n",
    "more = more_links[0]\n",
    "more.click()"
   ]
  },
  {
   "cell_type": "code",
   "execution_count": 141,
   "metadata": {},
   "outputs": [],
   "source": [
    "for review in browser.find_elements_by_css_selector('span ._1d784e5'):\n",
    "    reviews = re.sub(r'₩s+', ' ', review.text)\n",
    "    data.append(reviews)"
   ]
  },
  {
   "cell_type": "code",
   "execution_count": 142,
   "metadata": {},
   "outputs": [],
   "source": [
    "url39 ='https://www.airbnb.co.kr/rooms/33284204?adults=2&check_in=2021-04-29&check_out=2021-04-30&federated_search_id=48f9ae5b-91cd-4007-95a8-c040e942efa1&source_impression_id=p3_1618917119_UNYbpMjMCcmQ1dka&guests=1'"
   ]
  },
  {
   "cell_type": "code",
   "execution_count": 143,
   "metadata": {},
   "outputs": [],
   "source": [
    "browser.get(url39)\n",
    "time.sleep(4)\n",
    "more_links = browser.find_elements_by_css_selector('._13e0raay')\n",
    "more_links\n",
    "more = more_links[0]\n",
    "more.click()"
   ]
  },
  {
   "cell_type": "code",
   "execution_count": 144,
   "metadata": {},
   "outputs": [],
   "source": [
    "for review in browser.find_elements_by_css_selector('span ._1d784e5'):\n",
    "    reviews = re.sub(r'₩s+', ' ', review.text)\n",
    "    data.append(reviews)"
   ]
  },
  {
   "cell_type": "code",
   "execution_count": 145,
   "metadata": {},
   "outputs": [],
   "source": [
    "url40 = 'https://www.airbnb.co.kr/rooms/47804241?adults=2&check_in=2021-04-29&check_out=2021-04-30&federated_search_id=a442d71c-4f4e-4805-a37f-8db5a1b27f71&source_impression_id=p3_1618917158_2DksWRonsRF%2FQxCf&guests=1'"
   ]
  },
  {
   "cell_type": "code",
   "execution_count": 146,
   "metadata": {},
   "outputs": [],
   "source": [
    "browser.get(url40)\n",
    "time.sleep(4)\n",
    "more_links = browser.find_elements_by_css_selector('._13e0raay')\n",
    "more_links\n",
    "more = more_links[0]\n",
    "more.click()"
   ]
  },
  {
   "cell_type": "code",
   "execution_count": 147,
   "metadata": {},
   "outputs": [],
   "source": [
    "for review in browser.find_elements_by_css_selector('span ._1d784e5'):\n",
    "    reviews = re.sub(r'₩s+', ' ', review.text)\n",
    "    data.append(reviews)"
   ]
  },
  {
   "cell_type": "code",
   "execution_count": 150,
   "metadata": {},
   "outputs": [],
   "source": [
    "url41 = 'https://www.airbnb.co.kr/rooms/39728164?adults=2&check_in=2021-04-29&check_out=2021-04-30&federated_search_id=9ebb989c-4e37-41b4-bbf2-c0920046a4b8&source_impression_id=p3_1618917250_8k5gBBqSIgMTbYYr&guests=1'"
   ]
  },
  {
   "cell_type": "code",
   "execution_count": 151,
   "metadata": {},
   "outputs": [],
   "source": [
    "browser.get(url41)\n",
    "time.sleep(4)\n",
    "more_links = browser.find_elements_by_css_selector('._13e0raay')\n",
    "more_links\n",
    "more = more_links[0]\n",
    "more.click()"
   ]
  },
  {
   "cell_type": "code",
   "execution_count": 152,
   "metadata": {},
   "outputs": [],
   "source": [
    "for review in browser.find_elements_by_css_selector('span ._1d784e5'):\n",
    "    reviews = re.sub(r'₩s+', ' ', review.text)\n",
    "    data.append(reviews)"
   ]
  },
  {
   "cell_type": "code",
   "execution_count": 153,
   "metadata": {},
   "outputs": [],
   "source": [
    "url42 = 'https://www.airbnb.co.kr/rooms/41228462?adults=2&check_in=2021-04-29&check_out=2021-04-30&federated_search_id=798484b6-3c38-4c04-951e-03c16e274595&source_impression_id=p3_1618917294_NsOJyWMLPfBzgk%2Fy&guests=1'"
   ]
  },
  {
   "cell_type": "code",
   "execution_count": 154,
   "metadata": {},
   "outputs": [],
   "source": [
    "browser.get(url42)\n",
    "time.sleep(4)\n",
    "more_links = browser.find_elements_by_css_selector('._13e0raay')\n",
    "more_links\n",
    "more = more_links[0]\n",
    "more.click()"
   ]
  },
  {
   "cell_type": "code",
   "execution_count": 155,
   "metadata": {},
   "outputs": [],
   "source": [
    "for review in browser.find_elements_by_css_selector('span ._1d784e5'):\n",
    "    reviews = re.sub(r'₩s+', ' ', review.text)\n",
    "    data.append(reviews)"
   ]
  },
  {
   "cell_type": "code",
   "execution_count": 156,
   "metadata": {},
   "outputs": [],
   "source": [
    "url43 = 'https://www.airbnb.co.kr/rooms/17576106?adults=2&check_in=2021-04-29&check_out=2021-04-30&federated_search_id=2b4d20fa-1d03-4505-84b3-804670fce0bf&source_impression_id=p3_1618917346_FkMGzVa5WhScu2GN&guests=1'"
   ]
  },
  {
   "cell_type": "code",
   "execution_count": 157,
   "metadata": {},
   "outputs": [],
   "source": [
    "browser.get(url43)\n",
    "time.sleep(4)\n",
    "more_links = browser.find_elements_by_css_selector('._13e0raay')\n",
    "more_links\n",
    "more = more_links[0]\n",
    "more.click()"
   ]
  },
  {
   "cell_type": "code",
   "execution_count": 158,
   "metadata": {},
   "outputs": [],
   "source": [
    "for review in browser.find_elements_by_css_selector('span ._1d784e5'):\n",
    "    reviews = re.sub(r'₩s+', ' ', review.text)\n",
    "    data.append(reviews)"
   ]
  },
  {
   "cell_type": "code",
   "execution_count": 159,
   "metadata": {},
   "outputs": [],
   "source": [
    "url44 = 'https://www.airbnb.co.kr/rooms/13161563?adults=2&check_in=2021-04-29&check_out=2021-04-30&federated_search_id=70183389-579e-4347-a994-09e9b1351d56&source_impression_id=p3_1618917396_AViQgaQ4mNYyXaix&guests=1'"
   ]
  },
  {
   "cell_type": "code",
   "execution_count": 161,
   "metadata": {},
   "outputs": [],
   "source": [
    "browser.get(url44)\n",
    "time.sleep(4)\n",
    "more_links = browser.find_elements_by_css_selector('._13e0raay')\n",
    "more_links\n",
    "more = more_links[1]\n",
    "more.click()"
   ]
  },
  {
   "cell_type": "code",
   "execution_count": 162,
   "metadata": {},
   "outputs": [],
   "source": [
    "for review in browser.find_elements_by_css_selector('span ._1d784e5'):\n",
    "    reviews = re.sub(r'₩s+', ' ', review.text)\n",
    "    data.append(reviews)"
   ]
  },
  {
   "cell_type": "code",
   "execution_count": 167,
   "metadata": {},
   "outputs": [],
   "source": [
    "url45 = 'https://www.airbnb.co.kr/rooms/44145578?adults=2&check_in=2021-04-29&check_out=2021-04-30&federated_search_id=25983883-56b1-47ff-83cc-792e8487077e&source_impression_id=p3_1618917493_niQG8g%2Ft8zve2wkF'"
   ]
  },
  {
   "cell_type": "code",
   "execution_count": 168,
   "metadata": {},
   "outputs": [],
   "source": [
    "browser.get(url45)\n",
    "time.sleep(4)\n",
    "more_links = browser.find_elements_by_css_selector('._13e0raay')\n",
    "more_links\n",
    "more = more_links[0]\n",
    "more.click()"
   ]
  },
  {
   "cell_type": "code",
   "execution_count": 169,
   "metadata": {},
   "outputs": [],
   "source": [
    "for review in browser.find_elements_by_css_selector('span ._1d784e5'):\n",
    "    reviews = re.sub(r'₩s+', ' ', review.text)\n",
    "    data.append(reviews)"
   ]
  },
  {
   "cell_type": "code",
   "execution_count": 170,
   "metadata": {},
   "outputs": [],
   "source": [
    "url46 = 'https://www.airbnb.co.kr/rooms/39756237?adults=2&check_in=2021-04-29&check_out=2021-04-30&federated_search_id=2cf44471-c90f-426b-af5a-0d86f1c57f4a&source_impression_id=p3_1618917555_pQt1MG8xg7ZCbWiA&guests=1'"
   ]
  },
  {
   "cell_type": "code",
   "execution_count": 171,
   "metadata": {},
   "outputs": [],
   "source": [
    "browser.get(url46)\n",
    "time.sleep(4)\n",
    "more_links = browser.find_elements_by_css_selector('._13e0raay')\n",
    "more_links\n",
    "more = more_links[0]\n",
    "more.click()"
   ]
  },
  {
   "cell_type": "code",
   "execution_count": 172,
   "metadata": {},
   "outputs": [],
   "source": [
    "for review in browser.find_elements_by_css_selector('span ._1d784e5'):\n",
    "    reviews = re.sub(r'₩s+', ' ', review.text)\n",
    "    data.append(reviews)"
   ]
  },
  {
   "cell_type": "code",
   "execution_count": 173,
   "metadata": {},
   "outputs": [],
   "source": [
    "url47 = 'https://www.airbnb.co.kr/rooms/19817480?adults=2&check_in=2021-04-29&check_out=2021-04-30&federated_search_id=25983883-56b1-47ff-83cc-792e8487077e&source_impression_id=p3_1618917602_uZDBtbAm2nZ8IxPZ'"
   ]
  },
  {
   "cell_type": "code",
   "execution_count": 174,
   "metadata": {},
   "outputs": [],
   "source": [
    "browser.get(url47)\n",
    "time.sleep(4)\n",
    "more_links = browser.find_elements_by_css_selector('._13e0raay')\n",
    "more_links\n",
    "more = more_links[0]\n",
    "more.click()"
   ]
  },
  {
   "cell_type": "code",
   "execution_count": 175,
   "metadata": {},
   "outputs": [],
   "source": [
    "for review in browser.find_elements_by_css_selector('span ._1d784e5'):\n",
    "    reviews = re.sub(r'₩s+', ' ', review.text)\n",
    "    data.append(reviews)"
   ]
  },
  {
   "cell_type": "code",
   "execution_count": 178,
   "metadata": {},
   "outputs": [
    {
     "data": {
      "text/plain": [
       "['',\n",
       " '',\n",
       " '깨끗하고 감성있는 분위기있는 숙소입니다',\n",
       " '용산역 바로 2분 거리라서 교통도 되게 좋고 주변에 마트 카페 맛집 등등 많아서 아주 좋았습니다! 저녁에 노을지 지면 뷰도 너무 이쁘고 숙소도 아기자기하게 잘 꾸며서 잘 쉬다 갔어요!',\n",
       " '',\n",
       " '위치가 좋아 잘 쉬다갔습니다. 하지만 아쉬운점이 한둘이 아니네요. 방음이 약하다고는 하셨지만 옆집 재채기소리까지 들릴 정도면 거의 고시원급이 아닌지...신경쓰여서 뭔 말도 못하겠더라구요. 그리고 거의 아무것도 손대지 말았으면 하는것처럼...실수로라도 떨어뜨릴수도 잇는건데 드라이기 떨어뜨리지 말라는 메모를 붙여놓은것부… 더 읽기',\n",
       " '한강뷰가 .,, 그냥 너무좋아요 숙소도 깨끗하고 넓고 호텔이랑 크게 다를건없는것같아여 !!!!',\n",
       " '주차 제외하고는 아주 좋아요',\n",
       " '용산역, 아이파크몰이랑 가깝고, 한강도 걸어서 산책할 만한 거리라 위치가 정말 좋았어요. 한강뷰도 좋았고, 깔끔해서 매우 만족했습니다~',\n",
       " '',\n",
       " '',\n",
       " '',\n",
       " '',\n",
       " '깨끗하고 감성있는 분위기있는 숙소입니다',\n",
       " '용산역 바로 2분 거리라서 교통도 되게 좋고 주변에 마트 카페 맛집 등등 많아서 아주 좋았습니다! 저녁에 노을지 지면 뷰도 너무 이쁘고 숙소도 아기자기하게 잘 꾸며서 잘 쉬다 갔어요!',\n",
       " '좋은 시간 보내셨다니 참 다행이에요, 찾아와주셔서 감사합니다 :-) 남겨주신 후기 잘 간직할게요! 건강유의하시고 다음에 또 뵙길 바랄게요~',\n",
       " '위치가 좋아 잘 쉬다갔습니다. 하지만 아쉬운점이 한둘이 아니네요. 방음이 약하다고는 하셨지만 옆집 재채기소리까지 들릴 정도면 거의 고시원급이 아닌지...신경쓰여서 뭔 말도 못하겠더라구요. 그리고 거의 아무것도 손대지 말았으면 하는것처럼...실수로라도 떨어뜨릴수도 잇는건데 드라이기 떨어뜨리지 말라는 메모를 붙여놓은것부터 시작해서 하지말라는것들도 많고, 기본적이지만서도 나갈때 불끄고 창문닫고 분리수거에 너무 더러우면 청소하라고 밀대도 가져다 놓고... 이럴거면 청소비는 왜 받아가시는건지ㅜ 매너상 그냥 할 수 있는 부분도 하나하나 다 지시해놓고 그외에도 지시사항들이 너무나 많아서 정독에 체크해가면서 했는데도 빠트린 부분이 잇엇을정도로 솔직히 편히 쉬다 갔다는 말은 안나오네요. 휴지부터 제공해준 모든 물건들 다 가구들 안에 미관상 숨겨다놓고 나갈때 썻던 물건까지 제자리에 놓고가란 메세지를 나와서야 확인해서 말씀드립니다. 청소비 안받고 아예 새수건도 갈아놓고 가라하시지 그러셨어요ㅠ 뷰는 직접보면 알겠지만 사진 그대로인듯 아닌듯. 솔직히 신경쓰이는게 많아서 눈에 잘 들어오지도 않네요. 주차도 안되고 근처 숙소들 다 알아봤을때 옆 호텔들과 가격도 엇비슷해서 더 아쉽기도 하네요. 하지만 빔을 꼭 쓰고싶어서 호텔엔 없으니까 그 가격이라고 생각하고 기대하고 왔는데 와이파이가 느려서 계속 끊겨가지고 결국 시도해보다 포기했습니다... 쨋든 숙소퀄리티 지키고 싶으신 마음은 알겠으나 여기서 시간을 보내는 사람들의 마음도 배려하실 수 있었으면 더 좋았을것 같습니다. 정말 고대해왔던 오랜만의 만남으로 잠깐 보낼수있었던 둘만의 시간이었던지라 아쉬운 마음으로 속상해서 길게 말씀드렸습니다',\n",
       " '',\n",
       " '먼저 찾아와주셔서 감사합니다:) 방음같은 경우는 약하기 때문에 사전에 메시지로 최대한 말씀드리고 있습니다~ 외부적 요인이기 때문에 제가 모든 부분을 케어하고 도와드리기 어려우므로 대신해서라도 최대한 청결부분에 신경쓰고 있습니다. 지원님 말씀대로 실수로 떨어뜨리실 수도 있습니다. 저도 다 충분히 이해하는 부분입니다~… 더 읽기',\n",
       " '한강뷰가 .,, 그냥 너무좋아요 숙소도 깨끗하고 넓고 호텔이랑 크게 다를건없는것같아여 !!!!',\n",
       " '주차 제외하고는 아주 좋아요',\n",
       " '용산역, 아이파크몰이랑 가깝고, 한강도 걸어서 산책할 만한 거리라 위치가 정말 좋았어요. 한강뷰도 좋았고, 깔끔해서 매우 만족했습니다~',\n",
       " '청결도, 분위기, 위치 모든 것이 훌륭한 숙소! 체크아웃이 아쉬울만큼 정말 좋은 숙소였습니다!ㅠㅠㅠㅠ 다음에 또 방문하고 싶네요ㅎㅎ',\n",
       " '매우 청결하고 고층이라 뷰가 정말 좋았어요! 특히 노을 질 때랑 야경이 아름다웠습니다^-^',\n",
       " '후기 정말 감사합니다:) 좋은 시간 보내고 가셨길 바라면서 오늘도 좋은 하루 보내세요!',\n",
       " '후기보고엄청기대했는데ㅜㅜ 야경이사진이랑 갭차이도크고 가격대비 좀.. 실망했습니다ㅜㅜ 숙소는정말위치도좋고 깨끗했는데 방음도잘안되서 옆방소리다들리고 새벽에문열고닫는소리 책상옮기는건지 가구끄는소리 전철다니는소리등 조금.. 시끄러워서잠설쳤어요 남자친구생일이라 야경보려구 가격생각안하고 예약했는데 약간실망이였네용..',\n",
       " '후기 감사합니다~ 밤늦은 시간에는 아무래도 건물 전등이 대부분 꺼져요~ 저도 처음 듣는 상황이고 외부적인 요인에 대해서 도움을 드리지 못해 좋은 생일기념일이셨는데 저도 많이 속상하네요:( 아무쪼록 찾아와주셔서 감사합니다. 좋은 하루 보내세요!',\n",
       " '굿',\n",
       " '정말 멋진공간이였습니다. 밤에 야경도 좋고, 청결도도 굉장히 좋습니다.',\n",
       " '좋은 말씀 주셔서 감사합니다 ! 행복한 시간보내셨나요?! 건강유의하시고 좋은 하루 보내세요:-)',\n",
       " '2인이 포근하게 하루를 보내기 좋은 장소 입니다. 용산역 바로 앞 위치에 이마트 도보 2분, 숙소 건물 상가에 편의점, 식당 등 편의시설이 많습니다. 보안도 우수하고 숙소 컨디션도 좋습니다 추천합니다^^',\n",
       " '잊지 않고 후기 남겨주셔서 감사해요:-3 소중히 잘 간직할게요!',\n",
       " '사진보다 더 이쁘고 깔끔했어요 :) 잘 쉬다 갑니다~',\n",
       " '후기 남겨주셔서 감사합니다 ! 소중한 시간 보내셨길 바랄게요:) 좋은 하루 보내세요~!',\n",
       " '겨울철이라 방이 약간 건조한 것 빼고는 아주 좋았습니다! 빔프로젝터와 야경이 좋아요~~',\n",
       " '소중한 후기 남겨주셔서 감사합니다! 한파가 계속되어서 보일러 온도를 좀 높였어요:) 건강유의하시고 새해 복 많이 받으세요~!',\n",
       " '생각보다 깔끔했고 뷰도 좋았습니다!! 공간도 딱 2인이면 충분할 공간이었고 식기류가 구비되어 있어서 좋았어요! 신속한 응답이 더 많은 도움이 되었습니다. 감사합니다!',\n",
       " '엄청 엄청 예쁘고 깨끗한 숙소입니다. 뷰가 정말 정말 예뻐요!!',\n",
       " '소중한 후기 정말 감사합니다 :) 건강 유의하시고 좋은 한주 보내세요!',\n",
       " '잘쉬다갑니다~',\n",
       " '잊지않고 후기 남겨주셔서 감사합니다 :) 좋은 시간 보내셨길 바라면서 새해 복 많이 받으세요 !',\n",
       " '숙소 청결도 매우 좋고요!!! 뷰가 진짜 너무 좋은 숙소였어요~청소도 빨리 끝나셨다고 체크인시간보다 좀더 빨리 들어갈수 있었구요~ 교통도 편리하고 마트도 바로 앞이라 위치도 넘 좋았습니다!',\n",
       " '남겨주신 후기 정말 감사해요! 잘 간직할게요~~ 새해 복 많이받으시고 건강유의하세요! 감사합니다:-3',\n",
       " '위치가 너무 좋고, 야경이나 경치가 뛰어납니다. 청결도도 좋으, 가격이 비싼것이 약간의 흠입니다. 또한 주차가 되지않다는 점도 단점이긴합니다 그래도 멋진 경치와 야경, 청결함을 원한다면 머물기에 적합합니다',\n",
       " '남겨주신 후기 잘 간직할게요 :) 잘 이용해주셔서 감사합니다 ! 주차규정이 까다롭게 변경되어 도와드릴 수 없어서 저도 속상하네요 좋은 시간 보내셨길 바랄게요! 새해 복 많이 받으세요~',\n",
       " '깨끗한 숙소임에는 틀림이없습니다. 그치만 가격에 비해 숙소가 매우 작습니다. 이정도 가격이면 호텔이 오히려 나을것같아요 티슈같은것들은 쓰기쉬운 위치에 있어야하는데 군데 군데 붙은 설명들을 다읽어야 찾을수 있어 그런것들이 좀 불편합니다 야경도 생각보다 별로였어요',\n",
       " '안녕하세요:) 후기 감사합니다. 모두다 꺼내놓으면 지저분해 보이기에 안내메시지로 사전에 비품 위치를 안내해드리고 있습니다:) 서랍장 문만 열면 다 구비되어 있어요. 그리고 조용히 쉬다가는 공간이며 2인이 머물기에 알맞은 곳입니다. 주차도 지원해드렸는데 많이 불편하셨나봐요~ 레이트 체크아웃이 가능한, 뒷정리를 하지 않아도 되는 곳으로 가시면 더욱 좋은 시간 보내실 수 있을것같아요 감사합니다:-)',\n",
       " '사진보다 훨씬 예쁘고 소품이나 인테리어가 진짜 최고에요ㅠ.ㅠ 여기 정말 노을 맛집! 다음에 또 방문하고싶어요',\n",
       " '소중한 후기 감사합니다~ 좋은 시간 보내고 가셨나요:) 건강유의하시고 행복한 연말 보내세요!',\n",
       " '청결이 우수해요 숙소내부&뷰 모두 사진과 똑같아요',\n",
       " '소중한 후기 남겨주셔서 감사합니다. 건강유의하시고 행복한 연말 보내세요:-)',\n",
       " '너무 좋았습니다 ㅎㅎ',\n",
       " '후기 남겨주셔서 감사합니다 ! 항상 건강 잘 챙기시고 2020년 연말 마무리도 잘 하시길 바랄게요:-)',\n",
       " '가격에 놀라실 수 있지만 여기 너무너무 좋아요. 일단 청결에 예민하신 분들도 만족할만한 청결도와 호스트님의 빠른 답변이 정말 기분 좋았어요. 숙소에 들어가는 순간 잔잔하게 노래가 나오고 조명이 은은하게 켜져있었어요. 너무 감동이었어요.',\n",
       " '잊지않고 남겨주신 감사한 후기 잘 간직하겠습니다 ! 아울러 말씀주신 피드백도 감사해요:-) 건강 유의하시고 행복한 연말 마무리 보내시길 바랄게요!',\n",
       " '스피커가 있어 너무 좋았어요~! 좋은 선곡으로 편히 쉬다갑니다~~!',\n",
       " '분위기 좋고 야경도 예뻤어요 무척 깔끔하고 청소에 많이 신경쓰시는 티가 났습니다 친절하고 세세한 정보에 답장도 빠르셨어요 덕분에 좋은 시간 보냈습니다',\n",
       " '용산역 바로 앞에 위치한 멋진 한강과 도시뷰를 감상할 수 있는 최적의 장소였습니다. 넋놓고 바깥 풍경을 한참 내려다보았습니다. 휴식 목적으로 선택한 곳이였는데 탁월한 선택이었습니다. 깔끔하고 아늑한 곳에서 좋은 시간 보냈습니다. 다음에도 이용하고 싶습니다',\n",
       " '제가 가본 숙소 중에 가장 좋았습니다 :) 첫 번째로 숙소에 들어섰을 때 한강뷰와 시티뷰가 한 눈에 들어오는데 굉장히 예쁩니다 ㅠㅠ 두 번째로는 숙소 인테리어들이 너무 깔끔하고 하나하나 신경쓰신게 보였어요,, 다음에도 또 이용하고 싶은 숙소였습니다! 마지막으로 청결인데 이불도 수건도 향기가 좋았고 어메니티들도 깔끔해서 이용하기 좋았습니다 !! 덕분에 편하게 쉬다가 갑니다 ☺️',\n",
       " '감사합니다 서현님:) 너무나 소중한 후기 남겨주셔서 감동이에요. 날씨가 많이 추워졌는데 따뜻한 11월 마무리되시길 바랄게요!',\n",
       " '숙소 위치가 일단 너무너무 좋았어요. 용산역에서 길 건너 바로 있어서 접근성이 너무 좋았고, 바로 아래 스타벅스랑 편의점 그리고 이마트 아이파크몰까지 진짜 완벽했습니다. 숙소도 둘이서 지내기에 너무 분위기있었고, 특히 빔프로젝트가 있어서 너무 좋았어요. 청결도 너무 세심하게 신경써주셔서 만족하면서 1박 보냈습니다. 특히 들어가면 잔잔하게 들려오는 음악소리가 너무 환상적이더라구요 :)',\n",
       " '소라님 후기 덕분에 힘들었던 마음도 다 잊혀지고 정말 감사해요. 찾아와주셔서 한번 더 감사드리고 또 잘 지내고 가셨다니 너무 기분이 좋습니다:) 오늘도 좋은 하루 보내세요~!',\n",
       " '호스트님이 위생에 신경을 많이 쓰신 게 느껴졌어요. 이불에서 나는 향긋한 냄새가 잠이 잘 오게 해주더라구요. 용산역은 엎어지면 코 닿을 거리라 장을 보러 가기도, 구경하러 가기도 좋았어요. 조금 더 걸어서 이촌한강공원이나 국립중앙박물관에 가는 것도 추천해요. 다음에 또 묵고 싶을 만큼 좋은 곳이었습니다! 호스트님이 정말 친절하시고, 이용 방법도 꼼꼼히 알려 주셔서 좋았어요 :)',\n",
       " '메시지 주셨을때부터 친절함이 느껴지셨던 미소님! 이렇게 소중한 후기까지 남겨주셔서 정말 감사합니다. 신경쓰고 있는 부분까지 알아봐주셔서 더욱 뿌듯합니다:-3 항상 건강 유의하시고 좋은 주말 보내세요:) 감사합니다!',\n",
       " '사진에서 보여진 것처럼 전망도 너무 좋고, 무엇보다 청결이 걱정되는때에 하나하나 청결에 신경써주신 점이 너무 좋았습니다:-) 2인이 사용하기 딱 적당한 공간과 세심하게 배치된 인테리어와 빔프로젝터 모두 너무 좋았습니다! 호캉스 부럽지 않은 좋은 휴가를 보낼 수 있어서 아주 만족합니다!',\n",
       " '후기 남겨주셔서 정말 감사합니다! 청결은 무엇보다 제일 신경쓰고 관리하고 있는데 알아봐주셔서 감사해요:) 날이 점점 추워지네요 감기조심하시고 좋은 하루 보내세요!',\n",
       " '안내가 정말 상세하고, 분위기 진짜좋아요☺ 들어가자마자 노래가은은하게 나오는게 좋은 추억만들기 최적의 곳입니다.',\n",
       " '후기 남겨주셔서 감사합니다 유님:-)!! 항상 건강 유의하시고 기분좋은 하루 보내세요!',\n",
       " '평소 용산에서 자주 지인들이나 친구들을 만나요 위치도 중간이고 쇼핑몰도 맛집도 몰려있어 편해서 만나는데 이번에 평상시에 눈여겨 보던 숙소가 있어 숙박 예약을 잡았어요 인테리어도 깔끔하고 무엇보다 후기들이 너무 좋아서 믿고 숙박을 예약 하고 체크인 했는데 문 열자마자 너무 깨끗한 방에 놀라고 화장실이며 이불이며 무엇보다 창 밖으로 바로 보이는 한강이 최고였습니다 빔도 좋았고 작은 소품 하나 하나 센스 있었습니다 밤에는 불 다끄고 조명에 창 밖 보니까 엄청 편안하고 좋았습니다 보고싶었던 영화도 보고 맛있는것도 먹고 호스트님도 너무 친절하셨고 응답도 빨랐습니다 에어비앤비를 여러 지역 이용했었는데 이렇게 마음에 드는곳은 손 안에 꼽아요 정말 푹 잘 쉬다 갑니다 다음에 또 이용하게 되면 여기 예약 할거예요 좋은 숙소로 인해 기분 좋게 머물다가 가요 감사합니다 ❕',\n",
       " '너무나 친절하셨던 수연님:) 소중한 후기 잘 간직할게요 뿌듯하고 힘나는 후기 감사합니다! 시월 마무리 잘 하시고 오늘도 좋은 하루 보내세요:-3 다음에 또 뵙길 바랄게요!',\n",
       " '처음가보는 것을 감안한 친절한 설명으로 길치인 저도 한번에 찾기 쉬웠고 뷰가 정말 좋았어요! 감각적인 인테리어도 너무 좋았습니다! 잘 쉬다 가요 감사합니다 ㅎㅎ',\n",
       " '소중한 후기 남겨주셔서 정말 감사합니다 송이님! 더욱이 특별한날에 찾아와주셔서 영광이에요:) 좋은 추억 많이 남기셨나요?! 날이 많이 추워지고 있는데 감기조심하세요!',\n",
       " '체크인 시간이 늦은거 빼고 다 좋았어요! 넘 깔끔하구 들어가자마자, 블루투스 스피커? 에 잔잔한 노래가 나오고 조명도 켜져 있었는데 넘 좋았어유 :) 침대도 폭신폭신하고 그랬어용 다른 에어비앤비에 비해 일회용품 (치약칫솔 등)이 없는건 아쉬웠어용. 빗도 없어요 ! 수건에선 약간 냄새 났었는데. 그래도 신뢰가 가서 불쾌하고 그러진 않았구요 전체적으로 깔끔하고 나중에 또 오고 싶을 정도로 좋고 그랬습니다 :)',\n",
       " '후기 남겨주셔서 감사합니다:-) 체크인 시간은 한시간 더 일찍 해드렸는데 많이 아쉬우셨나봐요~ 수건은 피부에 직접 닿기에 매일매일 삶아서 꼼꼼하게 관리하고 있습니다! 아무쪼록 좋은 시간되셨길 바라면서 오늘도 좋은 하루보내세요~!',\n",
       " '숙소가 엄청 깨끗하고 야경도 좋아서 밤에 분위기 좋게 와인 한잔 할 수 있는 곳이에요:) 바로 앞에 용산역 아이파크몰도 있어서 너무 편했습니다!',\n",
       " '정말 친절하셨던 윤정님 ! 방문해주셔서 너무나 감사합니다~~~ 늘 건강 조심하시고 오늘도 내일도 좋은 하루되세요! 감사합니다:-3',\n",
       " '침구 푹신푹신하고 청결하게 관리해주셔서 좋았어요.',\n",
       " '찾아와주셔서 감사합니다~:) 좋은 추억 만드셨길 바랄게요!',\n",
       " '너무 깨끗하고 좋았어요~ 뷰도 너무 좋구요~~~',\n",
       " '좋은 추억되셨길 바랄게요! 찾아와주셔서 감사합니다:-3',\n",
       " '덕분에 정말 행복하게 보냈습니다 감사합니다',\n",
       " '잊지 않고 감동적인 후기 남겨주셔서 감사합니다! 건강 유의하시고 좋은 하루 보내세요:-)',\n",
       " '너무 편안한 시간되었습니다',\n",
       " '소중하고 행복한 순간의 한 부분이 될 수 있어서 정말 영광이었습니다:) 항상 건강 유의하시고 좋은 일들이 더 많이 생기시길 바랄게요! 감사합니다!',\n",
       " '청결도 면에서 최고입니다. 방은 생각보다 작았으나 둘이서 하루를 보내기에는 좋았어요. 이마트가 도보 7분정도 걸려서 장을 많이봐도 걸어서 숙소까지 거뜬히 이동가능합니다:)',\n",
       " '후기 감사합니다 :) 딱 두분이서 머물기에 적당한 공간입니다~ 찾아와주셔서 감사합니다 건강 유의하시고 좋은 하루 되세요!',\n",
       " '전체적으로 모든게 마음에 들었습니다!! 특히 이마트가 바로 앞에 있어 코로나에도 불구하고 간단히 장을본뒤 야경을 보며 즐기는 시간은 최고였습니다!! 밤에 빔프로젝트로 넷플릭스 관람도 최고였고요~!!!',\n",
       " '행복한 시간을 보내셨다니 제가 다 행복하네요:) 잊지않고 소중한 후기 남겨주셔서 감사합니다! 건강 유의하시고 오늘도 좋은 하루 되세요!',\n",
       " '너무 좋았습니다! 다음에도 이용할게요!',\n",
       " '출장으로 재방문 하였습니다!! 이번에도 잘 머물다 갑니다! 감사합니다!!',\n",
       " '우선 사진처럼 전망이 진짜 좋았어요. 딱 들어서자마자 훤히 보이더라구요. 비록, 날이 흐려서 쨍한 하늘은 보지 못했지만 그 나름대로 좋았고 야경도 너무 좋았어요. 덕분에 한참을 바라보면서 앉아있었어요. 자세하고 친절한 안내 덕분에 헤매지않고 잘 지내다갑니다. 방 구석구석 적힌 메모들 청결함 너무 감동이였어요. 감사합니다',\n",
       " '정성이 가득 담긴 후기 정말 감사합니다..! 맑은 날의 하늘이 아쉽지만 슬기님 말씀대로 비가 오는 흐린날도 그만의 분위기가 있는 곳이에요:) 찾아와주셔서 감사합니다. 항상 건강 잘 챙기시고 8월의 마무리도 잘 매듭지으시길 바랄게요!',\n",
       " '정말 너무 깔끔하고 상상그대로엿고 아파트시설도 너무좋고 위치도 너무좋고 코로나때문에 주변노는거 는 아쉬웟는데 다 좋았습니다!!!!!!!!! 체크인시간이 아쉬워요용 ㅜㅜ 담에 재방문 의사있습니다!!!!',\n",
       " '좋은 추억 많이 만들었다고 말씀해주셔서 정말 감동받았어요 준석님 마음도 뿌듯하고 더욱 힘낼 수 있게 해주셔서 감사합니다. 늘 건강 유의하시고 오늘도 좋은 하루 보내세요!',\n",
       " '호스트님의 배려덕에 숙소 잘 이용할 수 있었습니다. 제가 방문한 에어비앤비중 가장 깔끔했고 뷰도 좋고 역과의 접근성도 훌륭합니다.',\n",
       " '천사같은 게스트님 덕분에 행복했습니다! 찾아와주셔서 감사하고 건강유의하세요! 비가 또 온다고 하는데 조심하시구요 감사합니다:-)',\n",
       " '특별한 하루를 만들어 줄 수 있는 뷰를 가진 숙소에요.. 깔끔한데다 인테리어도 편안하고침구도 훌륭하구요..!',\n",
       " '친절하신 heejae님~! 남겨주신 소중한 후기 잘 간직할게요:-) 항상 건강유의하세요 ! 감사합니다!',\n",
       " '여자친구 이벤트 준비로 예약했는데 너무 만족스러웠습니다! 주변 편의시설도 가깝고 깔끔한 침구와 화장실, 커피머신, 빔프로젝트, 블루투스 스피커, 조명 등 사진보다 실제로보니 훨씬 더 좋았습니다. 탁트여보이는 한강의 노을과 야경이 인상깊었고 무엇보다 호스트님이 친절하게 안내해주셔서 고마웠습니다!',\n",
       " '친절하게 말씀해주시고 정말 깨끗하게 사용을 잘 해주셔서 감사한데 이렇게 후기까지 남겨주셔서 너무 감동입니다..! 좋은 추억 만드셨길 바랄게요! 장마가 계속되는 요즘인데 건강 유의하세요:-) 감사합니다~!',\n",
       " '비 오는날에 편안한 휴식 하다가 왔습니다',\n",
       " '좋은 추억 만들고 가셨나요? :-) 말씀하나하나 예쁘게 해주셔서 참 감사합니다. 장마가 길어지는데 건강 유의하시고 오늘도 좋은 하루 되세요 !',\n",
       " '숙소는 따뜻하고 예뻤어요~! 사진에 보이는 그대로였고, 예상했던 대로 공간이 넓지는 않았지만 2명이서 1박만 하기로 예정돼 있던 거라 좁고 넓음에 딱히 의의를 두고 예약하지는 않았습니당. 넓은 곳을 찾으시는 분들은 고민해 보셔야 할 것 같아용. (가격 대비) 가장 아쉬웠던 건 체크인-체크아웃 시간이었습니당. 체크인이 오후 4시면 결코 이른 시간이 아니었기에... ㅠ.ㅠ.... ㅎ 이외에 필요한 것들은 전부 구비되어 있었어용. 수건, 식기 등등... 뭔가가 없거나 부족해서 애를 먹지는 않았습니당! 가격에 비하면 아쉬웠던 곳이라... 가성비 숙소 찾으시는 분들은 고민해 보심이 좋을 것 같습니당~!',\n",
       " '소중한 후기 감사합니다:) 설명페이지 확인하셨겠지만 최대 인원이 2명이에요. 두 분이 이용하시기에 적당한 공간입니다~ 그리고 혼자 꼼꼼하게 관리하는 곳이기에 체크인시간은 양해말씀드려요! 이번처럼 체크아웃이 늦어지거나, 뒷정리가 많이 미흡한 경우에는 특히 시간이 더 소요됩니다ㅠㅠ 감사합니다!',\n",
       " '깨끗하고 잘 관리되어 있습니다. 모든게 정돈되어있고 위치도 아주 좋습니다 궁금한게 생겨 물어보았을때 답변도 아주 빠르고 좋았어요~ 다음에 서울올 일이 생기면 또 방문하고싶어요!',\n",
       " '소중한 후기 남겨주셔서 감사합니다 ! 비가 많이 오는 요즘인데 조심하시고 좋은 하루 보내세요!',\n",
       " '비가 많이와서 생각했던 풍경은 아니었는데 나름 그것만에 분위기가 좋았어요',\n",
       " '맑은 날의 풍경은 아니지만 비가 오면 그만의 분위기와 잔잔함이 있어요~ 감사합니다~',\n",
       " '딱 들어가자마자 깔끔하게 정돈된 느낌이 들었고 숙소가 너무 예뻐서 묵으면서 좋았어요 :)',\n",
       " '다음엔 맑은 날의 경치도 보시길 추천합니다. 찾아와주셔서 정말 감사하고 소중한 후기 잘 간직할게요. 감사해요 :-)',\n",
       " '위치도 용산역 바로 앞이라 이마트도 가까워서 장보기 편리했습니당 노을을 보고싶었는데 비오는날이라 못본개 아쉽지만 그래도 반짝이는 한강뷰를 볼수 있어서 좋았습니다! 빔프로젝트도 최고! 한강뷰에서 영화를 보는게 좋았어요 체크인시간이 약간 빠른게 아쉬웠어요ㅠㅎㅎㅎㅎ다음에 또 갈게요 최고!!!',\n",
       " '잊지 않고 후기 남겨주셔서 감사합니다! 맑은날의 풍경도 예쁘지만 비가 오면 그만의 분위기도 잔잔해서 좋아요:-) 다음에 또 뵙길 바랄게요. 좋은 하루 되세요!',\n",
       " '뷰 보고 선택했는데 날씨에 따라 뷰 느낌은 다르긴 하지만 만족했습니다 숙소도 청결했고 위치도 좋아서 편하게 다녔어요 그리고 응답도 빠르게 주시고 예뻤어요!! 다음에 재방문 의사 있습니다!!',\n",
       " '후기남겨주셔서 감사합니다 ! 편하게 지내셨다니 너무 기분이 좋네요:-D 건강유의하시고 다음에 또 뵙길 바랄게요. 좋은 하루 되세요~!',\n",
       " '한강뷰가 정말 좋았습니다!',\n",
       " '소중한 후기 감사합니다 :-) 좋은 하루 되세요 !',\n",
       " '호스트님이 굉장히 애정을 쏟은 숙소라는게 느껴졌어요 ㅠㅠ소품 하나하나 신경을 너무 많이 쓰셨더라구용 다만 ㅠ 제가 갔을때는 드라이기가 고장나서 머리말릴때 꽤나 고생했답니당 ㅠㅠㅠㅋㅋㅋ이번엔 다시 주문해서 배송중이시라고 하시더라구용 근처에 편의점도 다있고 용산역에서 진짜 가까워서 !!편리했어요 건물내 유료주차인점은 불편했지만 주차어플등 이용해서 근처에 저렴하게 주차이용했었구용 정말 뷰,,,뷰최고에오,,,,정말,,,테이블이 창가쪽으로 배치되어있어서 경치보면서 맛있는거 해먹기 너무 좋았어용 잘쉬다왔습니다 감사해요!!!',\n",
       " '후기 감사합니다! 드라이기는 교체완료 했구요 다음에 오시면 수월하게 이용하실 수 있어요~ 좋은 하루되세요:)',\n",
       " '방 깰끔. 용산역이랑 말도 안되게 가까움. 뷰 어메이징. 삼박자 다 갖춘 방이었습니다~',\n",
       " '잊지 않고 소중한 후기 남겨주셔서 감사합니다 !! 좋은 시간 보내고 가셨나요~? 다음에 또 뵙길 바랄게요. 좋은 하루 되세요:)',\n",
       " '꼭 다시 방문하고 싶은 멋진 뷰와 함께 청결하고 편안한 공간이었습니다. 덕분에 푹쉬다 갑니다.',\n",
       " '친절하게 연락해주시고, 또 깨끗하게 이용해주셔서 정말 감사합니다:) 흐린날도 나름대로의 운치가 있지만 다음에는 화창한 날에 오시면 더 좋을 것 같아요! 오늘도 좋은 하루 보내세요:-3',\n",
       " '뷰 굿',\n",
       " '편안한 주말 되셨나요? 잊지 않고 후기 남겨주셔서 감사합니다~! 뒷정리까지 신경써주셔서 정말 감동받았어요..! 오늘도 기분좋은 하루 되세요!',\n",
       " '접근성, 채광, 청결, 숙소 들어가는 방법, 인테리어, 호스트 배려까지 다 마음에 들었어용 야경까지 예뻐서 기분좋게 잘쉬다 갈 수 있었고 늦은 시간에 연락드렸는데도 빨리 답해주셔서 감사했습니다 다음에 기회가 된다면 또 오고싶어요!',\n",
       " '친절하시고 마음씨도 너무 예쁘셔서 제가 더 감동받았습니다 ! 장마가 시작되는데 비 조심하시고 오늘도 좋은 하루 보내세요 :-)',\n",
       " '머무는 내내 비가 오는 흐린 날씨였어도 뷰는 좋았고, 용산역 근처라 아이파크몰에서 놀고 근처 가게도 많아서 충분 하였습니다. 친절하고 세세하게 알려주셔서 지내는데 불편함이 없었어요. 청결함은 두말하면 잔소리. 재방문 의사 100%입니다!!',\n",
       " '잊지않고 후기 남겨주셔서 정말 감사합니다 ~! 잘 이용해주신 너무나 친절하신 hana님! 다음에 또 뵙기를 바랄게요. 감사합니다 :-3',\n",
       " '숙소가 너무 깨끗하고 아늑했어요. 바깥 풍경도 너무 예뻤구요! 하루 쉬어가기에 적절한 곳이었습니다.',\n",
       " '푹 쉬었다가 가셨나요~? 찾아와주셔서 감사하고 다음에 또 뵙길 바랄게요. 후기 소중하게 간직하겠습니다 :-)',\n",
       " '정말 좋았어요!! 다음에도 또 있다오고 싶어요',\n",
       " '소중한 후기 남겨주셔서 감사합니다 :-) 좋은 하루 보내세요~ 다음에 또 뵙길 바랄게요 !',\n",
       " '진짜 너무 예쁘고 예쁘고 또 예뻐요,, 다음생에 태어나도 또 갈래요,,, !!!!!!!!!!!!!!',\n",
       " '센스있는 비공개 후기까지 감사합니다 시진님! 찾아와주셔서 정말 감사드려요:) 좋은 시간 보내셨나요~? 다음에 또 오신다면 꼭 기억하고 있다가 더 많이 챙겨드릴게요. 감사합니다 !!',\n",
       " '',\n",
       " '2박 3일 지내고 후기 올립니다! 좋았던 점 : 1. 뷰 : 사진 그대로 한쪽 벽이 전부 유리로 되어있고 밖에 한강도 보입니다!! 날씨 좋으면 밝을 때, 노을질 때, 해지고 야경까지 색다른 3가지 풍경을 다 볼수 있습니다. 2. 접근성 : 용산역에서 정말 가깝습니다. 2박삼일동안 아이파크몰 이마트만 세번갔는데도 산책 겸 부담없어서 너무 좋았어요! 3. 방음 : 역에서 기차가 정말 많이다니는데 소리는 거의 들리지 않구요, 옆집 윗집 혹은 복도에서 나는 소음도 거의 들어본적이 없어요! 아쉬운 점 : 1. 청결 : 다른 후기에 청소비가 비싼 만큼 깨끗하다는 글들이 많았는데, 저는 들어가자마자 손씻으러 간 화장실 선반에 긴 머리카락이 있더라구요 ㅜ 침대 시트라던지 수건, 바닥, 비치된 그릇들은 정말 깨끗했는데, 오히려 기대가 커서 그런지 조금 아쉬웠습니다ㅜ 2. 가구 배치 : 저는 사진찍는걸 좋아하고, 티비보는건 별로 안좋아해서 창문 앞 식탁에서 사진 많이 찍고 빔 연결해서 영화 몇편 볼 생각으로 2박 했습니다! 근데 막상 방에 가보니까 제가 생각한거랑 가구 배치가 다르더라구요 ㅠㅠ 호스트님 운영하시는 방이 두개이신건지, 가구 배치를 항상 바꾸시는건지 잘 모르겠지만 사진보시면 A - 창문앞에 식탁, 식탁 옆에 창문이 벽을 바라보게 배치된 구조가 있고, B - 창문앞에 창문을 바라보는 침대, 침대 앞에 식탁이 있는 배치가 있어요! 저는 A 를 생각하고 예약했는데 B 여서 많이 당황했습니다..근데 방 배치도 절대 바꾸지 말라고 하시더라구요..ㅜ 침대가 정가운데에 그것도 창문을 바라보게 되어있어서 빔도 보기가 상당히 애매한 상황이었구요ㅠㅠ 예약 원하시는 분들은 방 구조도 미리 꼭꼭 확인하고 진행하시는게 좋을 것 같아요!! 결론 : 조용하게 멋있는 뷰 보면서 휴식만 원하시는 분께는 정말 강추… 더 읽기',\n",
       " '빔 프로젝터 너무 좋았습니다 침대도 푹신했고요 여기서 살고만 싶었어요!!!!!!',\n",
       " '찾아와주셔서 정말 감사합니다 송이님! 소중한 후기 남겨주셔서 참 행복하네요. 건강유의하시고 다음에 또 뵙길 바랄게요:-3',\n",
       " '편안하게 잘 쉬었습니다. 깨끗한 공간이라 집처럼 마음 놓고 머물렀어요~ 음악, 빔, 커피도 모두 감사히 잘 즐겼어요. 창밖을 보며 멍때리기 좋은 공간^^',\n",
       " '하루 잠깐이지만 온전한 휴식을 보내셨나요 정우님?! 찾아와주셔서 감사하고, 이렇게 소중한 후기 남겨주셔서 더욱 감사드려요. 다음에 또 뵈었으면 좋겠습니다! 좋은 하루 되세요 :-)',\n",
       " '위치도 좋고 보안도 좋아 안전한 것 같았어요 숙소 곳곳에 메모가 있어 궁금한 점을 따로 문의드릴 일은 없었구요 용산역 앞이라 기차나 전철 소리가 들리긴 하는데, 그렇게 시끄럽지도 않고 창문을 닫으면 전혀 들리지 않아요 전체적으로 좋았어요',\n",
       " '소중한 후기 감사합니다 수정님! 좋은 추억 많이 만드셨길 바라면서 오늘도 좋은 하루 되세요 :-)',\n",
       " '청결과 뷰가 뛰어난 숙소입니다 완벽해요ㅠㅠ',\n",
       " '화진님! 소중한 후기 감사합니다:) 좋은 시간 보내셨나요? 다음에 또 뵙길 바랄게요! 평온한 하루 되세요!',\n",
       " '정말 깔끔해서 좋았고 세심한 배려가 묻어나서 감동 받았던 것 같습니다 또 방문하고 싶어요!',\n",
       " '잊지않고 소중한 후기 남겨주셔서 감사합니다 :) 다음에 또 뵙길 바랄게요! 좋은 하루 되세요~!',\n",
       " '일단 위치도 너무 좋고 경관도 너무 좋았어요 ! 사진이 너무 예뻐서 실제로 보고 실망할까봐 걱정했는데 실물이 더 예뻤어요!!!! 화장실도 엄청 깨끗해서 만족했습니다 그리고 보인도 좋았구요! 곳곳에 사용법 쪽지도 있어서 빔프나 블투스피커도 쓰기 편했어요 블투스피커는 처음에 좀 헤맸는데 모드를 바꾸니까 빔프랑 연동 할 수 있더라구요 그래서 잘 즐겼습니다~ 분위기 내고 싶거나 일상에서 편안한 휴식을 즐기고 싶다면 꼭 추천 드립니다!',\n",
       " '소중한 후기 감사합니다 !! 편안하게 잘 쉬었다 가셔서 참 다행이에요. 오늘도 좋은 하루 보내세요:)',\n",
       " '한강과 일몰이 정말 아름다운 숙소였습니다 청결하고 친절한 호스트분 덕분에 정말 행복했습니다. 다음에 꼭 다시 가 보고 싶은 숙소입니다.',\n",
       " '요즘 어디 가기 무섭잖아요~ 소중한 사람과 단둘만의 시간을 보낼 수 있는 좋은 곳이었습니다. 용산역 근처여서 밥 먹으러 나가기도 나쁘지 않았어요! 무서워서 산책은 안했지만 근방에 한강공원도 있더라고요!',\n",
       " '인근 에어비엔비나 호텔을 많이 이용해 보았지만 이렇게 깨끗한 숙소는 처음이었습니다. 깔끔하다-정도가 아니라 구석구석 먼지라곤 찾아볼 수 없을 정도로 깨끗해서 들어가서 묵고 지내는게 조심스러울 정도였어요. 잔이나 식기도 물자국 하나 없을 정도로 깨끗했고 게다가 가지런히 정리까지 되어 있었습니다. 침구류 역시 청결도, 촉감 모두 만족스러웠습니다. 실제 뷰는 사진보다 훨씬 예쁘고, 안내대로 TV는 없지만 둘이 방문한다면 오히려 한강이 보이는 테이블에서 오붓하고 차분하게 대화를 나눌 수 있는 기회일 것 같습니다. 위치 용산역에서 매우 가깝고 근처 편의시설(편의점, 식당, 마트등) 훌륭하고 체크인 과정도 친절한 안내로 어려움 없었습니다. 근처 호텔에서 묵을까 이곳에서 묵을까 고민을 했었는데, 이동편의, 뷰, 차분한 느낌을 생각했을 때 잘한 선택이었다고 생각합니다.',\n",
       " '잊지 않고 너무나 소중한 후기 남겨주셔서 감사합니다. 워낙 사용을 잘해주셔서 제가 더 감동받았어요. 가장 신경을 많이 쓰는 부분이 청결이고, 당연하다고 생각해요. 말씀해주신 피드백도 감사하고 더 편리하게 업그레이드 할게요! 다음에 또 뵙기를 바랄게요. 좋은 하루 되세요 :^)',\n",
       " '알려주신 내용으로 잘 다녀왔습니다 처음이신 분들은 엘리베이터 타실때 생소할 수 있는데 45층이면 4하고 5를 눌러주시면 45층에 올라갑니다 저도 처음 보는 형식이였어요 냉장고에 얼음이 잔뜩 구비되있는 세심함에 좋았습니다 덕분에 콜라를 시원하게 먹었네요ㅎ',\n",
       " '체크인 안내시에 알려드리고 있는 내용인데 다른 분들을 위해서 한번 더 설명해주셨네요! 감사합니다:) 소중한 후기 잘 간직할게요. 좋은 하루 되세요!',\n",
       " '들어가자마자 와~했어요 아기자기 너무 예쁘고 뷰도 멋지고 깨끗하고 좋았어요~용산역 바로 앞이라 편의시설도 많고 갈곳도 많아요~좋은시간 보내고갑니당 ㅎㅎ~!',\n",
       " '언제나 제일 신경쓰는 부분이 청결인데 마음에 들어 해주셔서 감사해요. 이렇게 칭찬해주실때면 참 기분좋고 뿌듯하고 덕분에 하루종일 기분이 좋아요! 행복한 추억 만드셨길 바라고 다음에 또 뵈었으면 좋겠습니다.',\n",
       " '비가 잔잔히 쏟아질때 가서 날이 흐렸지만 흐린대로 운치 있었어요. 뷰도 좋고 벽걸이플레이어가 블루투스연결도 되서 음악도 취향껏 들었어요! 주방용품부터 시작해서 기본양념(소금.설탕.식용유.올리브등) 식기류들도 있어서 정말 편했아요 바로앞이 용산역이여서 이마트도있고해서 있을게 다있어요 . 화장실도 쾌적하고 칫솔치약.클렌징용품만 들고가시면 충분히 씻는데 문제없더라구요 빔프로젝트도 있어 원하는 영화나 뮤비틀어서 음악도 같이들을수있구요 친한친구네집에서 쉬어가는 느낌이였어요 재방문 의사 100프로에요~',\n",
       " '맑은 날의 푸른 하늘을 못보셔서 너무 아쉬워요. 하지만 규선님 말씀대로 흐린날의 분위기도 정말 운치있어요:) 잊지 않고 너무나 소중한 후기 남겨주셔서 감사합니다. 맑은 날, 다시 한번 뵈어요!',\n",
       " '제가 갔던 숙소중에 단연코 제일 좋았습니다!!!',\n",
       " '소중한 후기 남겨주셔서 감사합니다! 찾아와주셔서 감사하고 다음에 또 뵙길 바랄게요:-)',\n",
       " '뷰가 좋고 편의시설이 바로앞에있어요!',\n",
       " '소중한 후기 감사합니다!! 너무 뿌듯하고 다음에 또 오시게 되면 더욱 신경써서 준비할게요. 건강 조심하시고 좋은 하루 보내세요:)',\n",
       " '뷰를 기대하고 갔는데 뷰만큼이나 숙소의 청결도, 인테리어, 집기들까지 전부 기대 이상이었습니다 동행이 에어비앤비를 많이 이용했었는데 지금까지 이용한 숙소 중 가장 청결한 숙소였다고 좋았다고 하네요 저도 정말 잘 이용했습니다 위치나 호스트 분의 친절함 등 무엇 하나 부족한 것 없었습니다 정말 좋은 시간 보냈습니다 :)',\n",
       " '잊지 않고 후기 남겨주셔서 감사합니다. 또 가장 많이 신경쓰는 부분도 무척 좋게 봐주셔서 기분이 너무 좋아요 ! 찾아와주셔서 감사합니다~!',\n",
       " '후기 그대로에요! 들어가자마자 갬성이 느껴졌고 무엇보다 너무 청결했어요! 위치도 최고였고 시설도 모두 최고였습니당 정말 주변에서 많이 물어봤고 또 많이 추천 할 만큼 아주 좋았습니다 :)',\n",
       " '좋게 봐주셔서 정말 기분이 좋네요 도란님~:-3 가장 신경 쓰는 부분이 청결인데 마음에 드셨다니 다행입니다. 건강 유의하시고 다음에 또 뵈어요!',\n",
       " '뷰 맛집입니다. 깔끔하고 예뻐요',\n",
       " '너무 좋았어요 사진보다 좋았어요',\n",
       " '깨끗하고 좋았어요',\n",
       " '찾아와주셔서 감사합니다 :-D 다음에 또 뵙기를 바랄게요 ! 좋은 하루 되세요~~',\n",
       " '처음 문 열고 들어가면서 감탄했어요. 정말 첫인상이 이렇게 좋았던 숙소는 없었어요. 소품 하나하나 호스트분이 굉장히 세심히 준비하신게 느껴지고 청결도면에서 정말 만족했습니다. 숙소 이용 시 이렇게 작은 부분까지 설명 잘 해주시는 호스트분 처음이에요. 덕분에 정말 편하게 쉬었습니다.위치도 좋고 뷰도 좋고 빔프로젝터 이용해서 야경보며 영화 한편 보고 푹 잘잤어요. 다음에 또 이용하고 싶습니다~',\n",
       " '제일 처음 연락주실 때부터 친절하셨던 유정님! 잠깐이었지만 두분의 따뜻함이 느껴졌어요. 다음에 오시게 된다면 더욱 안락하게 준비해놓을게요. 감사합니다!',\n",
       " '조용하게 편하게 잘 쉬고 왔습니다',\n",
       " '우선 정말 초고층의 뷰가 저에게는 가장 환상적이였습니다. 후기에 사진을 첨부할 수 없는게 아쉬울 정도에요ㅠㅠ! 용산역에서 접근성이 정말 좋아요! 다만 하나 혹시 이마트에서 장 볼 계획 있으신 분들은 둘째주 넷째주 일요일은 아닌가 잘 확인해보세용! 저희는 휴무일에 걸려서 택시 타고 다른 마트까지 다녀왔습니다. 정말 침대 밑에도 먼지 하나 없는 걸 보며 하나하나 다 청소해주신다는 점에서, 어딜봐도 흠잡을 곳 없는 청결입니다! 다이슨 드라이기도 써보고ㅎ 블루투스 스피커로 분위기도 좋았고 아침에 커피도 내려먹고 정말 좋았어요. 뷰가 너무 좋아 빔프로젝트는 못써봤는데 이래저래 알찬 방입니당. 호스트님과 연락도 매우 빨라서 좋아요:-) 다음에도 이용할거 같아요!! 다들 코로나 조심하시고 좋은 여행되세요^_^',\n",
       " '뷰도 아주 좋고 시설도 깨끗합니다. 아주 좋았습니다.',\n",
       " '다른점도 다 좋았지만 무엇보다 청결이 제일좋았어요 !! ㅎㅎ',\n",
       " '깨끗하고 공간이 적당해서 답답하지 않으면서 야경도 예쁜 곳! 을 찾다가 발견하고 예약한 곳인데 사진 이상이었습니다,,한강뷰로 낮에는 물론 야경도 예쁘고 집 전체가 청결 자체였어요! 침구도 예쁘고 깨끗했고 느낌이 너무 좋아서 어디 브랜드껀지 알고싶었습니다..ㅎㅎ 식기류도 종류별로 있어서 요리 해먹기도 좋았고 블루투스 스피커로 홈카페 느낌도 냈다가 아침에는 커피도 만들어먹을 수 있어서 너무 만족스러웠어요! 세심하게 신경써주신 느낌이 드는 공간이었습니다! 주변에 편의점도 있고 용산역에 이마트도 있어서 주변 편의시설은 물론 위치도 완벽해요! 생일이었는데 숙소 덕분에 더 즐거운 시간 보낼수 있었습니다 한번더 오고싶다고 느낀 에어비앤비는 처음이에요 감사합니다:)',\n",
       " '고층이어서 뷰가 진짜예뻐요! 깔끔하게 청소되어있고 전체적으로 깔끔하고 편안했어요 용산역과도 가까워서 좋았어요!',\n",
       " '여긴 정말 추천드려요! 위치도 너무 좋고 뷰가 정말 최고입니다! 원래 계획이 있었지만 탁 트여서 멀리까지 보이는 창문으로 노을지고있는 한강과 구름, 반짝반짝 야경 보느라 일정 취소하고 숙소에만 있었을정도로 뷰 최고예요... 여긴 진짜 뷰 맛집 저는 이용하지 않았지만 요리 도구도 충분히 다 준비가 되있었구요 여긴 쉬고싶은 마음과 몸만 오셔도 대만족하고 가실 숙소같아요. 호스트님께 메세지 보내면 바로바로 연락주셔서 정말 내집같이 푹~~ 잘 쉬고온 숙소입니다!',\n",
       " '마트, 편의점, 맛집, 지하철역 다 근처에 있어서 이동이 편리했고 숙소는 깔끔하고 잘 정돈되어 있어 들어갈 때 기분이 좋았습니다. 수압도 좋고 따뜻한 물도 잘 나오고 손세정제도 있었습니다. 무엇보다 뷰가 너무너무 예뻤고 호스트님의 빠른 답변과 친절함이 아주 만족스러웠습니다. 또 이용하고 싶은 곳이에요 :)',\n",
       " '정말 훌륭, 완벽한 뷰와 바로 연락되는 좋은 호스트분, 그리고 서울 한복판에서 이런 어메이징 뷰를 즐길 수 있다니.. 가격대비 대박만족 청결도 대 만족입니다. 더 설명할 것 없이 모든게 좋았어요!! 좋은 시간 보내고 갑니다 감사합니다!',\n",
       " '사진으로 봤던 뷰 보다 훨씬 좋았어요! 조금 더 일찍 들어가서 노을을 보았다면 더욱 좋았을 것 같아서 아쉬워요~~ 전반적으로 무척이나 깔끔해서 좋았습니다!!!',\n",
       " '용산역이 바로 앞에있어서 마트도 가까워서 엄청 편리하고 요리도 해먹을수있어서 좋았어요!! 그리고 들어오자마자 뷰가 대박이었어요! 특히 노을질때가 제일 이뻤어용^^그리고 마지막으로 청결한게 제일 좋았어용! 다음에도 또오고싶은 마음이 듭니다~~',\n",
       " '좋아요',\n",
       " '최고의 전망입니다',\n",
       " '숙소 깨끗하구 야경도 너무 이뻐요!!',\n",
       " '위치도 너무 편리했고 상권도 좋았어요!! 배달음식도 시켜먹을 곳도 많았습니다 ㅎㅎ 식기류랑 전부 다 갖춰있고, 수건도 넉넉히 챙겨주셔서 잘썼어요~~!!❤️ 호스트분도 답도 빠르셔서 감사했습니다 ㅎㅎ',\n",
       " '은채님 잊지않고 후기 남겨주셔서 감사합니다 :-) 뒷마무리까지 깔끔하게 정리해주셔서 더욱 감사해요! 다음에 오실때 재방문 혜택 잊지 않고 꼭 챙겨드릴게요. 좋은 하루 되세요!',\n",
       " '작년에 방문했을 때 너무 좋은 시간 보냈어서 이번에 또 방문했어요. 그 사이에 침구도 바뀐거같고 분위기 자체도 훨씬 아늑해졌네요! 작은 부분까지 꾸준히 관리하시는게 느껴져서 더 만족스러웠어요. 호스트님도 친절하게 응답해주시고 준비해주신 편지랑 와인 감사합니다. 잘 마셨어요!',\n",
       " '안녕하세요 준석님!! 재방문 진심으로 감사합니다. 그리고 변화된 부분까지 알아봐주셔서 더욱 감사하고 덕분에 기분이 정말 좋아요. 제가 꼼꼼하게 직접 관리하는만큼 계속 발전하는 모습 보여드릴게요. 벨르홈을 잊지 않고 다시 찾아주시는 분들이 점점 많아지고 있어서 정말 행복합니다. 좋은 여행 되셨길 바라면서 다음에 또 뵈었으면 좋겠어요. 감사합니다 ^_^',\n",
       " '여러번 방문했지만 역시 좋습니다!',\n",
       " '늘 찾아주시는 주영님 감사합니다 ! 깨끗하게 이용해주시고 이렇게 잊지 않고 후기도 남겨주셔서 더욱 감사해요~~! 좋은 하루 보내시고 다음 재방문혜택 꼭 준비해드릴게요:-)',\n",
       " '자세한 위치안내도 좋으셨구 ~ 중간에 핸드폰을 두고 나와 밖에서 못들어가고잇을때도 신속하게 연락되서 빨리해결할수잇엇구 와인도 챙겨주셨는데 저희가 못먹구와서 너무 아쉬워요 ~ 꼭 다시 이용하고싶은 숙소에요 ^^ 깨끗하구 날만좋으면 하늘구름도 너무 이쁠거같아용 ㅎㅎ',\n",
       " '소중한 후기 감사해요 예지님. 빠르게 도움 드릴 수 있어서 정말 다행이에요! 다음에 오시면 와인도 드시면서 오붓하고 여유있는 시간 보내시길 바랍니다! 좋은 하루 되세요 :-)',\n",
       " '깔끔하구 아주 좋았어요~ 뷰도 최고!!',\n",
       " '준비해드린 초콜릿과 와인은 잘 드셨나요~? 친절하게 연락주시고 뒷정리까지 깔끔하게 해주셔서 아까도 말씀드렸지만 정말 감동이었어요..! 좋은 주말 보내시고, 남겨주신 후기 감사합니다!',\n",
       " '해외여행이 따로 필요없는 뷰 였습니다. 인테리어가 군더더기 없이 깔끔했고 늘 인스타감성을 꿈꿔왔던 그런 완벽한 숙소였어요. 너무 마음에 들었어요. 깔끔한 인테리어 만큼 놀랍도록 청결해서 더 완벽했습니다:) 다른 숙소와는 다르게 센스있던 부분이 블루투스 스피커에 내장되어 있는 씨디 노래가 넘 좋았어요! 인테리어만 좋은 것이 아니라 인스타감성을 마무리 할 수 잇는 최고의 정점이었습니다. 덕분에 분위기 있게 저녁먹으면서 한강도 보구 밤에는 빔으로 영화도 보면서 정말 잊지못할 추억을 만들고 가요! 호스트님이 메시지 응답도 매우 빠르고, 친절하게 챙겨주셔서 더 편하게 지낼 수 있었습니다. 다음에 꼭 다시 올게용! 감사합니다!',\n",
       " '저희 belle home에는 마음이 참 따뜻한 게스트분들이 와주시는 것 같아서 이런 후기를 볼때면 정말 행복하고 마음이 뿌듯해져요. 제가 신경쓰고 관리하는 부분들을 잘 알아봐주시고 또 하영님과 잘 맞아서 참 다행이에요! 다음에 또 뵙기를 진심으로 바랄게요. 소중한 후기 남겨주셔서 감사하고 또 감사합니다:)',\n",
       " '숙소 선택할 때 분위기랑 청결을 가장 중요하게 보는데 둘 다 정말 만족스러웠어요. 호스트분도 친절하고 빠르게 피드백해주셔서 기다림 걱정 없이 지냈네요. 밤에 창밖으로 보이는 야경도 너무 이뻤구 위치도 좋아서 편리했어요. 인테리어도 깔끔하고 아기자기하게 해두신거 보니 관리 열심히 잘하시는 것 같더라구요. 아무튼 다음에 또 근처 갈 일 있으면 다시 이용할 생각입니다~! 강추에요!',\n",
       " '감사합니다 재의님! 섬세한 부분까지 알아봐주시고 무엇보다 좋은 시간 보내셨다니 제가 다 행복해지네요! 소중한 후기 너무나 감사드립니다:-)',\n",
       " '먼저 집이 너무 깔끔했어요! 사진과 똑같이 예쁘게 꾸며져있고, 블루투스 스피커가 추가되어있는점 더 좋았습니다ㅎㅎㅎ 밤에 야경도 너무 예뻤구, 많은 것 중에 제일 좋았던 건 호스트분께서 답장이 엄청 빠르셨어요!! 빠른 피드백이 최고였습니다! 대신 직접 조리를 했던 사람으로서 냄비가 하나였던 점과 나이프가 없었던 것이 조금 아쉬웠습니다...ㅠㅡㅠ 하지만 전체적으로 완벽했습니다! 추천해요',\n",
       " '먼저 찾아와주셔서 감사합니다 유림님 :) 편안하게 지내고 가셨다니 다행이에요! 냄비와 나이프 피드백 감사해요. 더 준비해놓을게요! 다음에 또 뵈었으면 좋겠어요! 좋은 하루 되세요 :-)',\n",
       " '용산역이랑 가까워 매우 좋았고, 굉장히 깔끔했습니다 :) 야경도 너무 멋졌어요',\n",
       " '친절하고 젠틀하신 인환님! 찾아와주셔서 감사합니다. 좋은 추억 되셨음 좋겠어요 :-)',\n",
       " '친절하신 호스트님과 더할나위 없이 멋진 숙소 덕분에 즐거운 휴일을 즐길 수 있었습니다! 뷰가 아름다워서 블루투스 스피커 챙겨가서 재즈를 틀어놓으니 더더욱 분위기가 좋았습니다 :) 다음에도 꼭 방문할게요 <3',\n",
       " '깨끗하게 이용해주셔서 감사해요 ! 두고 가신 귀걸이를 직접 전해 드릴 수 있어서 다행이었어요..! 아, 벽걸이 블루투스 스피커를 새로 구비했어요:-) 찾아와주셔서 감사하고 다음에 또 뵙기를 바라겠습니다!',\n",
       " '일단 경치가 너무 좋아보이고, 용산역과 가까운점이 좋아서 예약했습니다! 여자친구 생일파티를 운치있는곳에서 하고싶었는데 정말 딱이였어요! 유에스비에 영화를 넣어와서 빔프로젝터로 보려고했는데 모든 영상이 호환이 안되더라구요.. 다행히 미러링으로 시청했습니다! 밤에 무조건 불끄고 영화보세요 정말 최고에요 호스트분도 너무 친절하시고 청결도 최고입니다~! 최고의장점은 바로옆에 이마트가 있는게 아닐까 싶어요 정말 행복한 하루 보냈습니다! 다시한번 호스트님께 감사의 말씀 드립니다~',\n",
       " '유에스비가 잘 될 수 있도록 다시 체크해보겠습니다! 행복한 기념일을 벨르홈에서 보내주셔서 감사해요. 후기도 잊지 않고 상세하게 남겨주셔서 더욱 감사드리고, 다음에 또 오게되시면 더욱 편안하게 지내실 수 있게 더 신경쓰겠습니다! 감사합니다.',\n",
       " '방이 너무 깨끗했어요~ 소음도 없구 야경도 예쁘고 빔프로젝터로 영화보기 추천합니다!',\n",
       " '밤에 야경보면서 빔프로젝터로 오붓하게 영화보면 참 좋죠! ㅎㅎ 후기 남겨주셔서 정말 감사합니다 :-)',\n",
       " '행복한 하루, 편안한 밤 잘 보내고 갑니다. 분위기도 좋고 시설도 좋습니다. 야경도 마음에 드네요 다음에 또 오고싶네요.',\n",
       " '행복한 하루가 되셨다니 정말 감사합니다 ! 참 뿌듯해지고 제가 다 행복해졌어요:) 다음에는 더 편하게 지내실 수 있도록 더 준비를 할게요. 소중한 후기 정말 감사합니다!',\n",
       " '서울여행으로 온 저에게는 용산역이 바로 앞이어서 위치가 젤 좋았어요. 청결에 예민한 편인데 먼지 하나 없을 정도로 깨끗했고 일단 뷰가.. 너무 좋았습니다. 늦은 시간 연락드렸는데도 빠르게 응답해주시고 머무는내내 세심하게 신경써 주셔서 정말 좋았어요! 다음에 서울오면 또 여기 올거예요!!',\n",
       " '먼저 소중한 후기 남겨주셔서 감사합니다. 청결도와 편안함을 가장 우선시하고 꼼꼼하게 신경쓰고 있는데 알아봐주셔서 감사해요:) 재밌는 여행이셨길 바라고 다음에 또 뵈어요 !',\n",
       " '용산역 코앞이라 다음 일정으로 이동하기 쉽고 내부도 굉장히 깨끗했습니다. 사진처럼 깔끔하고 뷰가 좋아요. 호스트분도 친절하셨어요 감사합니다 :) Location wise super convenient especially if you’re looking to take the train from yongsan station and the host was very informative!',\n",
       " '위치도 역이랑 가까워서 너무 좋았고 그냥 주변에 할것도 많고 그냥 대박이였습니다..!!! 숙소도 엄청 깨끗하고 처음에 지켜야하는 사항이 다소 많아서 조금 그랬지만 그래두 그만큼 내가 더 깨끗하게 이용할 수 있다는 점이 좋았던거 같아요! 밤에 야경은 진짜 대박이구 전체적인 느낌이랑 가구가 너무 제 취향에 맞아서 진짜 다시 또 오고 싶었던 숙소였던거 같아요!! 밤에 빔 프로젝터 키니까 그냥 분위기가 대박이였어요..ㅠㅠㅠ 편히 머물다 갈 수 있게 엄청 친절하시고 답변도 바로바로 해주셔서 너무 감사했어요!',\n",
       " '많이 배려해주셔서 제가 더 감동받았습니다~ 정말 잘 사용해주시고 뒷마무리까지 완벽하셔서 얼마나 놀랐는지 몰라요:) 소중한 후기 잘 간직할게요 감사합니다!',\n",
       " '좋은추억 남기고 갑니다^^감사해요!',\n",
       " '찾아와주셔서 감사합니다 승호님! 좋은 추억 많이 만드셨길 바랄게요. 좋은 하루 되세요:-)',\n",
       " '너무너무 좋은 숙소였습니다☺️ 코로나로 여행을 취소하고 너무 아쉬운 마음에 에어비엔비로 숙소나 잡구 놀자! 했는데 호캉스와 고민했던 저희 커플은 나름의 휴식을 이 숙소에서보낸걸 너무 행복하게 느꼈습니다! 핸드드립 커피와 햇살이 들어오는 집 ! 너무나도 낭만 그 자체였어요,,\\u200d♀️ 뷰도 좋았습니다 용산역에서 옴청 가깝구 이마트도 용산역에서 이어지니 이만한 호캉스가 따로 없었어요 아이폰 미러링으로 빔 연결해서 영화보는데 너무 좋았어요 ㅠㅠ 티비보다 빔프로젝트가 정말 제 취향이였구 블루투스 스피커 또한 아주 이쁜 디자인이라 몇번을 사진 찍었는지 모르겠네요 아 그리고 침대가 정말 푹신했습니다 제가 집 아니면 잘 못자는데 너무 편안하게 잤어요 이런집에서 자취하고싶다 라고 느꼈습니다 좋은 숙소 정말 감사합니다❣️',\n",
       " '너무 너무 좋은 위치에 푹 쉬다가 오기 좋은 공간 이었습니다~~',\n",
       " '편안하게 지내셨다니 참 다행이에요 :-) 잊지 않고 후기 작성해주셔서 정말 정말 감사합니다. 오늘도 좋은 하루 보내세요 !',\n",
       " '지난 번에 왔었는데 너무 좋아서 친구랑 재방문했어요!!! 호스트님과 연락이 빠르게 잘돼서 불편함이 없었고, 제가 가장 중요하게 생각하는 청결도도 여전히 좋았습니다. 특히 수건이랑 베딩이 뽀송뽀송한게 여전하시네요!! 그래서 다시 방문했구요:) 노을과 야경은 이만한 곳이 정말 없어요ㅎㅎ 집안 곳곳 세심한 배려가 느껴져서 머무는 내내 기분 좋았습니다! 호캉스 같은 힐링 하다 갑니다~:) 다음에 또 올게요~!',\n",
       " '재방문 너무나 감사드립니다 수지님!! 그리고 이렇게 감사한 후기 작성해주셔서 정말 감동이에요..! 앞으로도 깔끔하게, 깨끗함을 유지하도록 할게요:) 감사합니다.',\n",
       " '⠀⠀⠀⠀⠀⠀⠀⠀⠀⠀⠀⠀⠀⠀⠀⠀ ⠀⠀⠀⠀⠀⠀⠀⠀ ⠀⠀ ⠀⠀⠀⠀⠀⠀⠀⠀',\n",
       " 'Great place! Super clean and cozy and close to many things.',\n",
       " '',\n",
       " '',\n",
       " '위치도 너무좋고 깔끔하고 세심한 소품들에 찐으로 감동했습니다❣️',\n",
       " '주변에 맛집 카페도 많고 역이랑도 가깝고 너무 좋았어요! 센스있는 컵라면, 과자, 칫솔까지 감사합니다 :)',\n",
       " '너무 잘 머물다 갑니다. 물건 놓고 갔는데 다시 가져갈때까지 신경써주신 주인분 너무 감사드려요 집도 너무 깨끗하고 위치도 좋고 친구들이랑 재밌게 놀고 가요ㅎㅎ',\n",
       " '위치성과 접근성 모두 훌륭했구요, 하루만 있기 아쉬울 정도로 숙소가 아늑하고 편안했습니다! 정말 좋은 추억을 가져가는 것 같아요☺️',\n",
       " '주변에 먹을 곳이 많아서 고민하지 않아도 되고, 하나 아쉬운 것은 환기가 살짝 어렵다는 점? 그래도 너무 좋은 공간이었습니다:)',\n",
       " '매우 깨끗하고 공간도 적당히 넓어서 좋았습니다',\n",
       " '',\n",
       " '',\n",
       " '',\n",
       " '위치도 너무좋고 깔끔하고 세심한 소품들에 찐으로 감동했습니다❣️',\n",
       " '구비해놓은 소품이 마음에 드셨다니 정말 다행입니다:) 더 감동드릴 수 있는 소품들을 고민해보도록 해야겠네요!! 방문해주셔서 감사드립니다 ^^',\n",
       " '주변에 맛집 카페도 많고 역이랑도 가깝고 너무 좋았어요! 센스있는 컵라면, 과자, 칫솔까지 감사합니다 :)',\n",
       " '후기 남겨주셔서 감사드립니다 :) 주말 마무리 잘하세요',\n",
       " '너무 잘 머물다 갑니다. 물건 놓고 갔는데 다시 가져갈때까지 신경써주신 주인분 너무 감사드려요 집도 너무 깨끗하고 위치도 좋고 친구들이랑 재밌게 놀고 가요ㅎㅎ',\n",
       " '후기 남겨주셔서 정말 감사드립니다 :) 친구분들과 재밌는 시간 보내셨길 바래요',\n",
       " '위치성과 접근성 모두 훌륭했구요, 하루만 있기 아쉬울 정도로 숙소가 아늑하고 편안했습니다! 정말 좋은 추억을 가져가는 것 같아요☺️',\n",
       " '소중한 후기 감사드립니다!! 즐거운 시간보내셨길바라고 찾아주셔서 감사드립니다 :)',\n",
       " '주변에 먹을 곳이 많아서 고민하지 않아도 되고, 하나 아쉬운 것은 환기가 살짝 어렵다는 점? 그래도 너무 좋은 공간이었습니다:)',\n",
       " '소중한 후기 남겨주셔서 감사드립니다!! 즐거운 시간 보내셨길 바래요:)',\n",
       " '매우 깨끗하고 공간도 적당히 넓어서 좋았습니다',\n",
       " '후기 감사드립니다 :) 즐거운 주말되세요',\n",
       " '좋아요',\n",
       " '후기 감사드립니다 :)',\n",
       " '',\n",
       " '',\n",
       " '위치도 너무좋고 깔끔하고 세심한 소품들에 찐으로 감동했습니다❣️',\n",
       " '주변에 맛집 카페도 많고 역이랑도 가깝고 너무 좋았어요! 센스있는 컵라면, 과자, 칫솔까지 감사합니다 :)',\n",
       " '너무 잘 머물다 갑니다. 물건 놓고 갔는데 다시 가져갈때까지 신경써주신 주인분 너무 감사드려요 집도 너무 깨끗하고 위치도 좋고 친구들이랑 재밌게 놀고 가요ㅎㅎ',\n",
       " '위치성과 접근성 모두 훌륭했구요, 하루만 있기 아쉬울 정도로 숙소가 아늑하고 편안했습니다! 정말 좋은 추억을 가져가는 것 같아요☺️',\n",
       " '주변에 먹을 곳이 많아서 고민하지 않아도 되고, 하나 아쉬운 것은 환기가 살짝 어렵다는 점? 그래도 너무 좋은 공간이었습니다:)',\n",
       " '매우 깨끗하고 공간도 적당히 넓어서 좋았습니다',\n",
       " '',\n",
       " '',\n",
       " '',\n",
       " '위치도 너무좋고 깔끔하고 세심한 소품들에 찐으로 감동했습니다❣️',\n",
       " '구비해놓은 소품이 마음에 드셨다니 정말 다행입니다:) 더 감동드릴 수 있는 소품들을 고민해보도록 해야겠네요!! 방문해주셔서 감사드립니다 ^^',\n",
       " '주변에 맛집 카페도 많고 역이랑도 가깝고 너무 좋았어요! 센스있는 컵라면, 과자, 칫솔까지 감사합니다 :)',\n",
       " '후기 남겨주셔서 감사드립니다 :) 주말 마무리 잘하세요',\n",
       " '너무 잘 머물다 갑니다. 물건 놓고 갔는데 다시 가져갈때까지 신경써주신 주인분 너무 감사드려요 집도 너무 깨끗하고 위치도 좋고 친구들이랑 재밌게 놀고 가요ㅎㅎ',\n",
       " '후기 남겨주셔서 정말 감사드립니다 :) 친구분들과 재밌는 시간 보내셨길 바래요',\n",
       " '위치성과 접근성 모두 훌륭했구요, 하루만 있기 아쉬울 정도로 숙소가 아늑하고 편안했습니다! 정말 좋은 추억을 가져가는 것 같아요☺️',\n",
       " '소중한 후기 감사드립니다!! 즐거운 시간보내셨길바라고 찾아주셔서 감사드립니다 :)',\n",
       " '주변에 먹을 곳이 많아서 고민하지 않아도 되고, 하나 아쉬운 것은 환기가 살짝 어렵다는 점? 그래도 너무 좋은 공간이었습니다:)',\n",
       " '소중한 후기 남겨주셔서 감사드립니다!! 즐거운 시간 보내셨길 바래요:)',\n",
       " '매우 깨끗하고 공간도 적당히 넓어서 좋았습니다',\n",
       " '후기 감사드립니다 :) 즐거운 주말되세요',\n",
       " '좋아요',\n",
       " '후기 감사드립니다 :)',\n",
       " '답변도 빠르시고 모든게 좋았어요 담에 또갈게용!',\n",
       " '소중한 후기 감사드립니다 :) 기회되실때 또 놀러와주세요',\n",
       " '숙소길 찾는게 어렵다고 해서 좀 걱정했는데 하나도 어렵지 않고 매우 쉬웠어요! 숙소 들어가자마자 마음에 너무 쏙 들었습니다. 침대도 너무 푹신하고 화장실도 너무 깨끗하고 너무 좋았어요 하루만 있다가는게 아쉬울정도로 만족했습니다! 넷플릭스 어떻게 보는지 몰라서 연락드렸는데 쉽게 바로 알려주셔서 잘 볼 수 있었습니다 ㅎㅎㅎ 방음이 안돼서 저는 잠을 설쳤지만 그래도 괜찮았어요! 라면이랑 티, 웰컴 과자(?)를 준비해주셔서 아침에 잘 먹고 나왔습니다 문들어갈때 환영글도 작성해주셔서 여행간 것처럼 너무 신났네요 ㅎㅎㅎ 가성비 최고입니다!! 다시한번 또 방문하고 싶어요 호스트님도 너무 친절하십니당! 추천해요~!!',\n",
       " '정성스러운 후기 남겨주셔서 감사드립니다:) 잠도 푹주무셨으면 좋으셨을텐데 ㅠㅠ 그 점은 제가 보완할 수 있게 노력해보겠습니다!! 그래도 즐거운 시간 보내신 것 같아 저도 기분이 좋네요 ㅎㅎ 방문해주셔서 정말 감사드립니다!',\n",
       " '가성비 좋은 숙소에 간식거리도 챙겨주시구 무엇보다 웬만한 호텔 침구보다 좋아요 ㅋㅋㅋㅋㅋ 정말 오랜만에 편하게 푹 잤네요 ㅎㅎ 덕분에 만족스럽게 머물고 갑니다 ! 답이 빨라서 더욱 좋았어요 감사합니다~!',\n",
       " '수지님께서 숙면을 취하실 수 있었다니 저도 너무 기쁘네요 :) 즐거운 시간 보내셨길 바라고 방문해 주셔서 다시 한번 감사드립니다!! 행복한 4월 되세요^^',\n",
       " '위치는 찾기 힘들었으나 방은 너무 예뻤습니다! 호스트님께서 센스 있게 칫솔, 간식도 다 인원 수 맞춰서 준비해주셔서 재밌게 놀다가 갑니다! 응답도 빠르셔서 문제도 빨리 해결했습니다 감사합니다 ㅎㅎ',\n",
       " '소중한 후기 감사드립니다 :) 즐거운 주말보내세요!!',\n",
       " '숙소 너무 깨끗하고 시설도 좋고 위치도 좋고 최고였어요! 또 방문하고 싶네요 ㅎㅎ',\n",
       " '소중한 후기 남겨주셔서 감사드립니다 :) 즐거운 주말 보내세요!!',\n",
       " '숙소 위치도 좋고 방도 세심하게 잘꾸며주셨고, 깨끗하고 아늑했습니다~!^^ 호스트분 답장속도도 빠르고 감사히 잘 묵고갑니다.',\n",
       " '즐거운 시간보내셨길 바래요 ㅎㅎ 후기 감사드립니다 :)',\n",
       " '호스트님께서 연락이 정말 빠르게 되어서 의사소통이 너무 활발했던 점이 진짜 좋았어요! 그리고 집이 생각보다 더더더 예뻤습니다☺ 써 있는 것처럼 내 집처럼 아늑하고, 인테리어가 전체적으로 우디톤인 것도 넘 좋았어요ㅠㅠ 낮은 책상에서 먹는 게 아니라 제대로 된 식탁에서 맛있는 음식 먹을 수 있어서 그 점도 좋았고, 수압이랑 물 온도도 딱 좋았어요! 침대는 푹신했고 이불도 감촉이 너무너무 말랑말랑하고 착 감겨서 진짜 좋았어요 주기적으로 방문하고 싶은 곳이에요 진짜... 블루투스 스피커도 넘 예쁘고 커튼에 달아놓으신 전구도 넘 예뻤어요ㅎㅎ 무엇보다 제가 실수로 귀걸이를 놓고 왔는데 청소하시면서 따로 챙겨놔주시고, 제가 받으러 갈 수 있게 신경 써주신 점이 너무 좋았습니다! 정말 게스트를 생각해주시는 호스트분 같아요. 집 주변에 편의시설도 많고 음식점, 카페도 많아요. 정말 편하게 머물다 갑니다! 다음에 또 올게요',\n",
       " '정성이 넘치는 후기 ㅠㅠ 정말 감사드립니다 이 후기덕분에 오늘하루 피로가 다 날아갈거 같네요!! 나중에 기회되시면 친구분들과 또 놀러와주세요 :) 즐거운 하루 보내세요',\n",
       " '조아용',\n",
       " '후기 남겨주셔서 감사드립니다 :) 좋은하루 보내세요!',\n",
       " '숙소 인테리어도 예쁘고 호스트분이 친절하게 답변해주셔서 좋았어요 : )',\n",
       " '가격도저렴하고 따뜻하고 넓고 최고입니다 짱조아요진짜 특히 이불 ㅜㅜㅜ 넘 포근해... 역도가깝고근처에 편의시설도많구 최고에요짱짱!',\n",
       " '단아하고 깔끔한 공간이었습니다 잘 쉬다가 가요:D',\n",
       " '후기 남겨주셔서 감사드립니다 :)',\n",
       " '용산, 신용산역과 가까워서 넘 좋았고 근처에 맛집도 많아서 짱 좋았어요! 특히 숙소 바로 옆에 ‘몽상가’라는 화로구이집에서 저녁식사 했는데 최고였습니다!! 숙소도 편하고 청결하고 숙박업소 모텔이나 호텔 가는 느낌이 넘 싫어서 에어비앤비 한 거였는데 친구네 자취방 놀러간 기분이고 아늑하고 넘 좋았습니다!! 조명도 곳곳에 있어서 이쁘고 블루투스 스피커도 넘 귀엽고!! 세면도구나 바디로션도 구비돼있고 정말 잘 쉬다 갑니다!! 넷플릭스도 잘 봤어요! 아아 그리고 신용산역 앞에서 따릉이 빌려타고 노들섬도 다녀왔는데 생각보다 가깝고 진짜 너무 좋았어요!!',\n",
       " '와..! 정성스러운 후기 ㅠㅠ 감사드립니다! 만족하신거 같아 저 역시 기분이 최고네요 :) 방문 감사드리고 나중에 또 놀러와주세요',\n",
       " '인테리어도 정말 예뻤고 조리기구나 화장실이 아주 깨끗해서 최고였던 숙소였습니다! 나중에 또 오고싶어요 답장도 빨리 주시고 감사했습니다^_^',\n",
       " '즐거운 시간 보내신거 같아 저도 너무 기쁩니다 ㅎㅎ 후기 남겨주셔서 정말 감사드리고 더 좋은 숙소가 되도록 노력하겠습니다! :)',\n",
       " '코로나 때문에 놀 곳이 없어 잠깐 머무른 곳인데, 용산역 쪽 올 때마다 재방문 의사 있어요. 호스트 분과 의사소통이 원활하며, 숙소가 원룸에 화장실이 붙어 있는 형식인데 좋은 향이 났고, 부분부분 아기자기하게 꾸며져 있어 힐링이 되었습니다. 제일 맘에 든 두가지는, 분위기에 좋은 조명과 블루투스 스피커였어요. 노란빛 조명을 켜고 좋아하는 노래를 잔잔히 트니, 이 세상 힐링이 아니었습니다. 기존 댓글처럼 물이 빨리 따뜻해지지 않고, 보일러가 늦게 가동되는 느낌은 살짝 들었지만, 그냥 생각 한번 들 정도였고 불편함 없이 잘 지냈습니다. 다음에 혼자 힐링여행 올 때 재방문할 예정이에요. 좋은 공간, 저렴한 가격, 친절한 안내 감사합니다.',\n",
       " '잠깐 머무셨다 가셨지만 정성스러운 후기 남겨주셔서 감사드립니다:) 재방문 하시게 될 기회가 있으시다면 언제나 환영이고 더 좋은 숙소로 보답해드리겠습니다! 감사합니다:)',\n",
       " '포근하고 따뜻하게 잘 지내다 왔어요~ 궁금한거 문의 했을때 답변도 빨리 주셨고 변경사항 요청에도 응답이 빨랐어요. 문열고 들어갔을때 향기가 참 좋았어요. 블랙체리향을 맡으면 이 집이 생각날것 같아요. 아이 병원때문에 잡은 숙소이지만 다음엔 좋은 일로 놀러갈때 꼭 들리고 싶어요^^',\n",
       " '소중한 후기 감사드립니다 :) 다음에는 편하게 또 놀러와주시면 좋겠네요 ! 방문 감사드립니다 :)',\n",
       " '넘 만족스러운 공간이었습니다',\n",
       " '소중한후기 감사드립니다 :) 다음에 또 놀러와주세요!',\n",
       " '호스트 님이 엄청 친절하세요! 사진과 똑같고 모든 공간 향기가 너무 좋았습니다 :D 잘 쉬었어요',\n",
       " '예서님 소중한 후기 정말 감사드립니다!! 좋은 시간되셨다니 저 역시도 기분이 좋네요 :) 방문 감사드리고 기회되시면 또 놀러와주세요!',\n",
       " '호스트님이 친절하셔서 좋았습니다!',\n",
       " '소중한 후기 감사드립니다 :)',\n",
       " '착한 가격에 이렇게 만족스러운 에어비엔비 퀄리티 찾기 어렵습니다.. 최근 이용했던 숙소들은 다소 아쉬운 경험이 많았는데 여기는 주인분이 정말 열심히 관리하시는것 같고 사소한 부분까지 신경 써주신다는 느낌이 많이 들어서 너무 좋았습니다!! 재방문 의사 200%!!!',\n",
       " '소중한 후기 정말 감사드립니다!! 만족하셨다니 저도 너무 기쁘네요 :) 더 좋은 숙소가 되도록 노력하겠습니다, 감사드려요!',\n",
       " '너무 좋았어요! 신용산역에서 가는 길이 조금 무섭긴 했지만 가까워서 좋았어요~ 코로롱 떄문에 연락드렸을떄도 친절히 답변해주셔서 감사했습니다 =)',\n",
       " '소중한 후기 남겨주셔서 정말 감사드립니다 :) 더 좋은 숙소가 되도록 노력할게요',\n",
       " '너무 좋앗어요~ 방도 아늑하고 넷플릭스도 시청 가능하구!! 심지어 간단한 간식과 컵라면까지!! 호스트분의 센스에 무한 감동햇습니다~ 친구와 함께 잘 쉬다 가요 감사합니다:)',\n",
       " '후기 정말 감사드립니다 ㅎㅎ 좋은 시간 보내셨길바라고 날씨가 또 추워지는데 감기조심하세요!!',\n",
       " '위치도 신용산역이라 가깝고 문의드릴때마다 신속하게 응답해주셔서 편하게 머물다 갑니다 !!!!!!',\n",
       " '소중한 후기 감사드립니다 !! :)',\n",
       " '위치는 용산역에서도 한 10분 정도 걸린거같구요 신용산역에서는 정말 가까울거같아요. 체크인 전에 꼼꼼하게 안내해주셔서 헤메는 일 없이 잘 체크인 했습니다. 도착했을때 웰컴 티랑 이런것도 준비해주셧고 3명이 지내기 부족함 없었구요. 넷플릭스 되는 티비라서 정말 좋았고 인덕션이 아닌 가스레인지라서 화력도 너무 좋았어요! 그릇이나 컵, 이런것도 준비가 잘 되어있어서 부족함 없었구요. 냄비 뿐만아니라 기본적인 소금,후추 등도 구비되어있어서 좋았습니다. 그리고 곳곳에 비치된 디퓨처들로 향기도 좋았구요. 수건도 넉넉하게 준비되어있었고 딱히 단점을 찾을수없는 공간이에요. 방음도 크게 저희는 느낀건 없엇구요. 포근하고 편하게 잘 지내다 갑니다! 위치도 시설도 가격도 모든 것이 나무랄곳 없는 공간이에요. 나름 에어비앤비 많이 해봤는데 평균 이상의 공간입니다! 추천해요!',\n",
       " '우와... 정성이 넘치는 후기 정말 감사드립니다ㅠㅠ 불편함 없이 잘 지내고 가신것 같아 너무 다행입니다!! 더 좋은 숙소가 되도록 노력하겠습니다 :) 2호점도 열게되면 놀러와주세요!! 항상 건강하세요',\n",
       " '다른 에어비앤비 숙소를 가면 조금씩은 실망하는 일이 다수였는데 정말 만족하고 지낸 숙소에요~ 청결과 소독에 힘써주시고 계시다는 것을 느낄 수 있었고 포근하고 아늑한 방과 침구류가 아주 좋았습니다^^ 조명들도 예쁘고 큰 식탁이 있어 너무 편히 이용했어요~ 하나하나 나열하기 입아플정도로 센스가 미쳤구요! 수건도 아주 넉넉해서 좋았습니다⭐️이곳에서 정말 행복한 시간을 보내다 가요⭐️',\n",
       " '숙소가 마음에 드신것 같아 저도 정말 행복하네요!! 정성스러운 후기 남겨주셔서 감사드리고 피드백 주신부분도 제가 더 신경써서 보완해놓도록 하겠습니다 :) 감사드리고 항상 건강하세요! :)',\n",
       " '사진에 나와있는대로 되게 아늑하고 분위기있네요. 딱히 더러운 부분도 없었고 침구류도 깔끔해서 만족했습니다. 위치가 워낙 좋아서 추천드려요',\n",
       " '코로나로 어려운 시기에 방문해주셔서 정말 감사드립니다. 좋은 하루이셨길 바라고 또 놀러와주세요! :)',\n",
       " '2주동안 머물렀는데 생각했던 것보다 이쁘고 방도 넓어서 편하게 지냈어요! 향기도 그렇고 여기저기 신경써주신게 보여서 좋았습니다~ 그리고 문도 두 개라 혼자 지냈는데도 안심하고 지냈습니당ㅎㅎ',\n",
       " '소중한 후기 감사합니다 한결님!! 멀리서 방문해주셨는데 마음에 드신거 같아 정말 다행이네요 :) 방문해주셔서 감사드리고 항상 건강하세요!!',\n",
       " '좋아요',\n",
       " '후기 감사드립니다! 기회 되시면 다음에 방문해주세요, 문제없이 잘 준비해 두겠습니다 :)',\n",
       " '생각보다 훨씬 좋았습니다',\n",
       " '소중한 후기 감사드립니다 :)',\n",
       " '에어비앤비 첫 사용이었는데 청결함과 빠른 피드백에 감사했습니다. 무엇보다 조명이 감성적이어서 좋은 분위기에서 지낼 수 있었습니다. 위치도 신용산역에서 도보로 가까워서 매우 만족스웠어요^.^',\n",
       " '소중한 후기 정말감사드립니다! 만족스러운 하루가 되신것 같아 저도 기쁘네요 :) 방문해주셔서 감사드리고 또 놀러와주세요',\n",
       " '숙소가 역에서 가까운 위치에 있고 찾아가는길도 사진으로 세세히 설명해주셔서 찾아가는데 어렵지 않았습니다~체크인하고 제가 처음으로 느낀건 정말 깔끔하고 사진에서 보던것보다 더 넓다는 점이였습니다. 인테리어가 아기자기 하니 따뜻한 느낌이 들었고 전체적으로 향에 신경을 많이 쓰셔서 집안에 은은한 향이 감도는게 아주 맘에 들었습니다^^ 그리고 질문에도 빠른게 응답해주시고 배려해주시는게 느껴져서 더 좋았습니다~다음에도 용산주위에 오게 될일이 있다면 꼭 다시 방문할게요! *^^*',\n",
       " '소중한 후기 정말 감사드립니다 진경님! 후기에 정성이 느껴져서 너무 감동이네요 ㅠㅠ 하루 잘 보내셨길 바라고 다음에 방문하셨을 땐 더 좋은 숙소로 보답하겠습니다:) 새해 복 많이 받으세요!',\n",
       " '너무 깔끔하고 감성적인 공간이였어요 자취로망 뿜뿜 상승했어요...! 위치도 역이랑 가깝고 1호선도 조금만 걸으면 되더라고요..! 바로바로 의사소통도 되고 세심하게 알려주셔서 잘 쉬다왔습니다! 완전 추천드려요ㅠㅠ',\n",
       " '한나님의 소중한 후기 감사드립니다 !! 한나님께서도 나중에 이쁜 자취방을 꾸미셨으면 좋겠네요 :) 방문해주셔서 감사드리고 기회되면 또 찾아주세요',\n",
       " '친절하시구 방도 너무 이쁘고 좋았습니다 앞에 먹거리두 있구 편의점구 역이랑 가깝구 쇼핑몰도 있어서 좋았어요 ㅎㅎ',\n",
       " '소중한 후기 정말 감사드립니다 :) 방문해주셔서 감사드리고 얼마남지않은 2020년 마무리 잘 하세요!!',\n",
       " '숙소로 가는길도 자세하게 안내해주신 덕분에 초행길인데도 어렵지않게 바로 찾을 수 있었고 문열고 안에 들어간 순간부터 너무 아늑하고 포근한 느낌이 가득해서 좋았습니다❣︎웰컴으로 준비해놓은 라면도 배가 있었다면 먹고왔을텐데 배불러서 먹지 못했어요ㅠㅠ접시,와인잔,오프너까지 있고 특히 발사믹이 있는 부분에서 엄청 감동했답니다..그리고 침대 진짜 너무 너무 푹신해서 꿀잠잤어요ㅠㅠ예약 잘했다는 이야기 엄청 들었네요!!다음번에도 용산쪽에 가게 된다면 꼭 다시 가겠습니다!!',\n",
       " '우와.. 진짜 정성넘치는 후기입니다 정말 손에 꼽히는 최고의게스트이십니다!! 다음에 놀러오시면 더좋은 시설로 보답할게요:) 감사합니다',\n",
       " '일단 호스트님 너무친절하시고 피드백도 매우빠르게주셔서 감사했습니다!숙소는 역이랑 매우 가까워서 좋았고 아늑하고 청결하고 인테리어도 완벽!너무좋았습니다!기대이상으로 만족하며 좋은시간 보내고와서 용산역근처 숙소 구하시는분들께 강추드려요!',\n",
       " '소중한 후기 감사합니다 설혜님! 방문해주셔서 너무 감사드리고 저도 설혜님 덕분에 즐겁게 호스팅할 수 있었습니다. 건강 잘 챙기시고 다음에 또 놀러와주세요~!',\n",
       " '위치가 신용산역에서 굉장히 가까웠고 사전에 찾아오는 길도 친절히 사진으로 알려주셔서 좋았습니당. 응답도 정말 빨라요..! 숙소는 사진처럼 청결하게 잘 정리되어 있었고 보일러 덕분에 너무 따뜻하고 쾌적하게 쉴 수 있었어요 곳곳에 세심하게 신경 쓰신 게 보여서 숙소 이용하는데 불편함 하나 없이 잘 머물다 갑니다 :) 게스트를 위해 준비한 간식도 잘 먹었습니당 다음에 기회가 된다면 또 이용하고 싶어요!!',\n",
       " '정성스러운 후기 정말감사드립니다 세나님! 좋은 게스트분을 호스팅하게되어 저도 기쁩니다 ㅎㅎ 날씨 추워지는데 건강 잘 챙기세요! 감사합니다 :)',\n",
       " '실제로 보니 더 안락하고 좋았어요~',\n",
       " '소중한 후기 감사드립니다! 더 좋은 숙소가 되도록 노력할게요 감사합니다 :)',\n",
       " '기대이상으로 청결한 환경과 곳곳의 세심한 배려가 느껴져서 편안한 숙박이었습니다! 위치 또한 역에서 가까워 접근성이 좋았습니다 감사합니당~^^',\n",
       " '기대하셨던 것 보다 더 나았다고 하시니 기분이 정말 좋네요 ㅎㅎ 편안한 하루 보내셨길 바라고 다음에 또 놀러와 주세요 감사합니다:)',\n",
       " '숙소가는길도 친절하게 사진으로 설명해주시고 방에 들어가니 과자랑 간식들 준비해주셨더라구요:) 아늑하고 쾌적한 분위기에서 잘 쉬다가 갑니다^^',\n",
       " '소중한 후기 감사드립니다 우영님 ㅎㅎ 다음에는 별점 5점이 되도록 더 신경써보겠습니다, 감사합니다:)',\n",
       " '위치도 신용산역이랑 가까워서 좋았고 주변에 맛집도 많은 것 같아요! 방도 적당히 넓고 청결한 편이었고, 과하지 않은 조명 아담한 장식들이 좋았어요. 그리고 마지막으로 제일 중요한 호스트님의 세심함과 친절함이 너무 좋았습니다. 용산역에서 가볍게 지내다 가실분들에게는 좋은 장소라고 생각합니다',\n",
       " '친절하시고 소중한 후기 정말 감사드립니다 ㅎㅎ 더 좋은 숙소로 찾아뵐 수 있도록 노력하겠습니다!!',\n",
       " '위치도 좋고 아주 만족스럽게 이용했어요',\n",
       " '건조하셨던 부분이 있으셨군요! 참고해서 보완하도록 하겠습니다 감사합니다 :)',\n",
       " '위치도 신용산역에서 완전 가깝고 주변에 편의점도 있어서 좋았어요! 특히 요즘같은 시국에 여러 소독제들이 구비되어있어서 더 좋았고 향에 많이 신경써주셔서 더 좋았답니당 !! 궁금한거있으면 빠른 시간내에 응답주시고 방 분위기도 따뜻하고 지내기에 아무 불편함 없어서 너무 좋았어요ㅎㅎ',\n",
       " '소중한 후기 정말 감사드립니다!! 더 좋은 시설이 될수있도록 노력하겠습니다 :) 감사합니다!',\n",
       " '장기투숙이었는데 호스트분의 세세한 배려로 너무 편하게 머물다 갑니다..! 위치도 신용산역 바로 앞이고 집안에 생활하면서 필요한 것들은 거의 다 있어서 편하게 지낼 수 있었어요:)',\n",
       " '숙소 첫 장기투숙이셨는데 정말 지나님 집인 것처럼 깨끗하게 사용해주셔서 다시한번 감사드리고 소중한 후기도 정말 감사드립니다 ㅎㅎ 더 좋은 숙소가 되도록 노력하겠습니다 :)',\n",
       " '인테리어가 예쁘고 향이 좋은 아늑하고 포근한 분위기의 숙소였어요! 호스트님께서도 매우 친절하세요! 게스트를 많이 배려해주시고 세심하게 이것 저것 챙겨주셔서 넘 편하게 묵고 갑니다 ! 지하철역과도 가깝고 너무 좋았어요 ~~ 적극 추천합니당 ㅎㅎ',\n",
       " '은수님 소중한 후기 정말 감사드립니다 :) 후기를 읽고 나니 저도 너무 기분이 좋아지네요 ㅎㅎ 다음에 또 놀러와주세요 감사합니다 !',\n",
       " \"정말 좋아서 후기 남깁니다. 후기가 많이 없길래 좀 망설였었는데, 좋은 곳 발견한 느낌이라서 더 좋았었습니다. 우선 가격 대비 정말 훌륭하고 깨끗한 방입니다. 정리 잘되어있고 깨끗하고 접근성도 좋습니다. 집 분위기가 따뜻하고 시설들도 모두 멀쩡했습니다. 그리고 호스트 분께서 응답도 빨리해주시고 배려해주신 부분이 많아 감사했습니다. 또 방문하고 싶은 집이었습니다 ㅎㅎ It was so great experience that i leave this review. There were only few review when i browse, So i hesitated to make a reservation. But now I feel like i found out great place by myself :) First of all, It's really clean and great place for cost. Well maintained, Clean, excellent accessi\",\n",
       " '세준님, 세심한 후기 정말 감사드립니다! 세준님과 같은 게스트분을 호스팅하게 되어 저도 너무 기뻤습니다 ㅎㅎ 다음에 또 놀러와주세요 감사합나다 :)',\n",
       " '호스트님이 친절하게 설명해주셔서 쉽게 찾아갈수있었습니다! 숙소는 굉장히 깔끔하고 안락해서 편하게 지낼수있었어요:) 다음번에도 재방문하고싶습니다~~~ㅎㅎ',\n",
       " '후기 감사합니다 지은님! 다음에도 또 놀러와 주세요, 감사합니다:)',\n",
       " '호스트님의 배려덕에 숙소 잘 이용할 수 있었습니다. 제가 방문한 에어비앤비중 가장 깔끔했고 역과의 접근성도 훌륭합니다. 안에도 아기자기하게 꾸며놔서 정말 좋앗습니다. 다음에도 여기 근처 오게되면 다시 예약하고 싶습니다~!!',\n",
       " '후기 남겨주셔서 감사합니다:) 숙소가 맘에 드셨다니 다행이네요 ㅎㅎ 깨끗하게 이용해주셔서 저도 감사드리고 다음에 또 놀러와 주세요, 감사합니다:D',\n",
       " '인테리어가 너무너무 예쁘고 호스트님께서 신경도 많이 써주십니다! 이중문이어서 뭔가 안전한 느낌도 있었고, 숙소에 간단한 먹거리도 있더라구요 컵라면이랑 과자 너무 맛있었어요 ㅎㅎ',\n",
       " '인테리어가 마음에 드셨다니 저도 너무 기쁘네요:) 더 좋아진 시설로 준비해놓고 있겠습니다. 또 놀러와 주세요 :D',\n",
       " '친절한 호스트의 설명으로 집 찾기가 좋았습니다:) 집안곳곳 호스트의 소소한것도 신경쓴 섬세함이 보였습니다. 이중문이라서 조용한편이였고 집 근방에 맛집도 많고 지하철도 가까워서 좋습니다 다음이도 기회가 되면 다시 이용하고싶어요!!',\n",
       " '2박동안 편한 휴식이 되셨다니 다행입니다! 다음엔 더 좋은 환경으로 준비하고 있을테니 또 한번 방문해 주세요:) 감사합니다:D',\n",
       " '친구들과 브샤를 위해 나름 까다로운? 기준을 세우고 찾은 곳이에요:) 1. 4명숙박가능 2.청결 3.용산역과의 가까움 4. 브샤파티용 식탁//위의 기준들 플러스 호스트분의 빠른 응답과 친절한 응대까지 무엇하나 부족함 없이 잘 놀다 왔습니다:) 가끔 화장실에서 냄새가 올라오거나 환기가 힘든 부분은 있었지만 그걸 상쇄하고도 남을 만큼 좋습니다ㅠㅠ다음 모임이 잡히면 다른 안 찾고 또 올 생각입니다!ㅠ',\n",
       " '정성스러운 후기 남겨주셔서 감사드립니다 친구분 결혼 전에 이런 뜻깊은 이벤트를 제 숙소를 이용해서 해주셔서 저도 너무 뿌듯하네요 :) 불편하셨던 부분들은 제가 좀 더 신경써서 보완해놓도록 하갰습니다 ! 방문 감사드리고 기회되시면 또 놀러와주세요',\n",
       " '컵라면도 준비해주시고 들어가자마자 향도너무 좋고 예뻐서 기분좋았어요ㅎㅎ 주변에 예쁜 술집이랑 카페도 많아서 주변에서 먹다가 들어가도 될거같더라구요! 4명이서 놀았는데 공간도 충분하고 좋았어요',\n",
       " '좋은 하루보내셨길 바랍니다 ㅎㅎ 말씀해주신 것처럼 주변에 맛집이 많아서 이것저것 맛 볼수있답니다 :) 찾아주셔서 감사드려요 !!',\n",
       " '크리스마스가 있던 주말이라 가격이좀 비쌌지만 분위기도 좋고 답변도 빠르게 해주신 덕분에 홈파티 제대로 하고 갑니다!',\n",
       " '대경님 소중한 후기 감사드립니다! 기분좋은 하루가 되셨길 바래요 :) 새해 복 많이 받으세요',\n",
       " '위치도 좋고 깔끔하고 좋았습니다. 기대이상이었어요 추천드립니다 ㅋ',\n",
       " '편안한 하루 되셨길바랍니다! 소중한 후기 감사드리고 다음에 또 찾아주세요 감사합니다:)',\n",
       " 'Everything was really good, and perfect for my quarantine !',\n",
       " 'Great little place to stay overnight in and lots of things do in the area!',\n",
       " 'Thanks Nathan!! Have a nice trip :)',\n",
       " '',\n",
       " '',\n",
       " '',\n",
       " '너무 예쁜 숙소였어요~ 야경도 너무 멋지고 옥탑방 감성 가득해서 너무 좋았어요!! 숙소도 깔끔하고 음식 해먹기도 편했습니당',\n",
       " '생각한것 보다 별로였습니다. 후기를 꼼꼼히 읽어보고 기대하며 선택한 집이여서 더욱 더 실망스러웠던거 같아요 일단 벌레 시체들이 벽에 그대로 붙어 있고 청소도 잘 안되어 있었습니다 주방 요리기구 같은것도 설거지 제대로 안되어 있었어요 환기도 안되고 옥탑이여서 그런지 방 냄새도 곰파이? 냄새가 심하더라구요 어느정도 지저분함은 어쩔 수 없다 생각하지만 군데군데 벌레 시체들이 붙어져 있는게 제일 충격이였어요ㅠ',\n",
       " '정말 완벽한 숙소였어요.. 해방촌은 처음이라 해방촌이랑 많이 멀면 어쩌나 생각보다 숙소가 별로면 어떡하나 했는데 해방촌 바로 밑에 숙소가 있고 시설도 생각 이상으로 좋았습니다! 그리고 밤에 바비큐를 하는데 목장갑부탸 소금까지 작은 것까지 준비해 주셔서 너무 좋았습니다! 밤에 너무 이쁜 야경을 보면서 고기도 먹을 수 있고 추억을 만들 수 있는 숙소였습니다!!',\n",
       " '날씨가 흐려서 옥탑을 온전히 즐길수 없을까봐 걱정했는데 다행히 비도 안오고 (비가왔더라도 매우 운치있었을것같은!) 호스트님의 빠른 응답으로 하루동안 크게 불편한 점 없이 편안하고 즐겁게 쉴수 있었네요! 다양한 옥탑을 운영하시던데 호스트님이라면 믿고 푹 쉴수 있을거같아 또 이용하고싶습니다 :) 강추에용!!',\n",
       " '좋았어요!',\n",
       " '',\n",
       " '',\n",
       " '',\n",
       " '남자친구가 오랜만에 휴가 나왔는데 코로나 때문에 돌아다니지는 못하고 예쁜 곳은 가고싶어서 예약하게 되었어요! 해방촌 어느 루프탑카페 남부럽지 않은 온전히 우리 둘만의 루프탑이 생긴 것 같아 정말 좋았습니다 :) 2박 3일 내내 있으면서 낮에봐도 예쁘고 밤에 보면 더 예쁜 경치를 보며 밥도 먹고 커피도 마시고 했더니 힐링이 제대로 된 것 같아요 ! 사진 찍는 거 좋아하는데 옥탑방에서 인생샷도 많이 건져서 너무 행복해요 :) 진짜 많은 사람들이 어디냐고 물어볼 정도로 정말 예쁜 숙소에요 !! 난방도 잘 되어서 자는데 더울정도였어요 ㅎㅎ 이렇게 예쁜 에어비앤비 만들어주셔서 감사합니다! 재방문 의 (Phone number hidden by Airbnb) % 에요 ❤️',\n",
       " '너무 예쁜 숙소였어요~ 야경도 너무 멋지고 옥탑방 감성 가득해서 너무 좋았어요!! 숙소도 깔끔하고 음식 해먹기도 편했습니당',\n",
       " '생각한것 보다 별로였습니다. 후기를 꼼꼼히 읽어보고 기대하며 선택한 집이여서 더욱 더 실망스러웠던거 같아요 일단 벌레 시체들이 벽에 그대로 붙어 있고 청소도 잘 안되어 있었습니다 주방 요리기구 같은것도 설거지 제대로 안되어 있었어요 환기도 안되고 옥탑이여서 그런지 방 냄새도 곰파이? 냄새가 심하더라구요 어느정도 지저분함은 어쩔 수 없다 생각하지만 군데군데 벌레 시체들이 붙어져 있는게 제일 충격이였어요ㅠ',\n",
       " '정말 완벽한 숙소였어요.. 해방촌은 처음이라 해방촌이랑 많이 멀면 어쩌나 생각보다 숙소가 별로면 어떡하나 했는데 해방촌 바로 밑에 숙소가 있고 시설도 생각 이상으로 좋았습니다! 그리고 밤에 바비큐를 하는데 목장갑부탸 소금까지 작은 것까지 준비해 주셔서 너무 좋았습니다! 밤에 너무 이쁜 야경을 보면서 고기도 먹을 수 있고 추억을 만들 수 있는 숙소였습니다!!',\n",
       " '날씨가 흐려서 옥탑을 온전히 즐길수 없을까봐 걱정했는데 다행히 비도 안오고 (비가왔더라도 매우 운치있었을것같은!) 호스트님의 빠른 응답으로 하루동안 크게 불편한 점 없이 편안하고 즐겁게 쉴수 있었네요! 다양한 옥탑을 운영하시던데 호스트님이라면 믿고 푹 쉴수 있을거같아 또 이용하고싶습니다 :) 강추에용!!',\n",
       " '좋았어요!',\n",
       " '생각한거보다 시설 맘에들었어요! 야경도 정말좋고 무엇보다도 주위에 편의점 슈퍼 카페 음식점 이 많아서 편리합니다. 위치가 오르막길이니 방문객은 남영역이나 숙대입구역에서 02번 마을버스타시면 숙소 거의 바로앞에 내려주니 참고하세요~~ 잘지내고 갑니다!',\n",
       " '좋았어요~~',\n",
       " '너무 편하게 지내고 갑니다! 날씨가 좋은 덕에 옥탑 테라스에서 좋은 시간,추억 만들었어요. 아담하고 필요한것들이 구비되어 있어서 편리했습니다 ㅎㅎ 전화로 유의사항 알려주셔서 감사합니다! 무엇보다 침대가 푹신하고 청결해서 가장 마음에 들었어요! 다른분들 계단 올라오실때 조심히 잘 올라오시면 될거같아요 내려갈때두요! 옥탑방만이 주는 감성 잘 느끼고 갑니다 감사해요~',\n",
       " '정말 옥탑방을 꿈꿨는데 기대 그 이상이었습니다 사진이랑 정말 똑같았고, 밤에보는 야경도 너무 완벽하고 청결 최고입니다 ! 다시한번 가고싶다 생각할정도로 잊지못할 추억이 된 것 같아서 너무 행복했습니다 최고 !',\n",
       " '잘쉬다갑니다~',\n",
       " '일단 숙소가 정말 청결해서 너무 마음 편하게 묵고왔습니다. 식기, 침구 컨디션도 좋았고 군데군데 신경쓰신 티가 많이 나는 예쁜 숙소였어요! 모르는거 여쭤봐도 바로바로 대답해주셔서 감사했습니다. 위치는 신흥시장 바로 앞이라 오전에 해방촌 구경하고 숙소 들어가서 노니까 딱 좋더라구요. 화장실이 조오금 작긴했는데 그 외에는 정말 다 좋았던 것 같아요. 루프탑이 하이라이트입니다.. 사람들 바글바글한 루프탑만 가다가 우리만의 루프탑이 생긴 것 같아서 좋았어요! 다음에 또 올게요 :)',\n",
       " '먼지에 예민한 편인데 먼지가 하나도 느껴지지 않더라구요! 옥상 분위기도 좋고 동네도 조용해서 좋았어요ㅎㅎ',\n",
       " '가는 길은 오르막길이많아서 힘들었는데, 야경이랑 그 바로 주변에는 마트 편의점 식당등이 많아서 전혀 불편하지않고 오히려 가까워서 편했습니다!! 넷플릭스 되는 것두 너무좋고, 침대가 엄청 편했어요ㅎㅎㅎ',\n",
       " '야경으로 남산타워를 볼수있고 도시야경도 이뻤어요. 방과 주방이 분리되어 있어 맛있는 요리도 만들어 먹을수있어서 좋았습니다!! 재밌게 놀고 갑니다^^',\n",
       " '숙소가 아담하고 분위기는 좋았는데~ 옥상이라그런지 아래층분들이 낮에는 정리를 옆에서하셔서 시끄러웠구요 밤에는 배달한번 시켰는데 무슨 쿵쿵 거린다며 바로 올라오셔서 불편했어요 !가격대비 좋았어요',\n",
       " '일단 옥탑에 도착하자마자 보이는 뷰가 진짜 예뻤어요:) 남산타워와 여러 건물들이 정말 예뻐서 감탄했습니다 낮에도 예뻤는데 밤 야경은 진짜 최고였어요 ㅎㅎ 숙소도 일단 매우 따뜻하고 무엇보다 깔끔하고 깨끗해서 좋았어요! 아늑한 분위기도 있고 2박동안 편하게 지낼 수 있을거라는 생각이 저절로 들어서 행복했습니다:) 와이파이도 잘 터지고 주변에 편의점이나 카페 등도 많아서 주변 구경하기에도 좋아서 정말 즐거운 시간 보낼 수 있었습니다! 다음에 날이 따스할 때 한번 더 방문하고 싶네요 친구와 잊을 수 없는 추억 만들고 왔어요 감사합니다~!',\n",
       " '동네가 매우 조용해서 해질 때만 되어도 시끄럽게 떠들지 못해요ㅜㅜ 그리고 옆 건물 주민들이랑 계속 민망하게 마주침... 그럼에도 불구하고 뷰랑 분위기 너무 좋아서 다시 방문하려구요!',\n",
       " '아주 좋았어요!',\n",
       " '숙소 이용해봤는데 여자친구가 너무나도 좋아하네요 ㅎㅎ 경치도 좋구 추운날에는 안에서 먹을수 있는 공간도 있어서 너무좋았습니다!',\n",
       " '아직 추워서 밖에서는 못있었지만 분위기 있고 좋았어요!! 다만 폼클렌저와 로션이 없는건 몰랐네용 해방촌 뷰 옥탑방에서의 경험 쌓을 수 있어서 새로웠어요',\n",
       " '소중한 사람과 추억쌓기 너무 좋은 곳인거 같아요! 남산타워가 바로 앞에서 보인다는게 상당히 인상깊고 신기했고, 아늑한 공간에서 오붓한 저녁시간 보낼수 있어서 참 좋았습니다! 잠도 따듯하게 잤고 특별히 불편한점은 없어서 더 좋았습니다ㅎ 이태원에서 추억 쌓고 싶은 분들에게 정말 추천드리고 싶네요.! 정말 좋은 시간 보내고 갑니다~!',\n",
       " '위치도 너무 좋았고 특히 야경이 너무 예뻐요! 주변에 편의시설도 잘 되어있어서 오고가기 편했습니당! 생각보다 아늑하고 특히 옥탑방이라 추울까봐 걱정했는데 난방도 빵빵하게 잘 되어서 따뜻하게 좋은시간 보내고왔습니다 다음에 또 이용할게요~',\n",
       " '야경이 정말 멋진 공간입니다! 날씨가 풀리고 가면 더 좋을 것 같아요',\n",
       " '방온도 따뜻하구 좋았어요~!',\n",
       " '2명이서 지내기에 적당한 크기였고 방도 깔끔하고 화장실도 깔끔했어요!! 따뜻한 물도 잘 나오고 지내는 사람들이 불편함이 없도록 호스트님이 세심하게 해놓으신게 느껴졌어요!!연락도 바로바로 답장해주셔서 체크인, 체크아웃 하는데 어렵지도 않았어요!! 숙소 주변에 편의점도 있고 교통이나 편의시설이 가깝고 많아서 좋았어요!! 경치가 너무 좋아 야경이 너무 멋있습니다!! 온풍기가 있어 밤에 춥지 않게 지낼 수 있었습니다!! 옥탑만의 분위기를 잘 느낄 수 있습니다!! 근데 난방이 잘 안되서 자는 방이 추웠어요... 덕분에 행복한 추억 만들고 갑니다 너무너무 좋아요☺️',\n",
       " '처음 도착해서 뷰에 한번 감탄하고 두번째로는 친절하고 신속한 호스트님의 답변에 감동받았습니다 ,, 날씨가 좋아지면 꼭 또 한번 다시 방문하고 싶은곳이에요. 주방도 제가 딱 원했던 감성이 묻어나는 공간이었어요. 위치도 해방촌의 핫플 가게들과 가까워서 좋았습니다. 뷰는 말할것도 없이 최고에요. 인생샷 건지고 갑니다 ! 다음에 또 방문할게요!',\n",
       " '생각했던것보다 옥상도 작고 화장실도 작아서 씻는데 불편함이 있었지만 갬성하나는 끝장나는 숙소였습니다!!',\n",
       " '일단 전망이 정말 너무너무 좋아요! 남산이 바로 앞에서 보이고 해방촌이 쭉 보이는게 정말 눈에 한참을 담고싶은 전망이었습니다. 난방이랑 온수도 따뜻하게 잘 나와서 겨울인데도 정말 따뜻하게 잘 보냈고, 냉장고랑 식기 등등 다 있어서 밥 먹을 때도 편했습니다. 체크인 전에 사장님께서 디테일하게 메세지 주셔서 어렵지 않았어요. 하룻밤 쉬고싶은 마음에 정했는데 정말 푹 잘 쉬고 갑니다. 해방촌에서 에어비엔비 묵고싶은 분들께 꼭 추천해요!',\n",
       " '좋았어요',\n",
       " '글램핑보다 훨씬 좋았습니다. ㅎㅎ 방도 따뜻하고 전기히터도 있어서 춥지 않았습니다. 바베큐도 할수있고 무엇보다 남산타워 바로아래라 야경이 좋은 곳입니다.',\n",
       " '버스 정류장에서 가깝고 주변에 맛집이 너무 가까워서 좋았어요 뷰도 너무 예쁘고 깨끗한 숙소 인것 같아요',\n",
       " '위치가 너무 좋습니다! 그리고 옥탑이라는 생각이 안 들정도로 너무 잘 꾸며놓으셨더라구요 ㅠㅠ 사진에서 보이는 것 처럼 집 전체적인 분위기가 좋구 또 깔끔해서 추운 날 온 종일 집에 머물렀습니다 날씨가 너무 추울때라서 뷰는 제대로 못 즐겼다는 게 아쉽지만 다음번에 기회되면 또 오겠습니다! 여름~가을에 오면 더 좋을 것 같아요☺️ 감사합니다~',\n",
       " '귀여운 공간에서 오붓하고 알콩달콩 즐거운 시간 보냈습니다^^ 옥탑방이라 작고 불편할거 감안하고 예약한건데 막상 가보니 편안하고 분위기도 좋고 예상보다도 더 좋았네요^^ 뷰도 이쁘고, 날씨 탓에 야외 활용은 못했지만 날좋을 때 바베큐해도 참 좋을 것 같네요 ㅎㅎ 왔다갔다하며 뷰 보며 기분 좋았습니다^^ 커플끼리 아늑하게 즐기기 좋네요! 침대방도 참 편안했습니다. 추운것도 걱정하여 전기장판 없이 괜찮나 했는데 보일러 올라가니 ㅎㅎ 더울 정도로 따뜻하더라구요! 에어비앤비 처음 이용하는데 너무 만족해요!',\n",
       " '우연하게 발견하고 야경 옥탑방이라는 키워드에 끌려서 무심코 예약하게 됬습니다! 역시나 야경 너무 멋있었구 주방 옆 입구? 테이블에서 맥주마셨는데 영하날씨였는데도 비치되어 있던 온열기 틀어두니 추운거 못느끼고 좋았어요 방안은 온도도 넘 따뜻했구 좋았어요 ㅜㅜ 사장님 답변도 빠르시고 너무 친절하셔서 감사했습니다 이태원 방문이 주 목적이 아니었기때문에 숙소 외에는 근처를 다니지 않았는데, 주변에 편의점, 카페, 식당 등 걸어서 갈수 있는 거리에 상가들이 많이 있더라구요 이태원 다시 오게되면 꼭 다시 방문할거에요',\n",
       " \"주변에 시장, 편의점, 빵집 등 편의시설이 있어 너무 좋았어요~ 방도 너무아늑하고 요리할 수 있는 장비들도 다 갖춰져있고 밤에 야경이 짱이였어요ㅠㅠ 추운 겨울인데 따뜻하게 난방해주셔서 하나도 안추웠고 너무너무 만족해서 친구한테도 추천해줬답니다ㅎㅎㅎ 생각보다 조금 언덕에 있어 당황했지만 택시를 타면 금방 올라가구 마을 버스도 있더라구요 '◡' 잘 놀고 쉬다갑니다 ♡\",\n",
       " '일단 별⭐️⭐️⭐️⭐️⭐️ 먼저 뷰가 죽여줬다. 처음 들어갔을땐 보지 못했고 고기 파티하면서 날이 저물고 건물들 빛이 들어오면서 뷰가 좋았다. 바베큐를 할 수 있는 화로와 버너도 준비되어있었고 필요한 모든 것들은 다 있었음. 진짜 단점을 뽑으라고 강요해서 말한다면 문 닫기가 어려운점 힘을 줘서 당겨 닫아야함.. 또.. 찬 바람이 창문으로 조금 들어오는점? 참을만 했음 ㅎㅎ 누구나 닫을 수 있지만 여자친구는 문닫기 어려워했음ㅋㅋ 그래도 너무 좋은 기억들을 연말에 쌓아가서 다시 방문하고 싶은 에어비앤비! 커플끼리 가면 진짜 좋아요',\n",
       " '잘쉬다갑니다 야경이 좋네요',\n",
       " '1. 남산 야경이 너무 이쁘게 잘 보입니다. 2. 서울 한가운데서 손쉽게 바베큐를 즐길 수있어요 3. 숙소 내부도 깨끗하고 여러 식기도 있어서 편리했습니다. 4. 시간 남을때 넷플릭스 보거나 근처 구경 할게 많아서 좋았어요 5. 호스트의 빠른 답변, 친절한 서비스 최고예요. 재방문 의사 있습니다.',\n",
       " '굿',\n",
       " '일단 뷰가 엄청 좋았습니다 야경도 예쁘고 남산이 보여서 좋았습니다. 숙소 내부는 인테리어도 예쁘고 깨끗했습니다. 그리고 숙소를 잘 찾지 못하여 힘들어서 연락을 했는데 사진도 찍어서 보내주시고 친절하게 해주셔서 바로 찾을 수 있었습니다.',\n",
       " '뷰가 여행온것처럼 너무 예뻤습니다. 밤에 남산타워 빛나는것도 보이고 야경 보는데 행복했습니다.. 인스타용 사진 건지고갑니다^^ 난방도 잘 돼서 방도 따뜻했고, 온수도 잘나왔어요. 세면대가 없어서 아쉽긴 했는데 크게 불편하진 않았습니다. 침대도 푹신하고 방 크기도 생각보다 넓어서 맘에 들었습니다. 추워서 밖에서 바베큐는 못해먹었는데 날 풀리고 다시 오면 좋을거같네요. 버너도 구비돼있어서 이번엔 이걸로 실내에서 고기 구워먹었어요. 잘놀다갑니당',\n",
       " '뷰가 너무 좋았어요. 내부 공간은 깔끔한 느낌이였습니다~ 뷰맛집에 주변 카페들도 이쁜게 많은곳이라 특별한 날에 가기 좋습니다~',\n",
       " '깔끔하고 좋았습니다~!',\n",
       " \"내부도 위치도 모든 게 다 완벽했던 숙소 ! 사진을 아무렇게 찍어도 예쁘게 나오고 낮이나 밤에 봐도 너무 예쁘던 뷰였습니다 'ᴗ'\",\n",
       " '호스트가 친절하시고 분위기가 좋아요. 다만 겨울에는 살짝 추워요ㅠㅠ',\n",
       " '위치 편의시설이 엄청 좋았어요 공용 주차장이 가까이 있고 편의점이나 마트가 주변에 엄청 많아요 특히 시장이 있어서 더욱 더 좋았고 횟집과 과일가게도 많아서 근처에 장보고 오기 편리해요 옥탑에서 남산뷰 보면서 바베큐도 가능해서 낭만적이긴 한데 조금 춥더라구요 안에 주방시설 및 가재도구가 잘 되어 있어서 지금같은 날씨엔 후라이팬으로 구워먹는게 더 좋아요 그리고 방이 너무 따뜻해서 들어가자마자 포근한 느낌이 좋고 침대도 아늑하니 편했어요! 둘이서 묵기 딱 적당하고 좋았어요',\n",
       " '인테리어 너무 예뻤고 분위기도 너무 좋았어요 호스트님 응답도 빠르고 너무 친절하셔서 2박3일 정말 편하게 머무를 수 있었습니다 ! 세면대 없는것만 빼면 진짜 완벽해요 ! 옥탑방 뷰도 너무 예뻤구요 지하철역도 금방 가요 다음에 또 오고싶어요~~~',\n",
       " '혼자 생각 하고 싶을때 여러번 다시 갈거같아요',\n",
       " '사진 보고 옥탑 너무 취향 저격이라 바로 예약했어요~! 편의시설들이 가까이 있어서 장보기에도 편하고, 전구랑 뷰가 정말 예쁩니당! 엄청 추운날이었는데 난방도 잘되고 따뜻한 물도 잘나오구 온열기 틀어두니 훈훈했어요!!! 또 오고싶어요☺︎',\n",
       " '생긴 지 얼마 안되는 깔끔하고 위치좋은, 뷰가 멋진 해방촌 숙소였습니다. 신흥시장 바로 근처라 주변 구경하기도 좋고 위치도 찾기 쉬웠어요. 문의사항이 있을 때 신속하게 답변주셔서 감사했습니다 :)',\n",
       " 'The view was spectacular and it is a good place for couple to stay during this pendamic. We had so much fun and we are willing to stay here next time',\n",
       " 'This place is such an amazing view with Seoul city and the Namsan tower!! You can enjoy the barbeque on the patio ;> Plus, the host is so kind and answers quickly! There’s no reason to stay in other places.',\n",
       " '',\n",
       " '',\n",
       " '너무 깨끗하고 좋았어요!',\n",
       " '깔끔하고 좋았습니다. 필요한것도 최대한 지원해주서 잘 머물다 갑니다',\n",
       " '이렇게 이쁜 공간을 빌려주신것에 감사합니다 .',\n",
       " '깔끔하고 넓습니다. 정말 좋은곳이네요',\n",
       " '집을 너무 이쁘게 꾸며놓으셨는데 집 인테리어에도 참고하고싶을 정도였습니다 :) 조용하기도 하고 정말 잘쉬다 갑니다',\n",
       " '여태 이용했던 숙소 중에 가장 깔끔했던것같아요',\n",
       " '',\n",
       " '',\n",
       " '',\n",
       " '',\n",
       " '너무 깨끗하고 좋았어요!',\n",
       " '감사합니다.^^ 다음에 또 찾아주세요.',\n",
       " '깔끔하고 좋았습니다. 필요한것도 최대한 지원해주서 잘 머물다 갑니다',\n",
       " '이렇게 이쁜 공간을 빌려주신것에 감사합니다 .',\n",
       " '깔끔하고 넓습니다. 정말 좋은곳이네요',\n",
       " '집을 너무 이쁘게 꾸며놓으셨는데 집 인테리어에도 참고하고싶을 정도였습니다 :) 조용하기도 하고 정말 잘쉬다 갑니다',\n",
       " '여태 이용했던 숙소 중에 가장 깔끔했던것같아요',\n",
       " '공간이 너무 멋있었고 깨끗하고 좋았습니다 막상 가보면 사진보다 방이 작은 경우가 있는데 여긴 사진과 동일하게 큽니다! 갬성 좋아하시는분들이라면 여기는 꼭 방문하세용',\n",
       " '밤늦게 문의했는데 친절하게 바로 응답하셨고요. 집이 아닌 호텔이나 갤러리 같았어요. 넷플릭스, 비티비, 유튭도 볼수 있었구요. 쾌적, 아름다움, 친절함 다 만족한 숙소였습니다.',\n",
       " '좋아요~',\n",
       " '주변에 즐길 것도 많고, 공간도 깔끔하고 편안했습니다 :)',\n",
       " '생각보다 방이 작긴 했지만 전반적으로 좋아요! 넷플릭스도 잘 되고 방도 좋고 보드게임도 있고 숙소랑 다른 시설이랑도 가깝고 좋았어요. ^^',\n",
       " '깔끔하고 너무 좋았어요~',\n",
       " '처음에 주변에 집들이 다들 비슷하게 생겨서 어디지.. 2분 정도 헤매긴 했지만 깨끗한 건물과 내부에서 정말 만족했습니다. 인테리어도 이쁘고 집도 엄청 깨끗해서 아주 만족했고 쓰레기봉투도 여분이 있어 음식 먹으면서 바로 치울 수도 있어 너무 편했습니다 덕분에 셋이서 재밌게 좋은 추억 쌓고 갑니다. 그리고 주차가 가능해서 너무 좋았어요 나중에 기회가 된다면 재방문하고 싶네요',\n",
       " '집이 인테리어 너무 이뻐요',\n",
       " '감사합니다.^^ 더욱 좋은 공간이 되도록 노력하겠습니다.',\n",
       " '인테리어가 너무 예뻤습니다',\n",
       " '아늑하고 집이 너무 예뻐서 머물고 있는 내내 계속 여기서 살고싶다는 생각이 들었어요 ㅎㅎ 친구들도 그러더라구요 소품 하나하나에도 센스가 돋보이고 편안한 잠자리와 쾌적한 공간 덕분에 푹 쉴 수 있었습니다!!',\n",
       " '공간이 정말 좋아요! 아이템 하나하나 다 이쁘고 테이블이 커서 편하게 식사하고 이야기 할 수 있어요! 깨끗하고 침실에 넷플릭스 이용할 수 있는 티비도 있어서 좋았어요 :)',\n",
       " '부모님이 올라오시게 되어서 에어비앤비를 찾다가 묵게 되었는데 너무 세심하게 잘 챙겨주시고 주차도 되는 점이 아주 좋았어요!!! 그리고 투룸에 거실에다 자리도 넓은것도 맘에 들었구요 ㅎㅎ 부모님이 아주 맘에 들어 하셨습니다. 다음번에도 오시면 여기로 묵게 해드릴것같아요 ㅎㅎ 조금만 나가면 시장도 있고 주변에 버스정류장도 있어서 버스타고 다니기도 쉬웠습니다',\n",
       " '주방을 이용 못하는 점이 아쉬웠지만 너무 좋았습니다! 공간을 어떻게 꾸밀까 많이 고민하신티가 났어요. 작품 하나하나 재밌게 감상했네요. 2명이서 방문했는데 사실 작은 방은 잘 사용하지는 않았어요,, ㅎㅎ 거실에 있는 테이블도 넓어서 식사나 다른 활동들을 할 수 있는 점이 마음에 들었습니다 넷플릭스도 가능한 점이 편리했고요. 그런데 B tv로 영화를 보는데 영화가 계속 끊켰어요,, 넷플릭스는 전혀 문제가 없었는데..! 2박3일간 잘 머물다 갑니다!',\n",
       " '아늑하고 세심한 배려가 느껴지는 공간이었어요! 기대를 하고 방문했음에도 그 이상이었습니다 :) 숙소의 청결도와 호스트님과의 소통, 구비된 물품들 모두 만족스러웠어요! 굳이 한 가지 아쉬운 점을 꼽자면 방음이 살짝 안 되는 것 같았어요 이외에는 정말 모두 마음에 들었습니다!!',\n",
       " '방문해주셔서 감사합니다. 더욱 좋은 공간이 될수있도록 노력하겠습니다. 또 이용해 주세요.^^',\n",
       " '인근에 편의점, 시장 있어서 너무 편리했습니다! 무엇보다 지하철역과 가까운게 가장 큰 장점이었어요. 장소도 너무 쾌적하고 친구랑 분위기 내며 1박 2일 보내기 딱 좋은 장소였습니다 :) 음식을 해먹을 수 없는게 좀 아쉬웠는데 음식을 해먹지 않는 공간이라 더 깔끔해서 좋았던 것 같아요 ! 다음에 효창공원역 인근에 또 예약할 일이 생긴다면 홈라이크홈으로 꼭 다시 예약하려구요 ~!',\n",
       " '숙소도 깔끔히 사용해주시고 상세한 후기까지 정말 감사드려요. 더 좋은 공간이 되도록 노력하겠습니다.^^',\n",
       " '깨끗하고넘좋았어요',\n",
       " '감사합니다.^^',\n",
       " '이곳은 훌륭한 호스트가 운영하는 서울내 에어비앤비입니다. 에어비앤비를 참 많이 다녔고 여행을 하며 숙소도 다양하게 지내보았지만 여기 호스트님처럼 친절하고 배려심있게 해주시는분은 흔치 않았네요 호스트님만 좋다고 후기를 작성하지않습니다 아쉬웠던 점은 숙소의 위치가 지하철을 이용하시는 분에게는 워킹디스턴스가 다소있고 자차를 이용하시는 분은 주차가 협소할 수 있습니다. 사실 이 후기를 읽으시는 분이라면 그정도는 감안하고 보실 분이라고 생각합니다 다만 숙소자체의 매력은 가격대 대비 참 좋았던거같아요 숙소자체도 매우 깔끔하고 분위기가 좋습니다 세명에서 네명까지 이용하기에 적정할듯하네요 근처에 맛집들이 많고 원효대교를 타면 바로 앞이라 좋았습니다 이곳 스테이는 뷰에 대한 욕심은 없으셔야합니다 동네가 주는 매력자체가 뷰에 대한 매력이 있는 동네가 아니기때문이죠 이곳은 친구들 혹은 연인이 와서 한공간에서 사람들이 만들어내는 분위기를 나누는데 의미가 있을듯합니다 코지한 스테이로 이곳을 말할 수 있겠네요 지내는 동안 모자람 없이 잘 지내다 갑니다 사장님의 열정이 느껴지는 공간이었어요 다음에 또오겠습니다',\n",
       " '상세한 후기 감사합니다. 또 방문해주세요.^^',\n",
       " '일단 위치가 좋아서 어디를 가려고 해도 다 가까워서 좋았어요! 청소에 예민한 편인데 거슬리는 것 하나 없이 깔끔했고 완전 만족스러운 숙소였습니당 ~ !',\n",
       " '감사해요~!^^',\n",
       " '지난 번에 방문하고 좋아서 재방문했어요. 재방문인거 기억해주시고 초콜렛도 준비해주셔서 맛있게 먹었습니다 ! 청결에 신경을 많이 쓰시는 것 같아 요새같은 시기에 안심이 됩니다 ㅎㅎ 또한 체크인 관련해서 요청을 드렸는데 빨리 답 주시고 최대한 편의를 봐주신 점에 너무 감사드려요. 요새 식당이나 카페를 방문할 수 없어서 에어비엔비를 자주 예약하는데 또 들르겠습니다. 건강하세요 ☺️☺️',\n",
       " '재방문에 댓글까지 너무 감사합니다. hlh의 VIP 시니 머무시는 시간동안 행복하실수있게 최선을 다하겠습니다.^^',\n",
       " '너무 좋았어요 !! 진짜 사진에서 보이는 것보다 방도 크고,, 예쁘게 꾸며진 친구 자취집 놀러간 느낌+ 예쁜 작품들이 있어서 어디 전시회 보러 간 느낌도 들었어요 초반에 호스트님께서 체크인 메세지를 깜빡하셔서 약간 곤란할 뻔 했는데 제 메세지에 바로바로 답변 주셨구 걱정되셨눈지 전화도 주셔서 체크인도 바로 할 수 있었어욤~~~ 의사소통이 빠르게 잘됐습니당 와인 오프너가 없어서 요청드렸더니 바로 가져다 주셨어요!! 정말 친절하셨습니당 추천드려요~~',\n",
       " '즐겁게 머무셨다니 아주 뿌듯합니다.^^ 찾아주셔서 감사합니다.',\n",
       " '친구들과 소소하게 놀기 위해 숙소를 잡았는데, 숙소 인테리어가 무슨 갤러리마냥 정말 예뻐서 감탄을 금치 못했습니다! 자취한다면 이런 곳에서 이렇게 꾸며놓고 자취하고 싶어요 친구들도 다 숙소 잘 잡았다고 저 엄청 칭찬했네욤ㅎㅎ 신축이라 청결하기도 하고, 분리수거 하기도 편하게 되어 있습니다. 호스트님도 정말 친절하세요. 다음에 또 가고 싶은 숙소입니다!',\n",
       " '깔끔하게 머물러 주셔서 감사합니다.^^ 친구분들과 즐거우셨다니 제가다 좋네요. 다음에 방문해 주시면 더 좋은 모습으로 맞이하겠습니다.',\n",
       " '위치도 너무 좋고 공간도 정말 아늑하고 좋습니다. 지인에게 추천할 수 있을정도 입니다 :)',\n",
       " '추천까지 감사합니다. 추천에 걸맞게 더 좋은 모습으로 맞이하겠습니다.^^',\n",
       " '일단 호스트님이 너무 친절했어요. 제가 날짜를 착각해서 여러번 문의했는데 그 때마다 매번 빠르고 착하게 응대해주셔서 감사했습니다☺️ 숙소는 생각보다 더 깨끗했어요. 신축이라 그런지 정말 새집 그 자체였습니다. 특히 아무리 집이 좋아도 화장실이 더러우면 기분좋게 머물 수가 없는데 화장실까지 넘 깨끗했어요! 작은방에 있는 작은 갤러리 존은 보는 재미도 있고 포토존으로 잘 이용했습니다~ ㅎㅎ 여러모로 저렴한 가격에 하룻밤 잘 이용한 것 같아 기분이 좋고 감사하네요~! 다음 번엔 2박 묵으려구요!',\n",
       " '깔끔하게 사용해주시고 상세한 후기까지 정말 감사드립니다. 새해복 많이 받으시구 또 방문해주신다면 더욱 좋은 모습으로 맞이 하겠습니다. 감사합니다.^^',\n",
       " '우선 응답이 정말 빠르고, 친절하세요~!! 역이랑 가까워서 교통이 편리하고 차가 있어도 주차공간이 있어서 좋음 숙소가 아주 깨끗함(침구에 예민한 편인데 매일 청소하시는 분이 하나를 돌려쓰는게 아니라 여러개를 구비해놓고 세탁한다고 함, 청결문제는 아주 만족할 것) 제가 느끼기엔 웬만한 부티크 호텔보다 백만배 나아요!! 냄새도 예민한 편인데 냄새도 안나고 신축이라 깨끗하고요~! 정말 추천합니다',\n",
       " '감사합니다.^^ 다음에 또 방문해 주세요.',\n",
       " '사진도 예쁘지만 직접가보니 실물이 더 예쁜 공간이었어요 !! 제가 생각했던 이상으로 훨씬 만족스러웠네요 인테리어도 신경 많이 쓰신 것 같고 예쁜 카페랑 갤러리에 온듯한 기분이 들었어요 시국이 시국인지라 대리 만족한 느낌 ! ㅎㅎ 신축이라 정말 깔끔하고 무엇보다 곳곳에 호스트님의 세심한 배려가 느껴져 정말 편안하게 묵을수 있던 것 같아요 티비로 넷플릭스를 볼수있어서 보면서 소소한 힐링도 했고 전자레인지도 있어서 간편음식 데워먹을수 있어 좋았어요 주변 편의시설도 가깝구요 너무 만족스러워서 적다보니 길어졌네요 다음에 또 한번 방문할게요 :)',\n",
       " '머무시는 동안 만족하셨다니 다행입니다. 다음에 또 찾아오시면 더 좋은 모습으로 맞이하겠습니다. 감사합니다.^^',\n",
       " '신축이어서 시설이 깔끔했습니다. 큰 집은 아니지만 1-2인이 쾌적하게 지내기 충분하다고 생각하고 호스트께서 메세지로 이것저것 불편한 점은 없는지 세심하게 챙겨주셨습니다. 2박 예약했다고 커피 쿠폰도 챙겨주셔서 감동이었어요 아 그리고 매트리스가 단단해서 꿀잠잤네요. 또 놀러갈게요 번창하세요 ☺️☺️!!',\n",
       " '머무시는동안 만족하셨다니 제가 더 행복합니다. 다음에는 더 나은 모습으로 맞이할 수 있도록 하겠습니다. 감사합니다.^^',\n",
       " '너무 좋았습니다. 덕분에 좋은추억 만들고 갑니다^^',\n",
       " '좋은 추억 만드셨다니 제가 더 감사합니다. 다시 찾아주신다면 더 좋은 모습으로 맞이하겠습니다.^^',\n",
       " '넘나 좋은공간에서 즐거운 크리스마스 잘 보냈습니다~',\n",
       " '머무시는동안 잘보내셨다니 정말 다행입니다.더욱 좋은 공간이 될수있도록 노력하겠습니다.^^',\n",
       " '정말 깨끗하고 포근한 하우스입니다! 건물자체가 신축이라 집이 매우 새집이라 정말 청결했습니다:) 크리스마스에 집콕하려고 빌렸는데 들어가자마자 크리스마스 풍선 데코가 있어서 정말 센스에 심쿵 했어요!!! 크리스마스가 아니여도 이런 센스의 호스트라면 언제든 예쁘게 유지하실것 같아서 강추합니다! 가구 가전부터 침구 인테리어까지 깔끔하고 군더더기 없지만 센스있는 집 이였습니다- 전 처음엔 티비가 없다고해서 예약을 고민했는데, 넷플릭스볼수 있는 스마트티비가 안방에 설치되 있고 누워서 보기 최적화된 위치에 ㅋㅋ달려있습니다.. 근처에 용문시장?에 다양하게 사올게 많고, 이태원 맛집들 쿠팡이츠로 20분이면 오니까 맛집 상권이기도 한것같아요!(제가 좋아하는 한남,해방촌 식당에서 배달 해먹을 수 있어서 더 좋았어요-) 너무 길게 썼네요- 다른 분들께 도움되는 후기길 바래요!',\n",
       " '정말 깔끔하게 이용해주시고 상세한 후기까지 감사합니다.^^ 머무시는 시간동안 마음에 드셨다니 정말 행복합니다. 주신피드백도 잘반영해서 더 좋은 공간이되도록 준비하겠습니다.',\n",
       " '숙소 예약 할때 화장실을 제일 중요시 하는데 냄새도 안나고 깨끗했어요~~~ 침대도 평안해서 잘 쉬다가 가요~~',\n",
       " 'Cozy apartment, nice building, cute interior, a lot of artistic pieces and there were board games as well. I had a really nice stay, the host was kind and attentive. Highly recommend for other travelers.',\n",
       " '',\n",
       " '숙소에 처음 들어갔을때 생각보다 더 멋진 풍경과 인테리어에 감동받았습니다.. 침구도 푹신하고 청결해서 편하게 숙면했어요~ 함께한 친구가 이태원을 좋아해서 선택했던 숙소인데 후회 없었습니다!',\n",
       " '기대한 것보다 훨씬 멋진 공간이었습니다. 공간도 넓고 하루만 머물기 너무 아쉬운 공간이에요~ 호스트분도 정말 친절하시고 모든게 만족스러웠습니다!',\n",
       " '너무 좋았어요 참고할 만한 사항은 .. 숙소가 너무 좋아서 밖에 나가있는 시간이 정말 아까울 정도예요 ..이 공간을 잘 활용하고 힐링 찾으세요!!',\n",
       " '',\n",
       " '지난 겨울에 한번 왔는데 너무 좋았어서 바로 또 왔어요!! 여전히 기분이 좋아지는 숙소이더라구요 고새 바뀐 계절에 맞추어 숙소 내부가 조금씩 달라져있는 것을 보고서 평소에도 숙소에 대한 많은 고민을 하고 개선하고자 하시는 것이 느껴져서 더 좋았습니당 숙소위치가 높은 경사끝에 있어서 접근성이 떨어질 수는 있겠으나, 그 덕… 더 읽기',\n",
       " '청결하고 숙소 분위기가 너무너무좋습니다',\n",
       " '너무너무너무 좋아요! 일단 낮과 밤의 뷰가 상반되게 둘다 너무 좋고요,,, 집 인테리어도 너무 예뻐요! 턴테이블로 음악도 듣고 빔프로젝터로 영화도 보고 정말 나갈 생각도 못하고 집 안에서 너무 좋은 시간 보냈습니다.',\n",
       " '',\n",
       " '',\n",
       " '숙소에 처음 들어갔을때 생각보다 더 멋진 풍경과 인테리어에 감동받았습니다.. 침구도 푹신하고 청결해서 편하게 숙면했어요~ 함께한 친구가 이태원을 좋아해서 선택했던 숙소인데 후회 없었습니다!',\n",
       " '기대한 것보다 훨씬 멋진 공간이었습니다. 공간도 넓고 하루만 머물기 너무 아쉬운 공간이에요~ 호스트분도 정말 친절하시고 모든게 만족스러웠습니다!',\n",
       " '너무 좋았어요 참고할 만한 사항은 .. 숙소가 너무 좋아서 밖에 나가있는 시간이 정말 아까울 정도예요 ..이 공간을 잘 활용하고 힐링 찾으세요!!',\n",
       " '지난 겨울에 한번 왔는데 너무 좋았어서 바로 또 왔어요!! 여전히 기분이 좋아지는 숙소이더라구요 고새 바뀐 계절에 맞추어 숙소 내부가 조금씩 달라져있는 것을 보고서 평소에도 숙소에 대한 많은 고민을 하고 개선하고자 하시는 것이 느껴져서 더 좋았습니당 숙소위치가 높은 경사끝에 있어서 접근성이 떨어질 수는 있겠으나, 그 덕에 아주 좋은 뷰를 누릴 수 있어요! 야외 벤치에 앉아서 햇빛쬐며 커피를 마실때가 제 최애 시간이었다고 할수 있습미다',\n",
       " '청결하고 숙소 분위기가 너무너무좋습니다',\n",
       " '너무너무너무 좋아요! 일단 낮과 밤의 뷰가 상반되게 둘다 너무 좋고요,,, 집 인테리어도 너무 예뻐요! 턴테이블로 음악도 듣고 빔프로젝터로 영화도 보고 정말 나갈 생각도 못하고 집 안에서 너무 좋은 시간 보냈습니다.',\n",
       " '오래 머물고 싶을 정도로 정말 좋았던 숙소였어요. 창이 많아서 볕도 잘들고 특히나 숙소 어느 곳에서 보아도 풍경이 정말 좋았습니다. 턴테이블로 LP들으며 차 한 잔 마시고 풍경 한 번씩 내다보는 게 정말 평화로웠어요. 숙소 곳곳에서 호스트님의 배려를 느낄 수 있어 쾌적하게 머물다 왔습니다. 꼭 재방문 하고싶어요.',\n",
       " '멋지고 따뜻한 시간 보내고 왔습니다. 항상 준비되는건지는 모르겠지만 생화가 주는 기쁨이 정말 컸습니다. 하얀 바닥으로 인해 날씨가 흐려도 사진이 잘나와서 좋았습니다. 또 거울이 많은 점, 화장실 외풍이 없던 점, 컵과 그릇 등 부엌 용품이 잘 구비되었던 점 모두 좋았습니다. 근처 5분 거리에 맛있는 브런치 가게와 아이스크림 가게가 있는 점도 좋았습니다. 감사합니다 :-)',\n",
       " '호스트님의 배려가 묻어있는 따듯한 공간이었습니다:) 머무르기에 필요한 것들이 잘 구비되어 있으며 생각했던 것보다 널찍하고 방 마다 세심함이 느껴져서 좋았습니다. 밤에는 멋진 야경에 마음이 편안해지고 좋아하는 아티스트의 LP를 들으며 시간을 보내기에 최고의 공간과 시간이었습니다. 테라스에 잠시 나가 바람을 쐬기에 좋고 날이 풀리면 좀 더 앉아 머무르기 좋을 것 같습니다. 좋아하는 가게들이 근처에 있어 이동하기 수월했고 근처에 편의점,마트도 도보 5분 이내에 있었습니다. 편안함을 주는 공간에 머무를 수 있게 해주셔서 감사합니다*.*',\n",
       " '멋진 공간에서 멋진 생일을 보냈습니다. 후기 정말 잘 안쓰는 편인데 이보다 더 좋을 수 없었어요 :) 재방문의사 무조건이요 주변분들에게도 무조건 추천이요 헤헤 멋진 공간 감사드려요.',\n",
       " '대중교통 이용으로 숙소 찾기엔 조금 불편했지만, 숙소 방문하니 예상보다 훨씬 좋아서 불편했던 점 다 잊혀졌어요. 창문도 많아서 채광도 좋고 환기도 잘 되구요. 넓고 쾌적하구 머무는동안 기분 좋은 공간이었습니다ㅎㅎ 문의할게 있어서 연락 드렸는데 호스트님 연락도 빠르게 오셔서 감사했습니다-!',\n",
       " '좋은 공간에서 힐링했습니다~',\n",
       " '언덕에 위치해있지만 그렇기 때문에 가는 길까지 동네의 분위기를 충분히 느낄 수 있고 높은 지대에서 바라볼 수 있는 서울의 풍경이 너무 아름답습니다 :) 시간이 가는 게 아까울 만큼 좋은 시간이었어요. 감사합니다!',\n",
       " '이번이 두번째 방문이였는데 작년엔 저희 부부 생일 요번엔 결혼기념일에 방문했어요 특별한날에 쉴수있어서 정말 좋았습니다 이 곳은 그냥 안에서 뭘 하지않아도 좋아요! 공간도 정말 깔끔하고 향도 너무너무 좋고 창밖에 뷰도 좋고 다 좋습니다 :)',\n",
       " '편안하고 행복한 시간을 보냈습니다~',\n",
       " '생각했던 것 보다도 더 좋았어요!! 세심한 배려와 센스가 넘치는 공간이었어요 :) 하루만 있기 아쉬워서 다음엔 오래 머무르다 갈 예정입니다! 플랫트먼트 최고 ❤️',\n",
       " '주차공간이 없는 거 빼고는 모든게 완벽한 숙소였습니다!!',\n",
       " '사진보다도 예상보다도 훨씬 좋은 공간이었어요. 넓은 집과 훌륭한 뷰, 들어서자마자 풍기는 허브향과 스피커에서 흘러나오던 노래까지 도심 힐링을 즐기기에 완벽한 곳입니다. 보일러도 빵빵하게 잘 돌아가서 자다 깰 정도였어요. 식기도 잘 구비되어 있고 먼지 하나 없이 깨끗했습니다. 유명한 곳은 역시 이유가 있다는 생각이 들었습니다. 빠른 시일내에 재방문하고 싶어요!!',\n",
       " '너무너무 좋았어요',\n",
       " '꼭 호스트님 말대로 택시나 버스로 가장 가까운 곳까지 가시길 바랍니다~ 지대가 높은만큼 최고의 뷰를 자랑합니다~ 햇살이 들어 올때, 노을이 질때, 야경을 볼때 느껴지는 감성들이 다르네요~ 턴테이블의 지직 거리는 소리와 함께 들리는 음악이 요리 할때도 와인을 마시면서 야경을 볼때도 마음을 계속 몽글몽글하게 합니다~ 숙박비가 전혀 아깝지 않은 최고의 숙소였습니다~ 여자친구가 엄청 좋아했습니다~',\n",
       " '너무 예쁘고 편안한 공간이었습니다. 다음에 또 놀러올게요 :)',\n",
       " '방문 전 미리 전해주신 상세한 안내사항들로 숙소 위치를 찾거나 기타 필수물품을 챙기는 데 정말 편했습니다. 그리고 깔끔하고 아늑한 분위기와 근처 맛있는 디저트 집들이 많아 알차게 연휴를 보낼 수 있었어요. 감사합니다 :)',\n",
       " '힘들었던 시기에 방문했는데, 가장 잘 한 일인 것 같아요. 꼭 느껴보시길.',\n",
       " '처음엔 가격 때문에 예약하기까지 조금 망설였어요! 그런데 정말 후회없는 선택이었습니다 공간이 너무 예쁘고 아늑해서 머무는 내내 좋았어요 특히 부엌 창문으로 보이는 남산타워는 보고 또 봐도 예쁘더라고요 어떻게 뷰가 그렇게 기가 막힌지 모르겠습니다 ㅎㅎㅎ 낮부터 해가 지고 가로등이 켜지는 밤까지 큰 창문으로 보이는 풍경도 너무 예뻤어요 많은 집들이 옹기종기 모여있는 언덕 밑에 수많은 차들이 반짝거리며 지나다니는 모습을 가만히 보고 있으니 참 좋았습니다 먼지 한 톨 없이 깨끗했고 분리수거함도 가까워서 금방 치울 수 있었고 lp,cd 모두 듣기 좋은 음악들만 있어서 더 감성적이고 낭만적이었던 거 같아요 그런데 딱 하나 단점이 있다면 화장실 물이 자꾸 내려가는 거였는데 그건 계속 내리면 돼서 크게 불편하진 않았던 거 같아요 그래서 이 숙소를 예약하고 싶으시면 바로 하시는거 적극 추천해드려요! 그런데 남영역에서 내리시는 분들은 택시 타시는거 추천드릴게요 호스트님이 주소를 다시 알려주시는데 그 주소로 오면 오르막길 오를 일도 없이 편하게 가실 수 있어요! 이 곳에서 모두 편한 여행 하시길 바랍니다:)',\n",
       " '머무는 동안 너무 좋았어요,,특히 침대 최고예요!! 완전 잘 잤어요',\n",
       " '사진이랑 똑같이 너무 예쁘고 특히나 책과 음악이 있는 공간은 떠나고싶지않을만큼 너무너무 잘 해놓으셔서 시간이 빨리 갔답니다. 기회가 된다면 2박을 해야겠어요 잘 다녀갑니다!',\n",
       " '해방촌에서 가까운 거리면서 뷰가 아주 좋습니다. 또한 쉴 수 있는 공간등에 대한 인테리어가 아주 훌륭합니다. 재방문하고 싶은 비앤비였습니다.',\n",
       " '내 미래의 집이 꼭 이랬으면 좋겠다고 생각하게 만드는 집이었어요 숨겨진 선물처럼 창밖에 펼쳐진 뷰를 보고 감동먹었어요 아주 따끈따끈한 집에서 푹 쉬고 푹 칠링하다가 가요 여름에 또 오고싶어요',\n",
       " '완벽했습니다',\n",
       " '숙소에 대한 고민을 많이 하신게 느껴져서 좋았어요. 섬세한 부분 하나하나 신경쓴 흔적들이 보였는데, 그덕에 더욱 잘 쉬고 올 수 있었어요. 숙소 내 공간마다의 다른 조명도, 향기도, 음악까지 적절해서 아주 좋았구요. 숙소에서 감탄했던 부분들이 아주 많았지만, 그 중에서도 제일은! 영화보는 방에는 블루투스 스피커와 LP턴테이블이 있고, 침실에는 CD플레이어가 있는 것이었어요. 덕분에 공간의 용도에 따라 다른 갬성의 음악을 즐길 수 있었어요. 저는 침실에서 CD플레이어로 음악을 잔잔하게 틀어두고 잠깐 낮잠을 잤는데, 그만한 힐링이 없더라구요. (넓은 창이 있는 방의 창이 동쪽이라, 일출을 볼 수 있어요! 하늘이 흐리지 않은 날이라면 아침에 잠깐 일출을 보는 것도 추천드립니다. ❤️) 아주 행복하게 잘지내다 왔습니다. 또 갈거에요! :-)',\n",
       " '너무너무 좋았어요 ㅠㅠㅠ 엄청 깨끗하고 음악듣는공간이 따로있어서 더 좋았어요 ㅠㅠ 오르막길이라 좀 힘들었지만 너무 만족스러웠습니다',\n",
       " '생각보다 훨씬 좋았어요 감성채우기 너무 좋았구요 숙소에 지내는 순간순간 모두 행복했어요 음악과 풍경 정말 말이 안되게 행복했어요 이렇게 기분좋고 행복한 날이 언제였는지 생각도 안났는데 덕분에 좋은 공감에서 계속 기억하고싶은 추억 남기고 갑니다',\n",
       " '너무 좋아서 행복했어요.. 완벽한 숙소 :)',\n",
       " '멋진공간입니다',\n",
       " '넘 좋아요...넘좋고 넓고 굿입니다',\n",
       " '제가 너무 좋아하는 kings of convenience와 라벤더 향 덕분에 행복한 1박2일 이었습니다. 침실과 주방 등 공간이 나뉘어있어 쾌적하였고, 모처럼 깊은 잠을 잘수있었습니다. 여유가있을때 오래 머무르고싶은 공간입니다. 고맙습니다!',\n",
       " '생각보다 훨씬 깔끔하고 편안한 공간이었습니다',\n",
       " '정말 좋은 공간입니다, 위치가 애매하고 차를 가져가시는 분들은 주차가 정말 어려우니 개인적으론 비추에요 도보로 이용하시는게 좋습니다! 주차를 제외하고는 넘 좋은 곳이에요',\n",
       " '숙소 진짜 사진으로 보는것보다 훨신 예쁘고 좋았어요 밤에 보는 야경이 너무 예쁘더라고요 급한일이 생겨서 새벽에 떠났지만..아쉬워서 다음에 재방문 하려구요 ㅎㅎㅎ',\n",
       " '머무는 내내 \"정말 좋다\"라는 말을 반복했어요. 인테리어와 소품 하나하나 신경 쓴 곳이란게 느껴졌어요. 멀리까지 보이는 뷰는 덤이었구요. 오래 지내기에도 좋겠다는 생각을 했습니다. 저희는 해방촌산책겸 걸어갔는데 적당히 운동되고 마을구경하는 재미가 있어 즐거웠습니다.',\n",
       " '음악듣는 분들에게 그리고 디테일한 분들에게는 대한민국에서 최고의 숙소가 아닐까 싶어요. 휴가로 바이닐 싸들고 짱박혀서 지냈어요. 제가 예민해서 가습기랑 디퓨져를 들고 다니는데 가습기가 있는 곳은 처음이었습니다. 그리고 감나무 뷰, 스팀 다리미, 돌돌이 디테일들에 또 한번 감탄했습니다. 액자도 프린트 상태가 고급이라서 마음이 편했고 3일동안 마음편하게 일초도 쉬지않고 음악 듣다가 갑니다. 다음엔 cd들까지 쟁여와야겠어요! 좋은 공간 감사합니다!',\n",
       " '방 하나하나 너무 이뻣고 깔끔하고 좋았어요! 조리시설이나 각종 그릇 및 모든게 만족스러웠습니다!',\n",
       " '공간이 너무 청결하고 예뻤어요 :)',\n",
       " '사진보다 훨씬 깔끔하고 넓엇어요! 턴테이블과 풍경과 핸드드립 커피가 인상적인 공간 편하고 재밋게 잘 놀다왓슺니당',\n",
       " '사진으로 보았을때도 너무 깔끔하고 예뻤는데 실제로 가보니 기대 이상으로 정말정말 좋았어요... 코로나 때문에 여행도 못가고 이곳저곳 다니기도 어려웠는데 플랫트먼트에서 친구들과 정말 행복한 시간 보내다갑니다. 궁금하거나 질문있을때 메세지 보내면 응답도 빨리해주시고 감사드려요. 기회되면 무조건! 꼭! 또 가고싶은 곳이에요',\n",
       " '남산을 코앞(!)에서 볼 수 있고, 아름다운 서울의 전경을 기분 좋은 음악과 하고 싶으시다면 추천 드려요 :-) 들어가자마자 깔끔하게 정리되어있는 집기들과 클래식 음악이 편안하게 맞이해 주었습니다. 턴테이블과 lp판도 편안히 잘 들었습니다. 다음 기회에도 또 이용할거 같습니다 :-)',\n",
       " '정말 너무너무 너어어무 좋았던 숙소에요 ㅠㅠ 우리집이였으면 좋겠다고 백만번 생각했습니다 !! 너무 따듯하고 채광도 좋고 빔프로젝터에 유재하 엘피까지.... 정말 너무 완벽..... 최고였어요ㅠㅠ 세심함과 쳥결도는 물론이고 향기도 너무 조았어요ㅠㅠ 무조건 재방문 의사 100입니다 !!',\n",
       " '처음에 들어가자마자 숙소에 좋은 향기 덕분에 기분이 좋아졌고 손 소독제도 잘 구비해주셔서 너무 좋았습니다:) 그리고 미리 음악을 틀어주셔서 집 안에 들리는 음악과 예쁜 인테리어로 친구랑 너무 만족했습니다! 밤에는 야경과 남산타워뷰 덕분에 얘기도 많이했습니다:) 아침에는 숙소 창문 바로 앞에 감나무가 창에 보여서 일어나자마자 감탄하고 원두 커피 갈아마시면서 엘피판 들으면서 얘기하고 정말 힐링됐습니다ㅠ 기회되면 꼭 다시 오고 싶은 숙소에요!',\n",
       " '좋아요. 정적인 분위기도, 청결도도, 세심히 보내주신 안내사항도. 모두 백점이었습니다. 심지어 안방 창문으로 보이는 감나무마저도 예뻤습니다.',\n",
       " '숙소 난방도 잘되고 조리도구도 많고 넓고 쾌적해서 좋았어요 :)',\n",
       " '사진으로 보는것보다 훨씬 더 멋진 공간이었습니다^^',\n",
       " '동네도 너무 조용하고 일단 집에 들어오면 나갈때까지 기분이 좋아요.',\n",
       " '깔끔하고 분위기 넘치는 숙소입니당ㅎㅎ 식기종류가 많아서 좋았어요! 걸어서 가기엔 조금 힘들다는 단점이 있지만 숙소에 도착하면 그런 생각이 싹 사라져요~~~ 정말 최고의 하루였습니다~~',\n",
       " '좋습니다',\n",
       " '기대하고 갔는데 기대만큼 좋았던 숙소였어요. 호스트 분이 굉장히 세련된 감각을 가지신 분이란 생각이 드네요! 또 방문하고싶은 멋진 숙소였습니다.',\n",
       " '따뜻하고 감성가득한 공간, 음악과 책, 창으로 들어오는 햇살의 온도까지 넘 좋았어요. 아! 감나무도요 :)',\n",
       " '인스타 보고 찾았는데 일단 뷰가 너무 미쳤어요...! 진짜로!! 그리고 너무 이뻐서 인생샷 100만장 건졋습니다 완벽한 힐링과 인생샷을 원하시면 오조억번 추천합니다!!!',\n",
       " '탁 트인 전망과 멋진 공간, 인상 깊었던걸 말하라하면 전부라고 말하고싶습니다 최고의 공간입니다!',\n",
       " '위치가 단점인지도 잘 모르겠는 ㅠㅠ 해방촌의 유명한 플레이스들과 가까운 곳에 있으나 시끌벅적하진 않고, 높은 곳까지 오르는 것을 감안해야 하나 뷰가 그만큼의 값어치를 충분히 해서 다음에 기회가 되면 또 오겠습니다 묵는 동안 즐거웠습니다',\n",
       " '지금까지 묵은 용산구 에어비앤비 중에서 가장 좋았어요. 별점을 5점까지 밖에 못 주는 게 아쉬울 정도에요. 방문 전부터 자세하고 친절한 설명, 안내문을 메세지로 보내주시고 입실 준비가 일찍 마쳐지면 미리 연락을 주시는 섬세한 호스트분이 가장 큰 이유고요. 두번째는 공간... 사진보다 훨씬 넓고 훌륭한 곳이에요. 보통 에어비앤비는 사진보다 좁게 느껴져 기대를 빼고 가는게 보통인데 들어서자마자 너무 넓고 예쁜 곳이라 깜짝 놀랐어요. 주방, 욕실, 오디오룸, 거실, 침실, 옷방 할 것 없이 공간마다 창이 하나씩 있는데 채광이 좋은 곳을 좋아하는 저는 창마다 보이는 풍경만으로도 플랫트먼트에 올 이유가 충분하다고 생각해요. 모든 창문 뷰가 다 좋아요. 간접조명이 많고 형광등조차 세지 않아 좋은 공간의 분위기를 깨지 않는 것도 한몫 했네요. 집에서의 단점은 정말 없는데 굳이 하나 꼽자면 위치 ^^....? 호스트분이 입실 전부터 걸어오지 말라 몇 번이고 당부하시던데 그만한 이유가 있더라고요. 해방촌 언덕 높은거야 유명하지만 걸어오긴 정말 힘들어요 gs25 갔다오는 것도 대박 힘듬... 꼭 차나 버스를 타고 방문하세요. 생활소음 없는 편이고, 아랫집의 소리도 그닥 크지 않아요. 혼자 갔던 터라 담이 낮고 외부접근이 쉬운 주택에 방범 걱정이 컸지만 모든 창이 이중이고 창마다 잠금장치가 견고해 안심했네요. 주택 앞에 가로등이 환한 것도 한몫 했고요. 가끔 화장실 변기가 저 혼자 물이 내려가던데 그건 왜 그러는지 모르겠어요... 아랫집이랑 연동되나. 어쨌든 다시 오고 싶은 곳입니다. 근처의 코타티라는 젤라또 가게도 꼭 들려보세요!',\n",
       " '집도 너무 좋지만 뷰가 너무 멋진곳입니다 서울에서 이런 뷰를 볼수있을지 몰랐어요 :)',\n",
       " '생각했던 것 보다 훨씬 쾌적하고 예쁜 공간이었어요. 호스트분도 너무 친절하시고 편의도 맞춰주셔서 즐겁게 있다왔답니다!',\n",
       " '뷰가 정말정말 좋아요...ㅠㅠ 방마다 큰 창이 있는데 보이는 뷰랑 느낌이 다 다릅니다! 숙소도 정말 정돈이 잘되어있고 깨끗했어요. 내년에 날이 좋아지면 다시 오고싶네용!',\n",
       " '언덕 위에 있어서 갈 때는 진짜 힘들었는데 높은 곳에 위치해있어서 그런지 뷰는 정말 좋았어요. 창밖을 내다볼 때마다 행복했습니다. 그동안 가봤던 에어비앤비 중에서 손에 꼽을 정도로 청결했구요, 엘피 플레이어나 스팀다리미 등 특별한 옵션들도 많아서 좋았어요. 다음에 또 방문하고 싶은 곳입니다!',\n",
       " '너무나도 만족스러운 숙소 정말...정말좋다.. 상상이상으로좋고 어쩌다보니 지인도 다녀왔던곳 아는사람들은 아는 숨은멋진숙소',\n",
       " '제가 다녀온 에어비앤비 중에 제일 좋았다고 말 할 수 있어요! 인테리어도 예쁘고 정말 깨끗해요. 하루만 머무르기 아쉬운 곳이였어요. 재방문 의사 백프로입니다. 전체적으로 좋았어서 뭐가 좋았다 얘기하기도 힘들어욬ㅋㅋㅋㅋ 오븐이 있으니까 베이킹 믹스 사가시는거 추천합니다! 마지막까지 친절하셨던 호스트님께도 넘 감사드려요!',\n",
       " '들어오자마자 다른 세상에 온 것 같았어요 요리 할 수 있는 향신료와 이쁜 식기가 구비 돼있어서 편했고 빔도 있어서 영화 볼 수 있었고 엘피판 하나 하나 들어볼 수 있는 색다른 경험도 할 수 있었어요 원래 커피 잘 안 마시는데 직접 갈아서 마시니깐 재밌고 맛있었습니다 그리고 어떻게 여기에 에어비앤비를 할 생각을 하셨나 싶을 정도로 LP판 있는 방에서 저녁에 보는 야경과 아침에 일어나서 보는 남산뷰가 좋았습니다 마지막으로 어메니티나 조명 인테리어를 보면 얼마나 애정있고 세심하게 신경쓰셨는지 알겠어요 다음에도 꼭 방문하고 싶어요 :)',\n",
       " '숙소도 깔끔하고 분위기도 너무 좋아요! 방마다 충전케이블도 놔주시고, 뷰도 정말 좋습니다:)',\n",
       " '유명한 에어비앤비라 기대를 잔뜩하고 갔는데도 기대를 훨씬 더 뛰어넘는 좋은 숙소였어요:) 숙소에 도착해서 뷰를 보자마자 ‘미쳤다’는 말만 연발했네욯ㅎㅎㅎ 낮에는 낮대로 밤에는 밤대로 뷰가 정말 멋있고, 공간도 너무 멋지고, 낮에는 LP를 틀어놓고 독서하다가, 밤에는 해방촌 거리에서 식사하고 들어와 남산뷰를 등지고 맥주 한 잔 하면서 그 공간에 있다는거만으로도 엄청 행복하고 힐링되는 시간이였습니다. 꼭 다시 방문하고 싶어요',\n",
       " '처음에 진짜 언덕이 높아서 조금.. 놀랄지도 모릅니다 하지만 그 언덕 위에 너무나 멋진곳이 있어요!!! 숙소에 창문 밖 풍경이랑 내부에 좋은 향이 기분좋게 해주고 음식해먹기에도 모든 요리시설이 갖춰있어서 분위기 내기 정말 좋았습니다 정말 다음에 또 가고싶은 숙소였습니다 :)',\n",
       " '숙소에서 머무는 동안 내내 여기서 살고 싶다라는 말 백 번은 한 거 같아요. 다 좋았지만 숙소 위치가 좀 아쉬웠어요!',\n",
       " '정말깨끗하구 예쁜 숙소였어요 사진으로 보는것보다 훨씬 좋아요!! 호스트님도 친절하시구 덕분에 행복한 하루 보내고 가요^^ 완전 추천합니다',\n",
       " '호스트님께서 방문 전 안내를 세세하게 해주셔서 걱정 없이 버스타고 방문했어요! 주변에 마트도 있고, 서점이 있어서 볼거리가 많았구요! 특정 식당을 언급할 수는 없지만 주변에 피자, 베이글을 시켜서 맛있게 먹었어요:) 멋진 LP바로 음악을 듣고, 핸드폰을 빔에 연결해서 티비 프로그램도 보고 아주 멋진 밤을 보냈습니다! 침구도 푹신했구요!! 저는 여러 에어비앤비를 가보진 못했지만 단연 최고입니다 :) 기회가 된다면 꼭 다시 방문하고 싶습니다!',\n",
       " '아름다운 공간입니다.',\n",
       " '화장실 변기 물이 내려가있을때 좀 냄새가 날 수 있으니깐 그 때는 물을 내려주시면 좋을 거 같아요 !',\n",
       " '여태 와본 에어비앤비 숙소 중 최고였습니당',\n",
       " '너무 깨끗하고 편안했던 숙소였습니다 - 호스트분들도 친절하시고 햇빛이 깊게 들어 좋았어요 또 위치가 조금 오르막길에 있다보니 불편하다 생각될 수도 있는데 그만큼 내려다보는 뷰가 정말 예뻐요 !! 노을질때 꼭 보시길 추천드립다',\n",
       " '내부가 깔끔하고 인테리어가 매우 감성적입니다 . 하루종일 턴 테이블 돌리면서 여유를 즐기니까 너무 행복했어요 ㅠㅠ 해방촌 처음 와봤는데 , 이쁜숙소에 묵게되서 즐거웠습니다 :) 다른친구들한테 소개시켜줄 예정입니다 ㅎ ㅎ 플랫트먼트 번창하세요 !!!!!!!!!',\n",
       " '친구랑 늦은 여름 휴가를 보내기 위해 2박 3일 동안 플랫트먼트를 예약했습니다. 머무는 동안 배달음식을 시켜먹기보다 직접 요리해서 먹을 생각이었는데 잘 갖춰져있는 주방용품들과 올리브오일, 후추, 파슬리 등이 구비되어 있어서 정말 좋았습니다 :) 미리 얼려놔주신 얼음, 아이폰에 담겨있는 노래를 보면서 호스트의 센스를 느낄 수 있었습니다. 개인적으로 위치는 언덕이 많아서 좋은편은 아니지만 근처에 남산, 독립서점, 카페가 많았습니다! 숙소를 이용하면서 가장 좋았던 점은 호스트분의 신속한 응답과 친절함이었습니다! 밤늦게 문의를 드렸을때에도 빠르고 친절하게 응대해주시는 것을 느낄 수 있었어요. 2박 3일동안 푹 쉬다갑니다 ㅎㅎㅎ 다들 꼭 테라스에서 풍경을 바라보며 시간 보내시길 추천드려요',\n",
       " '문을 열고 들어가자마자 기분좋은 향기가 나고 무드 있는 음악이 틀어져있었어요! 생각했던 것보다 훨씬 멋있는 공간이었습니다. 큰 창으로 보이는 해방촌과 맑은 하늘에 일주일 내내 지쳤던 마음이 바로 힐링됐어요. LP판 하나하나 구경하면서 틀어보는 재미도 솔솔했습니다. 밤에는 빔프로젝터로 영화도 봤구요! 소품, 가구, 전자기기 하나하나 호스트의 감각과 센스가 보였고 욕실 제품들도 향이 너무 좋아서 저도 똑같은 걸로 구매하려고 합니다..! 가장 마음에 들었던 건 주방이었어요. 주방 창밖으로 남산이 선명하게 보이고, 식기나 요리에 필요한 양념들이 완벽하게 갖춰져 있었어요. 핸드그 (Hidden by Airbnb) 더로 직접 원두를 갈아 내려마신 커피도 정말 맛있었어요. 감나무가 보이는 포근한 침실도 너무나 완벽했습니다! 그동안 머물렀던 숙소들은 아쉬운게 하나씩 있었는데, 플랫트먼트는 뭐 하나 부족한 게 없는 공간이었습니다. 행복하게 잘 머물다 갑니다 :>',\n",
       " '하루종일 집에서 놀아도 재밌었어요',\n",
       " '테마 놀이동산 같은 곳이에요. 방마다 정확한 쓸모가 있어요. 숙소에 원래 있는 방들의 쓰임을 사후에 인위적으로 정한 게 아니라, 사전에 정교하게 설계한 방들의 합이 platment를 만들었다는 생각이 들었어요. 천장에 서로 다른 모양의 조명이 아직도 생각나네요. 자주 도착하는 용산 02버스를 타고 언덕 위를 오르니 내려서는 내리막길만으로 숙소에 도착할 수 있어 편했습니다. 추천해주신 식료품점도 멋졌어요. 일하시는 분께서 손수 만드셨다 하신 쿠키를 세 개 사 먹었는데 다시 생각나서 세 개 더 사먹으러 갔습니다. 시간 고려를 못해 체크인 시간보다 일찍 도착했는데 스팀으로 깨끗하게 청소를 해주고 계셨어요. 짐을 내려놓고 갈 수 있도록 배려해주셔서 가볍게 동네를 산책할 수 있었어요. 호스트 분께서 많은 노력과 애정을 쏟으셨다는 느낌이 들었습니다. 즐거운 기억을 남겨주셔 감사하다는 말을 꼭 전하고 싶습니다.',\n",
       " '정말 너무 좋았어요 숙소 들어서는 순간부터 향기가 너무 좋았고 뷰가 정말.. 유럽같았어요 식탁에서 보이는 남산타워는 에펠탑을 보는 것 같았고 테라스와 룸에서 보이는 뷰는 피렌체 같았어요 그리고 침실에서 보이는 살구나무?도 너무 좋았어요 깨끗하기도 정말 깨끗했고 관리 정말 꼼꼼하게 해주시는게 느껴졌어요 사진보다 실제가 좋았던 숙소입니다ㅠㅠ 사랑하는 사람들 다 데리고가서 있고 싶어요',\n",
       " '정말 좋은 공간에 머물고있다는 느낌을 받았어요 :) 방마다 공간마다 각각 특색있고 예쁘고 깔끔하고 좋았습니다 기기 사용방법 및 안내사항을 친절하게 알려주시고 방안에서도 쉽게 확인 할 수 있도록 해주셔서 어려움 없이 즐길 수 있었고 주방과 화장실도 굉장히 깨끗했어요 침실도 깔끔하고 정말 좋았습니다 시간내서 또 재방문하고싶은 곳입니다 !',\n",
       " '사진 속 보이는 것과 같이 너무나 감각적인 숙소였습니다. 뭐 하나 흠 잡을 곳 없는 멋진 장소에서 시간을 보낼 수 있어 좋았습니다. 가만히 있기만해도 편안하고 힐링되는 공간을 알게됨이 큰 기쁨이였습니다 ! 이렇게 좋은 공간을 합리적인 가격으로 머물 수 있는 점이 정말 큰 장점입니다. 시간이 된다면 꼭 다시 머물고 싶은 그런 공간입니다! 좋은 공간을 만들어주신 호스트님께 다시한번 감사드립니다 ◡̉̈',\n",
       " '생각했던것보다 너무 좋았던 곳이에요 각방마다 세심한 손길이 느껴졌고, 단순히 하루보내는게 아닌 숙소안에서 여유를 느낄수있게끔 준비해주신것들이 너무 좋은시간을 보낼 수 있게 해줬습니다 ! 시간을 보낼수록 너무 좋다고 감탄했어요 다음에 꼭 다시 올예정입니다',\n",
       " '모든게 완벽했던 숙소입니다... 다만 숙소 위치 진짜 그거 딱 하나만 조금 아쉬웠어요. 하지만 나머지 모든것들이 그걸 상쇄해주는 곳이에요~ 고민중이시면 강추합니다!',\n",
       " '감각적인 인테리어와 세심한 배려가 돋보이는 공간이였어요! 만족하고 잘 지내고 가요:)',\n",
       " '너무 멋진 공간이에요. 이런곳이서 하루 쉬었다 갈수 있다는게 믿기지 않을 정도였어요. 다시 또 오고 싶어요!',\n",
       " '사진보다 훨씬 더 멋진 공간이였습니다.! 더운 날씨인데 센스있게 에어컨도 틀어주셔서 들어가자마자 너무 좋았고, 노래도 틀어놔주셔서 기분좋게 체크인 하였습니다! 너무 깨끗하고, 공간 하나하나에 신경을 많이 써주신것이 느껴졌습니다! 아주 좋은 시간을 보냈고 다음에 꼭 또 방문 하고 싶습니다 :)',\n",
       " '다시 가고 싶은 공간',\n",
       " '비가 정말 많이 오는 날에 가서 위치때문에 힘들긴 했지만 완벽했던 곳 좋은 숙소를 많이 다녀봤지만 그 중에 손 꼽을 정도에요 답변도 신속하고 친절하셨어요 저는 개인적으로 화장실이 제일 마음에 들었고 어느 것 하나 맘에 안드는게 없었습니다 정말 숙소값 이상을 한다고 생각합니다! 또 방문하고 싶을 정도로 정말 정말 대 만족 한곳 지방에 살지만 서울가면 또 갈거에요굿',\n",
       " '모든 공간 하나하나 호스트님의 배려와 감각으로 가득 차 있습니다. 좋아하는 사람들과 이 공간과 추억을 공유할 수 있어서 행복했습니다!',\n",
       " '기대보다 좋았습니다 뷰도 좋고 거실공간이 사진보다 꽤 큰편이구요. 생활용품이 매우 세심하게 준비되어 있어서 부족함 없이 잘 지낼 수 있었습니다. 이태원 번화가와 좀 떨어져 있기 때문에 조용하고 편안한 공간에서 쉬려는 분들에게 추천하고 싶습니다.',\n",
       " '기대 이상의 훌륭한 공간에서 행복하고 감사한 시간을 보냈습니다 구석구석 호스트님의 손길이 안닿은 곳이 없을 만큼 세심한 배려와 디테일들이 기억에 남네요',\n",
       " '가격이 비싸다고 생각하실 수 있겠지만 공간이 너무 감성적이고 예뻐서 아주 만족스러웠습니다. 휴식을 원하는 사람에게 적절한 숙소라고 생각합니다:)',\n",
       " '기대이상으로 좋은 공간이였습니다 모든곳이 깔끔하고 호스트분의 세심한 배려가 느껴져 머무는동안 불편함없이 지냈어요 해방촌이란 지역특성상 차 없이는 오르기 힘든곳이였어서, 위치에 대한 부분은 별점 낮게 매겼는데 도착해서 올라온 길 내려다 보시는순간 힘들었던거 다 잊혀지실거에요:) 그만큼 뷰까지 완벽한 곳이였습니다',\n",
       " '모든게 완벽한 숙소였습니다. 에어비앤비 경험이 많지만, 이렇게 숙소안에만 있어도 행복한 여행은 처음이었습니다. 하루종일 엘피듣고 커피마시고 넓게 펼쳐진 뷰를 보니 시간이 훅 가버렸습니다. 조금 언덕위에 있지만, 이마저도 훌륭한뷰를 선사해준다는 장점이 되버립니다. 저녁에는 빔프로젝트로 영화를 보며 와인이나 맥주 한잔하니 천국이 따로 없었습니다. 다음날 아침에는 방에 엘피틀어놓고 테라스에서 커피를 마셔보세요......그냥 아무생각없이 그 순간을 즐기게 됩니다.....무튼 그냥 다 좋습니다......주위사람들에게도 무조건 추천할 예정입니다. 남자친구와 좋은추억 만들게 해주셔서 감사합니다!',\n",
       " '주중에 잠시 쉬러 방문했었습니다. 마침 날씨가 비바람이 쳐서ㅠ 공영주차장에 주차하고 7~8분 가량 비를 맞고 걸어야했지만 충분히 가치가 있었습니다. 비오는 날 야경 보면서 LP 들으면서 행복한 밤이었습니다. 다음에 또 기회가 있으면 방문하고 싶어요.',\n",
       " '분위기가 너무 좋아요 또 가고싶어요!!',\n",
       " '정성스럽게 꾸며진 공간에서 잘 쉬다 왔습니다 다른 후기에서 처럼 사진보다 실물이 더 좋았어요! 바깥 분위기와 현관문 들어서자마자 분위기가 다른 세상 같아서 더 놀러온 느낌이 들어서 신났습니다ㅎㅎ 그리고 준비해주신 원두로 핸드드립 제대로 즐겼구요 이외에도 잘 준비되어 있는 것들 덕분에 처음 가본 곳이었지만 편히 쉬다 올 수 있었어요 다음에 또 기회가 된다면 재방문 하고 싶습니다! 건강하세요',\n",
       " '짐이 많으신 분들은 꼭 ! 녹사평역에 내려 택시 타는걸 추천드려요 언덕길이 생각보다 가파르고 힘들 수 있어요 하지만 그 언덕을 오른 덕분에 창문으로 볼 수 있었던 뷰와 주방 창문을 통해 보는 남산타워는 정말 예쁘답니다. 외관만 봤을땐 평범한 가정집?이라 여기가 맞나 싶었는데 현관문 열자마자 좋은 향기와 사진보다 더 멋지고 깨끗했던 공간 ! 덥지않게 에어컨까지 미리 작동시켜주셨던 호스트님의 센스에 감동했구요 ❤️ 침구도 푹신하고 , 처음 접해보는 LP로 듣는 노래까지 너무 멋있고 행복했던 1박2일 이였습니다 ! 기회가 된다면 꼬-옥 또 방문할게요 : )',\n",
       " '친절한 호스팅 감사합니다!:) 또뵙길',\n",
       " '숙소에 들어서는 순간 , 기대보다 훨씬 좋은 공간의 모습과 향기 그리고 청결함에 반했습니다. 무엇보다 하얀 인테리어에서 이렇게 집이 깔끔하게 느껴질 수 있나 싶을 정도로 청소 관리가 잘 된 것 같아요.. 감동이었습니당 ㅠㅠ 얼른 또 방문하고 싶어요 ෆ 좋은 공간 감사합니다 !',\n",
       " '방범창이나 현관 이중잠금? 같은게 없어서 조금 아쉽고 무서웠지만 룸 자체는 진짜 센스 짱이에요 ㅠㅠㅠㅠ 너무너무 깨끗하고 공간이 예뻤어요ㅠㅠ 엄청 섬세하고 센스있다라는게 느껴질정도! 굳이 딴데 안나가고 방에서만 놀았는데도 엘피, 빔프로젝터, 식사도구 등등 잘 되어 있어서 재밌었어요! 지금까지 갔던 에어비엔비 중에서 제일 만족합니당',\n",
       " '너무 만족스럽고 좋았어요',\n",
       " '공간 하나하나 신경쓰신게 보여서 너무 좋았습니다 :) 완전 뷰맛집 !! 요리 해먹기도 좋고 호스트님의 센스가 돋보였던 숙소였어요 잘 쉬다 갑니다!',\n",
       " '경사가 높은것 빼곤 완벽해요',\n",
       " '사진으로 보던것과 똑같이 너무 예뻤어요! 호스트님도 정말 친절하시구, 날이 덥다고 체크인 시간에 맞춰서 에어컨이랑 선풍기도 미리 켜주시고 세심한 배려에 감동했습니다^^ 주차때문에 조금 고생은 했지만ㅜㅜ 그래도 다음에 또 가고싶은 공간입니다^^',\n",
       " '휼륭하다는 말 밖에는... ^^',\n",
       " '사진으로 보는것보다 경험할때 더욱 빛을 발하는 공간입니다. 취향이 비슷한 음악, 책 그리고 멋진 뷰가 인상적이었어요. 세심하고 사려깊은 생각들을 곳곳에서 발견하는 좋은 시간이었습니다. 계단과 언덕을 충분히 오를 가치가 있는 곳이지만 경사로가 힘든 분들은 보니스피자펍쪽에서 걸어오는 길은 선택하지 마시길!',\n",
       " '홈페이지에 올라온 사진들만으로도 매력 있는 공간일 거라 추측했는데, 막상 도착해보니 훨씬 더 실물파(?)였어요! 넓고, 쾌적하고, 무엇보다 숙소 구석구석 호스트님의 손길이 세심하게 닿아있는 게 느껴져 정말 좋았습니다. 조만간 또 방문하고 싶어요! 다만 가는 길이 오르막이니 짐이 많으신 분들은 택시로 이동을 추천드려요!',\n",
       " '친절하시고 너무 만족스러운 곳이였습니다',\n",
       " '좋은 날 좋은 곳에서 재밌게 보내다 가요',\n",
       " '호스티님의 안내에 따라 택시를 이용하는 것이 가장 좋습니다:) 저는 미리 간단하게 장을 보고 주방을 이용했는데 그릇, 조리도구, 오일류 뭐하나 빠짐 없이 잘 구비되어 있어서 감동적이었어요ㅠㅠ 엘피,책장,소파가 있는 공간은 정말이지..카페 같기도, 여행지 같기도 한 곳입니다. 머무르는 동안 날씨가 흐려 창문 밖 풍경을 온전히 즐기지 못한 것 같아 조금 아쉽네요ㅠㅠ 날씨 좋은 시기에 꼭 한 번 다시가고 싶어요. 침구류도 포근하고 깔끔했어요. +가구 좋아하시는 분들은 분명 만족할거에요. 호스트님께서 직접 제작하셨다고 인스타그램 게시물을 통해 본 기억이 있는데..감각이 엄청난 분 같습니다:) 좋은 공간 공유해주셔서 감사합니다.',\n",
       " '사진보다 실제가 더 좋아요! 인테리어도 엄청 감각적이고 뷰도 좋아요! 친절하신 호스트님덕에 좋은시간 보냈습니다. 번창하세요 :)',\n",
       " '다소 오르막길이 많았으나 계획도시에서 볼수 없는 골목골목 예쁜 상가 찾아다니는 재미가 있었습니다',\n",
       " \"사진에서 보여지는 것 보다 훨-씬 넓고 공간이 예뻐요 역에서 걸어가면 조금 힘들지만 ㅠㅠ 택시타고 가면 금방이예요 ! 높은 곳에 위치한 만큼 남산타워도 보이고 뷰가 정말 좋아요 방이 크면서 아늑하고 특히 레코드판이랑 화장실에 구비되어있는게 너무 섬세하고 좋았어요 같이 간 인원들이 '와 너무 이쁘다...'만 계속 외쳤네요 ㅠㅠ 특히 제일 좋았던점은 호스트님이 답장을 엄청 빠르게 해주시고 요구사항도 이해해서 다 준비해주셔서 감사했습니다 !!\",\n",
       " '남산이 보이는 숙소 너무 멋졌어요 단 오르막이 가파른 점은 멋진 남삼을 보기 위해 감수해야합니다. 그 외에는 음악, 빔, 멋진 숙소, 조용하고 새소리가 들리는 멋진 풍경, 시원한 바람, 그리고 섬세한 커피, 차 준비 외 음식도 간단히 해 먹을 수 있는 조리도구 등 기회가 되면 꼭 한번 더 묵고 싶은 숙소입니다. 그리고 무엇보다 친절하고 섬세한 호스트님 감사합니다. : )',\n",
       " '사진과 그대로 깔끔하고 인테리어가 너무 마음에 들었어요. 네비 검색해서 차량으로 이동했는데 주차 공간이 없어서 아쉬웠고, 주택인데 입구 찾아서 들어갈 때 다소 헤맸지만 금방 찾았습니다! 오픈한지 얼마 안된터라 깔끔한 소품들과 청결한 공간이 좋았어요. 그리고 이 숙소의 가장 큰 장점은 제일 꼭대기에 위치해서 낮이든 밤이든 풍경이 너무 예뻤습니다. 저녁엔 음악 틀어 놓고 창가 야경만 바라봐도 힐링이더라구요! 잘 머물다갑니다 :)',\n",
       " '숙소 모든 곳에서 호스트님의 배려가 느껴졌습니다. 답장도 신속하셔서 정말 감사했어요. 그리고 무엇보다도 숙소 자체가 너무 예쁘고 깔끔하고 청결하고ㅠㅠㅠㅠㅠ 완벽해요. 남은 계절마다 느낌이 색다를거같아서 재방문하고 싶어요. 최고',\n",
       " '감성이 제 취향이라서 너무 즐겁게 시간 보내고 갑니다. 소품들이랑 가구들 그리고 감성등은 컨설팅 받고 싶을 정도네요.',\n",
       " '생각보다 훨씬 예뻤고 깨끗했어요!! 특히 창문에서 보는 뷰가 넘 예쁘고 좋았어요! 머무는 동안 잘 쉬고 힐링하다 갑니다:)',\n",
       " '여기를 처음 알게 된 건 사진을 전문적으로 촬영하시는 사진작가님이 매력적인 공간의 에어비앤비가 있다고하셔서 오게됐습니다 이 공간은 해방촌의 자유를 맛볼 수 있는 탁트인 뷰가 매력적인 공간이에요 (바로 건너편이 그랜드하얏트 호텔뷰 ) 좋았던 점들을 하나하나 나열하기 힘들정도인데 그중에서도 가장 좋았던 점은 리빙룸에 위치한 레코드와 음악 플레이리스트였어요 여행을 다니면서 레코드를 모으는 취미가 있고 항상 음악을 즐겨 듣는데 비치해 두신 레코드가 모두 너무 취향이여서 하나씩 들어보는 재미가 있었습니당 테라스에서 마시는 핸드드립 커피도 좋았고 특히 얼죽아 파인데 커피마실걸 깜빡하고 얼음이 없어서 아쉬웠던 찰나에맞다 냉동실을 보니 호스트분께서 얼음을 미리 얼려두신 세심한 센스를 보고 이 호스트분은 센스레벨이 장난아니다라는걸 깨달았답니다 덕분에 얼죽아파는 아이스커피를 마실수있어서 행복했답니다',\n",
       " '비앤비 사진이 참 멋져서 위시리스트에 한참 담아두었다가 드디어 다녀왔어요 방명록에도 남겼지만 공간에있는 것 만으로도 누군가에게 위로를 줄 수 있는 멋진 비앤비라고생각합니다. 남산만 잘보이는게 아니라 이곳저곳 풍경이 잘 보이는 구조라서 어딜찍어도 뷰맛집 이더라구요 좋은 음악들도 듣고 빔프로젝트로 영화도 보고 일어나서 드립커피와 차까지 마셨어요~ 너무 즐거운하루를 보냈네요! 다음에 또 올 수있었으면좋겠습니다 ^^',\n",
       " '감각적이고 멋진 공간에서 즐거운 시간 보냈습니다. 직접 제작한 예쁜 가구부터 더운 여름날 미리 에어컨을 틀어놓은 배려까지, 편안하고 행복한 stay 였어요. 특별한 날이었는데 공간 덕에 더욱 특별한 시간이 된거같아요! 호스트분도 친절하고 신속하게 응대해주셔서 도움이 많이 되었어요. :)',\n",
       " 'Very nice, cozy and clean. I had a great day here :-)',\n",
       " '',\n",
       " '',\n",
       " '',\n",
       " '집이 너무 살고 싶은 워너비 집이었어요ㅠㅠ난방도 잘되어 있고 빔프로젝터로 넷플릭스보는데 너무 좋더라고요ㅎㅎ 아쉽게 바람이 많이줄고 날씨가 쌀쌀해서 야외는 즐기지 못했는데 다음에 기회가 된다면 야외에서 식사도 해보고싶어요! 너무 잘쉬다 갑니다^-^',\n",
       " '테라스도 좋고 위치도 좋고 편의점이 바로 앞이라 정말 좋았아요 ㅎㅎ 특히 빔프로젝트방이 너무 맘에 들었구 그냥 침실은 앞에 가로등이 조금 밝아서 잠을 못 자서 빔프로젝트 방에 이불 옮겨서 잤어용 ㅎㅎㅎ 침실에 암막커튼ㅇ 있음 좋을 거 같아용 전자레인지는 없어서 조금 불편은 했지만 그거 다 커버할만큼 예쁘고 좋았습미다 !!',\n",
       " '친구들과 좋은시간 보내고 갑니다! 방도 분리되어있고, 네 명이서 앉을 수 있는 책상도 있어서 저녁 시켜먹고 잘 놀다가 잠도 푹 잘수 있었어요. 깔끔하고 청결한 시설들이 인상적이었고, 바로 밑에 씨유가 30초 거리에 있어서 주전부리 사오기에도 좋았습니다. 날이 추워 루프탑을 많이 사용하지는 못했지만 루프탑에 앉아 도심속에서 잠시나마 여유를 느낄 수 있었습니다~ ;)',\n",
       " '공간 완전 예쁘게 꾸며놓으시고 시설도 청결했습니다! 친구들이랑 갔는데 빔프로젝트방 소파베드도 완전 푹신해서 꿀잠잤네요~ 위치도 역에서 가까워서 좋았습니다! 그리고 이태원 근처라 배달되는 맛집 많아서 좋았어요~ 재방문 의사 있습니다!',\n",
       " '호스트님이 답변도 정말 빠르고 친절하십니다~! 숙소는 전체적인 구성이 좋아요 거실이랑 안방, 넷플릭스 방으로 놀기 좋고 공간감도 넉넉해요! 테라스에 쓰레기 정리할 수 있어서 쾌적해용 ㅎㅎ',\n",
       " '',\n",
       " '',\n",
       " '',\n",
       " '',\n",
       " '좋아요!!',\n",
       " '집이 너무 살고 싶은 워너비 집이었어요ㅠㅠ난방도 잘되어 있고 빔프로젝터로 넷플릭스보는데 너무 좋더라고요ㅎㅎ 아쉽게 바람이 많이줄고 날씨가 쌀쌀해서 야외는 즐기지 못했는데 다음에 기회가 된다면 야외에서 식사도 해보고싶어요! 너무 잘쉬다 갑니다^-^',\n",
       " '테라스도 좋고 위치도 좋고 편의점이 바로 앞이라 정말 좋았아요 ㅎㅎ 특히 빔프로젝트방이 너무 맘에 들었구 그냥 침실은 앞에 가로등이 조금 밝아서 잠을 못 자서 빔프로젝트 방에 이불 옮겨서 잤어용 ㅎㅎㅎ 침실에 암막커튼ㅇ 있음 좋을 거 같아용 전자레인지는 없어서 조금 불편은 했지만 그거 다 커버할만큼 예쁘고 좋았습미다 !!',\n",
       " '친구들과 좋은시간 보내고 갑니다! 방도 분리되어있고, 네 명이서 앉을 수 있는 책상도 있어서 저녁 시켜먹고 잘 놀다가 잠도 푹 잘수 있었어요. 깔끔하고 청결한 시설들이 인상적이었고, 바로 밑에 씨유가 30초 거리에 있어서 주전부리 사오기에도 좋았습니다. 날이 추워 루프탑을 많이 사용하지는 못했지만 루프탑에 앉아 도심속에서 잠시나마 여유를 느낄 수 있었습니다~ ;)',\n",
       " '공간 완전 예쁘게 꾸며놓으시고 시설도 청결했습니다! 친구들이랑 갔는데 빔프로젝트방 소파베드도 완전 푹신해서 꿀잠잤네요~ 위치도 역에서 가까워서 좋았습니다! 그리고 이태원 근처라 배달되는 맛집 많아서 좋았어요~ 재방문 의사 있습니다!',\n",
       " '호스트님이 답변도 정말 빠르고 친절하십니다~! 숙소는 전체적인 구성이 좋아요 거실이랑 안방, 넷플릭스 방으로 놀기 좋고 공간감도 넉넉해요! 테라스에 쓰레기 정리할 수 있어서 쾌적해용 ㅎㅎ',\n",
       " '처음에 보일러 문제로 당황했지만 호스트님의 빠른 답변으로 잘 해결할 수 있었고, 처음엔 좀 추웠지만 금방 따듯해져서 2박3일 포근하게 잘 보냈어요. 특히 영화룸이 제일 마음에 들었어요!',\n",
       " '사진처럼 깔끔하고 이뻐요 안에 소소한 물품들 있어서 좋았어요',\n",
       " '공간도 너무 좋았고, 빔있는 룸이 정말 맘에들었어요. 룸 청소가 잘 되어있어 쾌적하게 잘 이용 했습니다. 와인잔을 깨뜨리는 실수가 있었는데 너그럽게 양해해주셔서 감사합니다.',\n",
       " '전반적으로 깔끔하고 좋았어요.',\n",
       " '보일러 작동법을 몰라서 문의드렸는데 답변이 빨라서 잘 해결했어요! 숙소도 깔끔하고 예뻤고 생각했던것보다 더 좋았어요!',\n",
       " '역에서 가까운 위치가 정말 좋았습니다!',\n",
       " '긋긋',\n",
       " '잘 머무르다 갑니다',\n",
       " '사진이랑 똑같이 예뻤고 위치도 삼각지역에서 가깝고 바로 옆에 편의점도 있어서 좋았습니당',\n",
       " '테라스가 너무 이뻐요! 시설도 깔끔하고 좋았습니다',\n",
       " '전체적으로 깔끔하고 좋은숙소 입니다. 테라스도 좋습니다만 뷰는 감안하셔야합니다. 입실하고 몇가지 문제가 문제가 있었지만 호스트분이 빠르게 대응해주셨습니다.',\n",
       " '위치도 삼각지역에서 실제 3-5분 도보거리였습니다. 인테리어도 사진과 동일했고, 바로 옆에 편의점이 있어서 편리했어요. 밤에 전등키면 더 무드있게 즐기실수있어요. 저희끼리 묶는 독채라 편안하고 청결면에서도 백점만점 깨끗했습니다. 수건도 넉넉하게 있어서 좋았고요!! 다음번에도 또 이용하고 싶은 곳이에요^^',\n",
       " '생각보다 너무 좋았고 테라스랑 빔프로젝트도 정말 잘 썼습니다 재방문의사 300%입니당',\n",
       " '삼각지역에서 가까워서 좋고 주변이 조용해서 좋았습니다 :) 빔프로젝트 연결에 조금 시간이 걸리긴 했는데 잘 이용했구요 숙소 컨디션도 깔끔하고 좋았습니다! 다음에 기회되면 또 이용할게요',\n",
       " '전체적으로 깔끔했고 빔프로젝트가 있는 방이 너무 좋았어요 에어컨도 잘 작동되어서 쾌적했고 밤새 친구들이랑 영상보면서 재밌게 놀았어요 전자렌지가 없는 건 아쉬웠는데 그래도 다른 조리기구가 있어서 잘 해결했어요 냉장고에 생수도 따로 넣어주셨더라구요',\n",
       " '정말 양질의 시간 보내고 왔어요! 하루만 묵었던게 아쉬웠습니다. 평소에 남자친구와 로컬 에어비앤비 방문하는걸 즐기는 편인데, 블루비하우스 덕분에 삼각지 동네의 매력에 빠졌어요 ㅎㅎ 동네에 힙한 가게들과 노포들이 어우러져 있습니다. 빠른 응답 감사드렸구요, 테라스에 불 켜놓고 있으니 저희만의 루프탑이 마련된 것 같아 정말 기분 좋았습니다. 혹시나 요리하실 분들을 위해서 몇가지 사항 공유할게요 1. 와인잔/ 와인오프너 구비 2. 기름, 설탕, 고춧가루, 소금, 후추 등 기본 조미료 구비(단 숙박객들이 남겨놓으신 물건들이라 찝찝하신 분들은 별도 구매해서 방문하시길 권장합니다.) 3. 전자렌지 없음, 인덕션 2구로 1인이 요리하기 좋은 공간 안방이 채광이 좋은편이고 밤에는 가로등 불이 비치는 편이라 빛에 예민하신 분들은 영화관방에서 주무시는 걸 권해드리고 싶네요. 덕분에 좋은 공간, 좋은 동네 알게되어 감사드립니다.',\n",
       " '빔프로젝트도 좋고 너무 잘 놀다갑니다',\n",
       " '찾아가기도 쉬웠고 무엇보다 숙소가 청결하고 너무 예뻤어요! 잘 쉬다 갑니다 예쁘고 깨끗한 숙소 감사해요 :-)',\n",
       " '거실 에어컨이 안되서 연락했더니, 직접 건전지 사서 끼워보라는 대응을 하셔서 매우 당황스러웠습니다. 게다가 건전지 사서 다시 해봄에도 불구하고 에어컨이 작동되지 않더라구요. 다행히 수동으로 직접 껐다 켰다해서 사용했지만, 8월에 이 더위와 습도에 이런식의 대응은 좀 아닌거 같습니다. 그리고 분리수거 통이 비워져있지 않았고, 커피머신 사용했던 커피원액? 그런게 치워지지 않은 상태로 있었습니다. 거리와 인테리어 편의시설 다 좋았는데 청결과 에어컨 부분이 너무 많이 아쉽네요.',\n",
       " '보아님 숙박 중 불편을 드려 죄송합니다. (__) 조금 더 노력하겠습니다!',\n",
       " '비와서 안에서만 놀았는데 빔프로젝터가 있어서 좋았어요 편의점도 가까워서 좋았구요 첨에 대문 여는게 좀 헷갈렸는데 1층 할머니 할아버지께서 친절하게 알려주셨어욤ㅎㅎ 담에 또 쉬러 갈께요',\n",
       " '친구 둘이서 초졸하게 브라이덜 샤워했는데,(브라이덜 샤워하면서 밤새 놀고 편하게 쉬려고 숙박을 잡았어요) 깨끗하고 심플한 공간이라서 재미있게 잘 놀았습니다. 빔은 근데 흰색 노란조명 테이블쪽(작은 거실..같은 공간)이 아닌, 작은 방에 있어서 만약에 이벤트때문에 빔 띄워놓고 이벤트하시려는 분은 참고하시면 좋겠어요. 사진보다는 방이 약간 작다는 생각이 들었습니다. 그리고 거울 사진에 있는 흰색 테이블이 손으로 짚었을 때 약간 흔들리는 테이블입니다 그치만 전반적으로 훌륭하다는 생각이 들었습니다. 수압도 세고, 온수도 뜨겁게 잘 나왔습니다 수건도 넉넉히 주셔서 별다른 요청사항 없이 잘 지내다 왔어요. 에어컨은 테이블이 있는 거실쪽 하나, 작은방 하나에 있고 저 사진상 흰침대 있는 공간에는 없었습니다(대신 천장에 큰 선풍기가 있었어요) 빔은 파란색 커텐방에 있는데 처음 연결할때는 와이파이와 블루투스를 반드시 켜고! 숙소 안에 있는 안내책자 참고하셔서 크롬캐스트 다운받으시면 어렵지 않게 보실 수 있을거에요. 와이파이를 켜니까 그제야 연결이 되더라고요(빔 자체는 잘 작동함) 빔 몸체쪽에 노란색 불이 들어와야 켜진 거랍니다. 테라스는 생각보다 작았지만 조명을 켜니 바람쐬고 수다떨기에 괜찮았어요. (참고로 테라스 조명 켜는 스위치는 거실에 있습니다. 테라스다 보니 당연히 테라스쪽에 조명스위치가 있는 줄 알았는데 실내에 테라스 스위치가 있었어요! ) 2층 올라가는 계단이 조금 높아서 무섭긴 했는데 내려갈때 조심하시고 삼각지 역에 내려서 구글지도의 지도 말고, 직접 보내주신 상세오시는 길로 찾아오니(호스트분이 직접 보내주신 지도가 훨씬 이해하기 쉽습니다) 어렵지 않게 찾을 수 있었어요! 역에서 5분거리라 찾기 어렵지 않으실거에요!! 너무 예쁜 추억 만들었습니다 즐거웠습니다 ㅎㅎ',\n",
       " '아조 좋아요',\n",
       " '친구랑 너무 잘 놀다갑니다^^ 인테리어 넘 예뻐용',\n",
       " '숙소가 전반적으로 깔끔하고 잘 꾸며두셔서 좋았습니다. 각 방마다 에어컨/선풍기가 설치되어 있어서 여름에 아주 쾌적하게 지낼 수 있었어요. 수건과 어메니티 그리고 냉장고와 접시들도 잘 구비되어 있습니다. 빔 프로젝터는 아주 잘 작동했습니다. 야외 테라스는 생각만큼 넓진 않지만 따로 작은 전구 가랜드를 설치해두셔서 어둡지도 않고 음식을 먹기에 적당했습니다. 숙소에 큰 창문이 두 개 있는데 맞은편 건물이 보여서 뷰 자체는 좋지 않습니다. 하지만 친구들과 편안한 시간을 보내기에 크게 거슬리는 점은 아니었습니다. 숙소가 2층에 위치해있는데 계단이 가파른 편이라 무거운 짐을 옮기기엔 힘들 것 같습니다. 그리고 근처에 편의점이 있어서 매우 편리했습니다!',\n",
       " '사진에서 본 것 처럼 예쁜 공간에 청결하고 너무 좋았어요ㅎㅎ 친구들이랑 예쁜 사진 많이 남겼어요! 들어가자마자 너무 예쁘다고 감탄했어요ㅠㅠ 다만 집이 약간 습한건지 리모델링한지 얼마 안되어 그런건지 살짝 꿉꿉한 냄새??가 났어요ㅠㅠ그것만빼면 너무 이쁜 집이에요ㅎㅎ',\n",
       " '너무나도 이쁜공간에서 하루를 보낼수있어서 좋았습니다. 여자셋이 머물렀는데 너무 쾌적하고 소품하나하나 이뻐서 계속 감탄하며 사진을 찍었네요ㅎㅎㅎ 저희는 넷플릭스 연결해서 봤는데 그것도 너무 좋았고 테라스도 완벽했습니다!!! 커피머신이랑 캡슐도있어서 아침도 여유있게 즐기고 나왔네요^^ 정말 강추합니다! 특히 사진찍기에 정말 좋습니다',\n",
       " '깔끔하고 좋습니다',\n",
       " '화장실이 깔끔하고 샤워기 수압도 세서 너무 좋았습니다 화장실 상태만으로 나머지는 말할 필요도 없습니다',\n",
       " '거실이 생각보다 좁아서 당황했어요 사진에 탁자 나와있는곳이 출입문 바로 옆이에요 주방과 거실이 좁은 대신 방이 컸으나 방 하나는 에어컨이 없어서 다른방에서 다 같이 잤어요. 아무래도 구옥이라 오래된 느낌은 있지만 전체적으로 인테리어가 깔끔하게 돼있습니다. 지하철 역이랑 가까워 찾아오기 쉬웠고 바로 옆에 편의점이 있는것도 좋았습니다. 주차공간은 없지만 가까운 공영주차장이 많아서 그쪽에 주차하는것도 괜찮습니다.',\n",
       " '숙소가 기대했던 것보다 더 좋았어요. 영화볼 수 있는 공간이 특히 좋았어요. 휴대폰 연결해서 영화관처럼 볼 수 있었습니다 역에서도 가깝고 편의점도 바로 앞에 있어서 나중에 이용하시는 분들도 좋을 것 같아요! 인테리어 하나하나 예쁘고 침대도 폭시해서 잘 쉬다 갑니다~',\n",
       " '코로나 때문에 방콕여행을 했는데 부족함이 하나도 없었습니다. 빔프로젝터에 에어컨 등등 이박삼일동안 재밌었습니다 샴푸 컨디셔너 바디샤워 다 구비되어있고 청결했던 방! 다좋았지만 전자렌지는 없어서 아쉬웠습니다.',\n",
       " '너무 좋았어요 무빙룸도 좋고 카페처럼 꾸며진것도 너무 좋았어요~~',\n",
       " '힐링 그 자체였습니다! 오래된 단독주택 외관에 놀랄 수 있지만, 숙소 문을 열고 들어가면 따뜻하고 정돈된 공간을 볼 수 있습니다. 인테리어는 사진이랑 동일하고, 방은 생각보다 커서 지내기 편안했습니다! (좋았던 점) 예쁜 인테리어, 넓은 방, 넓은 화장실, 넉넉한 수건, 호스트의 빠른 응대, 대형 빔프로젝트 (아쉬웠던 점) 전자레인지가 없음, 부엌이 좁음',\n",
       " '위치도 좋았고, 근처에 편의점도 있고 이마트도 있어서 좋았습니다. 제일 좋았던 점은 인테리어인데요. 제 로망의 집이였어요. 테라스에 전구도 있고, 빔프로젝트있는 방이 따로 있어서 너무 좋았습니다. 인테리어도 예쁘게 잘 해놓으셨습니다. 청결하고 흠잡을 점이 없는 숙소였습니다. 다음에 또 이용하고싶네요 ☺️',\n",
       " '친구 셋이서 놀러갔는데 음식도 해먹고 플레이팅 접시도 예뻐서 너무 좋았습니다!!',\n",
       " '너무 이쁘고 지하철역이랑 가까워요 주변에 편의점도 있고 완전 좋아요!! 수압도 좋고 인생샷 찍기 좋습니다',\n",
       " '친구 생일 파티 하려고 예약했는데, 공간도 너무 이쁘고, 특히 무비룸은 스크린도 크게 해놓으시고 진짜 좋았어요. 한가지 아쉬웠던 점은 아무래도 오래 된 건물 자체가 오래되서 그런지 온도가 조금만 올라가도 냄세가 나기 시작하더라고요ㅠ 그 부분만 제외하면 정말 좋았어요!!',\n",
       " '사진그대로의 집이고, 멋진 루프탑도 있고 분위기 좋았어요. 바로 아래 족발 보쌈집이 맛있었던건 부수적인 개이득~',\n",
       " '장소 정말 예쁘고 안락해요!! 침대도 두 종류로 있어서 편한 쪽으로 잘 수 있어서 좋았습니당 ㅋㅋㅋ 그리고, 방에 에어컨 있어서 너무 시원하고 쾌적하게 보냈어요!!!',\n",
       " '공간이 깔끔하고 예쁩니다. 어느 각도에서 찍어도 대박이에여.. 저 말고도 브라이덜샤워 많이들 하셨던데 강력추천합니다ㅠㅠ',\n",
       " '곳곳에 배려가 묻어나는 정말 만족스러운 숙소 였습니다. 문의 드리는 사항에 항상 빠르고 친절하게 설명 주셔서 감사했어요. 인테리어도 너무 예쁘고 아주 청결했습니다. 숙소 이용법이 자세하게 설명된 설명서도 있어서 어려움 없이 모든것들을 이용할 수 있었어요. 삼각지역에서 아주 가깝고 이마트도 걸어갈 수 있는 거리에 있어서 위치상으로도 너무나 편리했어요! 다음에도 꼭 다시 이용하려고 합니다~',\n",
       " '사진에서 보는 것처럼 아늑하고 깨끗한 인테리어입니다! 역에서 접근성도 좋고 주변에 씨유, 좀 더 걸어가면 용산 이마트도 있어 장보기 좋았습니다. 곳곳에 놓인 디퓨져 덕분에 집에서는 항상 좋은 향이 나서 쾌적하고 좋았어요 :) 대형스크린을 통해 영화도 볼 수 있고 블루투스 스피커도 구비되어 있어 분위기 있는 저녁을 보낼 수 있었습니다. 재방문하고 싶은 에어비앤비입니다추천해요!',\n",
       " '좋았슴니다!! 블투스피커도 빵빵하고 빔프로젝터 화질도 짱짱',\n",
       " '정말 너무 좋았어요!! 외관이 낡았다길래 어떤가 하고 갔는데 내부가 너무 깨끗하고 (화장실 포함) 전부 좋은 냄새가 나서 넘 즐겁게 놀고 왔네요! 역이랑 가깝고 편의점도 있고 바로 앞에 카페도 있고 캡슐커피머신에 빔프로젝터 방까지 완벽합니다 ㅠㅠ 호스트님 답변도 빠르고 친절하셔서 행복했어요!',\n",
       " '너무 깨끗하고 방안에 향도 너무 좋았어요~! 체크인 체크아웃 문의로 연락 드렸는데 답장도 빨리 주셔서 너무 감사했습니다! 방도 너무 이쁘고 특히 빔 프로젝트 있는 방이 너무 줗았어요 비가 와서 테라스를 이용 못한게 아쉬웠지만 너무 좋은 하루였어요! 감사합니다~',\n",
       " '빔프로젝터로 영화관 뺨치는 시간을 보냈습니다 다만 안내도가 영어로 되어있는데 누구나 편하게 연결할 수 있게 안드로이드폰 캡쳐, 아이폰 캡쳐 두가지 메뉴얼로 남기면 더 수월하게 연결할 수 있을듯 합니다 테라스에서 시간도 좋았고 주변에 맛집도 많아서 저녁배달, 다음날 아점식사도 좋았습니다 1층 주차가 문제인데 저는 우연히 주변 이웃분의 배려로 건너편 주거단지에 주차했었습니다',\n",
       " '안녕하세요 여자 셋이서 이용했는데 너무 맘에 들었습니다. 일단 굉장히 깨끗했구요 방마다 놓여져 있는 디퓨저 향도 맘에 들었습니다. 빔 프로젝터 연결이 잘 안될 때마다 호스트님께 메시지 보냈는데 굉장히 빠르게 답변도 받았구요 친구들끼리 또 와도 괜찮겠다라는 이야기를 서너 번 나눴습니다. 감사합니다 추천합니다^^',\n",
       " '우선, 여행하기 전 문의에 빠르게 답해주셨어요. 숙소 위치는 역 근처여서 접근성이 좋았고 근처 편의점이나 음식점이 많아서 그것도 강점! 무엇보다 너무 아늑하고 예쁘게 꾸며놓으신게 느껴졌어요! 사소한 것 하나까지도 ㅎㅎ 밤에는 테라스에 조명 켜고 있으니 더욱 더 좋았어요 ◡̈ 다음에 친구들이랑 또 가고싶은 곳입니다',\n",
       " '친구들과 (총4명) 늦은 생일파티겸 방문했는데 만족했습니다! 중간에.이런저런 문의할 일들과 피드백 드릴게 많아서 메시지를 많이 보냈었는데 응답이 빠르셔서 좋앗어요! 1. 이곳에서 요리하실거면 주방은 생각보다 작아서 이 부분 유의하시면 될 것 같어요! 2. 테이블이 너무 예뻐서 파티하기 좋았습니다 3.빔 프로젝터 연결은 알고보면 쉬워요( 처음에 살짝 애먹었지만) 4.물과 커피도 비치되어있고 수건도 넉넉했습니다. 5.음식물쓰레기 종량제 봉투 분리수거통 등 잘 구비되어있어서 정리하기도 좋앗어요! 6.베개는 다른분들 의견처럼 조금 높았지만 잘 자고 나왔습니다! 7. 바람이 좀 불어서 테라스 사용은 못했지만 너무 예뻣어요 8. 매뉴얼 업데이트가 필요해요 (와이파이 비밀번호 첫장을 참고하시는게 좋아요) 9. 공구함이나 문구함 같은게 비치 되어있어서 좋아요! 화장실 키도 비치되어있었으면 더 좋을뻔 했습니다 ㅠㅠ 10. 아늑한 주택이고 화장실 엄청 깨끗하고 방마다 놓여져있는 디퓨저 덕분에 향이 좋았습니다 여러모로 배려 잘 해주시고 피드백 빠르게 해주셔서 감사합니다',\n",
       " '친구들과(3명) 함께 생일파티를 위해 예약했습니다! 숙소의 접근성이 훌륭했고, 장을 보실거면 숙소 바로 옆 편의점 또는 큰 마트는 용산역 이마트가 있었어요!원래는 3시 입실이었는데 청소가 일찍 끝나셨는지 2시쯤에 입실 가능하다고 연락 주셨습니다! 숙소를 결정한 1순위가 빔 프로젝트였어요. 다만 저희가 한 번도 사용해 본적이 없어서 연결하기까지 다소 시간이 걸렸네요 ㅜㅜ 그래도 호스트님 덕분에 잘 해결해 좋은 시간 보냈습니다! 그리고 숙소가 너무 아담하고 감성적으로 잘 꾸며져 있어 인생샷 많이 건질 수 있었어요! 호스트님의 따뜻한 마음만큼 따뜻한 숙소였네요. 다음에도 또 이용하고 싶어요 (Hidden by Airbnb) 에도 후기 올리려구요! 좋은 장소 정말 감사합니다 잘 쉬다 가요❤️',\n",
       " '방하나를 영화관으로.. 너무 좋았습니다',\n",
       " '이 숙소 너무너무좋았어요!!!ㅎㅎ친구들과 여럿이서 갔는데 쉴 공간도 충분하고 예쁘게 잘 꾸며놔주셔서 재밌게 놀다갑니다!! 우선 호스트님이 너무 친절하세요!! 그리고 카페 같은 분위기의 빔 프로젝트가 있는 방이 있었는데 누워서 영화를 보니 너무 좋더라구요!!잘사용했어요ㅎㅎ 위치도너무좋아요. 역에서 5분거리이고 숙소주변에 숨은 맛집들도 많더라고요!!! 또 2층에 잔디깔아놓으신 마당같은 공간이 있는데 예쁜전등으로 꾸며놔주셔서 인생샷도 건질 수 있었습니다! 잘쉬다가요 삼각지역 근처에서 묵을 일 있으면 자주 갈 것같습니다!!',\n",
       " '너무너무 이쁜공간이었어요 카페 같은 분위기에 빔 프로젝트가 있는것만으로도 좋았는데 따로 전용 공간이 있어서 아늑하고 너무 좋았구요 남자친구랑 기념일 맞이해서 머물렀는데 최고였어요 ㅠㅠㅠ 정말 좋은 기억으로 남을거 같아요',\n",
       " '1. 화장실이 깨끗하고, 샴푸/린스/수건도 넉넉하게 비치되어 있음. 2. 커피포트, 드라이기, 와인/샴페인 잔 구비 3. 넓은 숙소, 역에서 접근성 용이 4. 매뉴얼이 구비되어 있으나, 업데이트 필요 (와이파이 비번, 영화 연결 방법) 5. 분위기 좋음',\n",
       " '항상 호텔위주로 다녔었는데 호텔과는 다른 로컬적인 분위기가 좋았고, 매력있었습니다 ㅎㅎ화장실이나 숙소 상태는 깔끔해서 아주 마음에 들었습니다 다만 아직 따뜻한 날씨가 아니라서 조금 추웠지만 전기장판이 있어서 따뜻하게 묵을 수 있었습니다.',\n",
       " '엘리베이터가 없으니 캐리어 주의! 숙소는 너무너무 이쁘고 아늑해요. 공간도 넓고 침대도 넒고 빔프로젝트 엄청 크구 너무 좋습니다!',\n",
       " '문의답변도 빠르고 친절하시고 들어가자마자 쾌적하여 너무 좋았어요! 전체적으로 다 만족스러웠던 곳! 다만 계단이 좀 있으니 캐리어보다는 들기 편한걸 추천합니다~~~',\n",
       " '호스트님이 너무 친절하시고 낭만적인 인테리어와 예쁜스피커 빔프로젝터방 모두 잘사용했어요 위치도너무좋아요 숙소주변에 숨은 맛집들도 많더라고요 잘쉬다갑니다!!',\n",
       " '어제부터 오늘까지 숙박한 따끈따끈한 후기 입니당ㅎㅅㅎ 접근성이 좋았고 밤에 무섭지도 않고 바로 옆에 편의점이 있어서 편리했어요! 겨울이라 넓은 테라스 공간을 사용하지 못한게 아쉬워서 봄이나 가을에 또 오려구요ㅋㅋㅋㅋㅋㅋ실내 엄청 예쁘고 침구류가 넘 폭신거리고 부드러워서 꿀잠잤어요*.*',\n",
       " '호스트분께서 방을 아주따듯하게 난방을 먼저 틀어놔주셔서 덕분에 따듯하게 보낼 수 있었어요! 빔을 볼 수 있는방은 정말 개인적으로 침대부터,, 프로젝터까지 정보를 여쭤보고싶을만큼 집에 가져가고싶은 공간이였어요,,, 파티를 할 수 있는 와인잔부터 커피잔까지 소품하나하나 너무이뻐 완벽한 친구의 생일 파티를 할 수 있었어요! 다음에 정말 또 오고 싶은 그런 곳이였어요 감사합니다♥︎',\n",
       " '모든 것이 다 좋았던 숙소였습니다. 에어비앤비는 호스트와의 소통이 중요하다고 생각하는데 호스트분이 너무 친절하게 잘 응대해주셔서 감사했습니다^^ 위치는 말할 것도 없고 아늑하고 따뜻한 숙소 분위기가 정말 좋았어요. 물론 깨끗하기도 했구요 빔프로젝터 연결이 어려웠다는 후기가 있어서 걱정했는데 가이드북에 설명이 친절하게 나와있어서 빔프로젝터 이용도 잘 했어요 저와 제 친구들 모두 1000% 만족한 숙소였습니다',\n",
       " '아주아주 깔끔하고 예뻤어요~ 역이랑도 가깝고 바로 옆에 편의점이 있어서 편했어요 ㅎㅎ',\n",
       " '항상 대답도 친절하게 빠르게 잘 해주시고 방도 따뜻하고 아담한 느낌이여서 좋았습니다. 에어비앤비는 처음 써봤는데 좋은 기억 많이 남길 수 있게 해주셔서 감사합니다.',\n",
       " '호스트님은 굉장히 친절하시고 응답 빠르십니다. 또한 위치나 이용방법 안내도 잘 해주셨습니다. 청결에 예민한 편인데 깔끔하고 군더더기가 없습니다. 수건도 넉넉하고 관리를 잘해주시는 것 같습니다. 난방도 잘되고 온수도 잘나옵니다. 또 예쁜 식탁에서 업무도 잘할 수 있었습니다. 침대에서도 푹신하게 잤구요! 집 분위기가 예전 유럽여행때 에어비앤비 이용한 느낌이 나서 더욱 좋았습니다 :)',\n",
       " '분위기도 좋고 위치도 좋아요.',\n",
       " '아주 좋습니다 용산근처가게된다몀 여기만 갈거같네요',\n",
       " '처음 들어갔을 때 숙소가 추웠어요. 난방 설정 후 2시간 후부터 온기가 느껴졌어요. 외관은 오래된 주택이지만 내부는 따뜻한 느낌으로 인테리어 되어있었어요. 마실 물은 인원수만큼 500ml 냉장고에 있었구요. 아침에 돌체구스토 캡슐 커피 마셨는데 맛있었어요. 들어가는 길에 gs편의점 1개 있었어요. 이불은 도톰하게 준비되어 있었습니다. 단, 배게가 너무 높아서 불편했어요.',\n",
       " '경민님 안녕하세요! 블루비 하우스를 찾아주신 점 다시한번 감사드려요 난방으로 인해 불편하셨던 사항은 있으셨네요, 높은 온도를 설정해서 빠르게 안이 따뜻해질 수 있도록 안내해드렸어야 했는데 그러지 못해 아쉽습니다. 훨씬 더 만족할만한 블루비하우스가 될 수 있도록 노력하겠습니다. 좋은 하루 보내세요 ^^ 감사합니다.',\n",
       " '사진에서 보는 그대로 카페처럼 예쁘고 분위기가 좋았고 위치도 역에서 가까워서 편했어요. 난방도 잘되고 물품구비도 잘 되어있어서 편했습니다. 영화 연결하는 게 좀 어렵긴 했지만 영화 볼 수 있는 방이 따로 있어서 좋았어요. 주택이라 대문 들어가는 게 조금 복잡했지만 동네도 조용하고 여러모로 만족스러웠습니다.',\n",
       " '역이랑 정말 가깝습니다. 공간도 깔끔하게 꾸며져 있고 좋네요! 빔프로젝터로 예능도 보고 재밌는 시간 보냈습니다 다음에도 이용할 의사가 있습니다!',\n",
       " '굉장히 깨끗하고 아늑한 숙소였어요! 저희는 주차공간이 걱정이었는데 삼각지역 공영주차장에 야간에는 무료주차가 가능해서 문제없이 이용했습니다. 호스트님께서 문의사항이 있을때 빠른 피드백을 해주셨구요, 덕분에 편안한 숙소이용 할 수 있었습니다.',\n",
       " '방 인테리어 깔끔하고 영화 볼 수 있는 방까지 있어 깨알같은 재미도 느낄 수 있었습니다. 캡슐커피와 간단한 식기구가 있어 아침 정도는 해 먹기 좋고요. 위치도 삼각지역 바로 근처라 서울 구경 다니기 편리했습니다.',\n",
       " '에어비엔비 많이 사용 해보고 좋은 숙소도 많이 사용 해봤지만 제일 좋았던 숙소라 처음으로 후기 남깁니다. 일단 위치는 더 말할 것도 없이 너무 좋은 위치였고, 계단이 조금 불편하다는 분들이 계실 것 같은데 입실 퇴실 단 두 번만 짐 옮길 때 조금 힘들 뿐이지 저에게 불편할 정도는 아니었습니다. 보일러도 잘 나오고, 저는 아침에 침실로 들어오는 햇빛이 참 좋았어요. 차와 커피를 마실 수 있게 준비 해주신 것도 좋았습니다. 앞으로 서울에서는 이 숙소만 이용할 것 같습니다 + 제일 좋았던 부분은 다른 숙소를 사용해본 결과 수건을 넉넉하게 준비를 잘 안 해주시는데 이 숙소는 수건을 넉넉히 준비 해주셔서 참 좋았습니다',\n",
       " '호스트님 궁금한 사항 보내면 완전 빠르게 칼답해주시고 집 인테리어도 너무 센스있고 예뻐요! 삼각지역에서 진짜 오분거리고 바로 옆에 씨유있어요~ 근데 크게 장볼려면 용산역 이마트 이용하셔야 될 듯 해요! 드라이기도 있고 고데기도 있고 정말 짱짱이에요! 나중에 또 방문할려구요 ㅎㅎ!',\n",
       " '아이폰이라 빔프로젝터 안될까 걱정했었는데, 빔프로젝터 잘 사용했구요~ 집 아늑하고 교통 편리해서 좋았습니다. 다음에 친구들과 재방문하려구요 ㅎㅎ 수고하세요',\n",
       " '위치 , 숙소 내부 , 인테리어 다 너무 좋았어요 ! ^^',\n",
       " '돈 절대 안아까울만큼 만족 했어요!',\n",
       " '안녕하세요 범창님 ! 계신 동안 좋은 시간 보내신 거 같아서 저도 기뻐요 :) 불편하셨던 사항은 잘 확인하고 바로 해결하겠어요. ^^ 훨씬 더 만족할만한 블루비하우스가 될 수 있도록 노력하겠습니다. 감사합니다.',\n",
       " '일단 역과 정말 가깝고 찾기 쉬운곳에 있었습니다생각했던것보다 더 예쁘고 안락한 공간이었어요! 정말 침구며 수건, 화장실 다 매우 깨끗했고 조용했습니다. 조금만 가면 이태원 한남동이 있는데 저는 공간이 너무 좋아서 종일 집에만 있었네요.. ㅎ 매우 좋은 시간 보내다왔습니다~!!',\n",
       " '모든 것이 좋았어요 위치부터 청결도, 소통, 감각적인 인테리어와 주변의 맛짖들.... 다음에 다시 꼭 올 거에요 ㅎㅎㅎ 감사히 묵다가 가요',\n",
       " '침실, 화장실 다 아주 청결했어요! 빔 프로젝터 방에 에어컨이 있어 시원하게 영화도 볼 수 있어서 좋았습니다. 지하철역, 버스 정류장이 가까워서 여기저기 여행하기도 편했어요. 또, 문의 사항 메세지 보냈을때 호스트님이 바로 바로 답장주셔서 불편함 없이 잘 지내다 갑니다!!',\n",
       " '역 근처여서 찾기도 쉽고 대중교통 이용하기도 편했어요! 방들도 잘 꾸며져있어서 좋았어요:-)그리고 호스트 분도 친절하셔서 잘 지낼 수 있었습니다!',\n",
       " '아이폰 유저분들은 영화를 폰에 다운받아가셔야 해요!',\n",
       " '집안이 너무 깔끔하고 인테리어도 너무 이뻐요 ㅠ 생각보다 숙소 찾기도 쉬웠고 호스트분이 너무 친절하시고 배려넘치셔서 너무 즐거운 여행이었어요! 묵는 동안 정말 행복한 숙소였습니다:)',\n",
       " '호스트분 친절하시고 집 아늑하고 예뻐요~ 빔프로젝터방 있어서 커플로 왔을때 같이 놀기 좋았습니다 잘쉬다갑니다 ㅋㅋ',\n",
       " '여기 숙소 진짜진짜 좋아요. 세심한 손길이 느껴지는 정말 분위기 있는 숙소이고 청결함과 편안함은 정말 흠잡을데가 없었습니다. 옛 주택을 리모델링 하신건데 그래서 그런가 방도 두개고 넓직해요 주방도 살짝 분리형이라 좋구요! 위치도 삼각지역에서 걸어서 사분? 완전 가깝습니다. 아마도 단기간에 정말 인기많은 숙소가 되지 않을까 싶습니다. 잘 묶었어요!',\n",
       " \"'블루비'는 나에게 삼각지에서 'BEST' 에어비엔비가 되어버렸다. 만일 다시 삼각지에 에어비엔비를 구해야되는 일이 생긴다면 블루비를 재방문할 의사가 당연 100%! 이 곳에 머무는 동안 너무 편안했고 좋은기억으로 가득하다. 1. 위치 (●●●●●) : 삼각지역과 버스정류장에서 단 '5분'내의 거리에 위치해 대중교통을 이용하는데 매우 편리했고, 그쪽에서 큰 골목으로 쭉들어오면 바로 에어비엔비가 있기때문에 찾기도 쉬웠다. 또한 바로옆에 편의점이 있고 주위에는 카페, 맛집들도 있어서 좋았다! 2. 내부시설 (●●●●●) : 사장님의 손길이 안 닿은 곳이 없는 감성적이고 편안한 인테리어가 안락한 분위기를 자아낸다. 뿐만아니라 생긴지 얼마 안되여 매우 내부가 정말 깔끔해서 좋았다. 그리고 넉넉히 준비되어 있는 수건과 식기류 등 덕분에 이를 편하게 이용할 수 있었다. 와이파이도 잘 터지고, 에어컨은 두대나 있으며 미니 선풍기까지 구비되어있어 한여름에도 시원하였다. 그리고 이 에어비엔비는 스페셜!!!한 방이 있는데 편하게 누울수있는 공간과 빔프로젝터가 있어, 편안하게 보고싶은 영화나 영상을 스크린에 띄워 볼 수 있다. 이 방에서 영화보면서 누워있으면 기분 최고다......!! 사장님 센스 짱짱! 3. 조용 (●●●●●) : 평소 잠귀가 밝아 예민한 편임에도 불구하고 조용한 동네라서 소음이 없어 잘 잘수있었다.\",\n",
       " '아늑하고 편안했어요. 특히 영화방이 있어 너무 좋았어요. 가끔 욕실창문틈으로 새어들어오는 담배냄새와 부엌에 전자렌지가 없어 좀 불편했던거외엔 흠잡을곳 없었답니다',\n",
       " '친구들과 소소하게 생일파티하려고 에어비앤비 신청해서 다녀왔습니다. 정말 오랫동안 찾아도 맘에 드는곳이 없었는데 여기는 친구들 모두 들어가자 마자 너무 좋다며 다들 만족스러워 했습니다! 1. 씨유가 1분? 도 안되는 거리에 바로 옆에 있다. 2. 삼각지역이랑도 가깝다. 3. 인테리어가 인스타 갬성이다. 4. 필요한 물품 ( 컵, 수건,샴푸 린스 드라이기 등등) 구비가 잘 되어있었다. 5. 방이 두개라 편하고 한방은 꽤 넓어서 네명이 누워도 남았다. 6. 화장실이 널찍했다. 여러모로 너무 좋았고 재밌게 쉬다 갑니다!',\n",
       " '장기 숙박으로 이용하였습니다. 예상보다 훨씬 더 깔끔하고 좋았고, 호스트님과 항상 잘 연락되서 좋았습니다. 위치도 지하철/버스/KTX 타기에 다 가깝고 주변에 맛집이나 편의점, 세탁소 등 편의시설이 가까워 편했습니다. 주택이라 벌레를 좀 걱정했는데, 모기 이외에는 단 한번도 다른 벌레를 본 적 없을 정도로 청결했습니다. 올라가는 계단이 좀 경사가 있어 오르내릴 때 주의하여야 하나, 크게 불편한 점은 못 느꼈습니다. 전반적으로 장기투숙하기에도 단기로 투숙하기에도 매우 좋은 숙소이며, 다음에 기회가 된다면 다시 방문하고 싶습니다.',\n",
       " '만족스럽습니다~ 다음에 또 이용하고 싶어요',\n",
       " '엄청 친절하시고 응답도 매우 빠르셨어요 숙소도 너무 좋았어용 또 가려구요!!',\n",
       " '집은 너무 깔끔하고 이쁘네요^^',\n",
       " '사진보다 훨씬 좋네요!! 건물외관은 좀 낡았지만 집은 아기자기하게 잘 꾸며놔서 너무 예뻤어요! 주방이랑 방마다 공간이 분리되어있어 깔끔했어요 호스트분도 답변도 빠르시고 친절해서 좋았어요 위치도 좋았고 다 만족스러웠어요! 다음에 기회가 된다면 또 묵고싶네요 아..! 한가지 아쉬운건 빔프로젝터가 아이폰은 영결이 안되어서 슬펐네요 ㅠㅠ',\n",
       " '소라님 잘들어가셨어요~? 후기도 달아주시고 정말 감사합니다. 아이폰 연결이 안돼 저도 정말 속상했는데 이제서야 방법을 찾았네요 이제는 아이폰으로도 빔프로젝터를 사용할 수 있습니다 ! 혹시라도 다음에 다시 방문해주시면 자그마한 선물 챙겨놓을게요 :) 좋은 하루 보내세요~',\n",
       " '훌륭한 위치. 역과 Covid 테스트 구역까지 도보로 쉽게 이동할 수 있습니다. 테라스가 마음에 들었고 인테리어는 호스트가 스타일 감각이 좋은 것 같습니다. 빔 프로젝터를 켜고 장치에 연결하는 방법에 익숙해지면 Netfl *** 및 Youtu **를 보느라 바쁜 하루를 보낼 수 있습니다. 가장 좋은 점은 호스트가 매우 의사 소통하고 항상 게스트에게 필요한 것을 제공한다는 것입니다. 집에는 충분한 식기, 조리기구 및 주방 용품이 있습니다. 팁. 이 집은 오래된 전통적인 건물이라는 것을 명심하십시오. 벽과 천장이 화려하지 않을 수도 있습니다. 다른 이웃이 밤낮으로 담배를 피우는 외부에서 냄새가 나기 때문에 욕실 창문과 프로젝터 스크린 방 창문을 열지 마십시오. 다른 큰 창문에서 신선한 공기와 햇빛을받을 수 있습니다. :) 나는 확실히 내 친구들에게 추천하고 다시오고 싶습니다.',\n",
       " '아파트는 깨끗하고 예상대로 똑같습니다. 질문이 있으면 그는 우리를 빠르고 잘 도와주었습니다. 우리 방문에 대해 나쁘게 말할 수는 없습니다.',\n",
       " '기차역 근처에 편리하게 위치한 아늑한 작은 아파트! 추운 겨울 밤에 집은 깨끗하고 따뜻했습니다. 프로젝터 룸은 넷플릭스에 완벽했습니다. 호스트는 반응이 좋고 도움이되었습니다. 큰 짐이 있으면 좁은 계단을 오르기가 조금 힘들지만 불가능하지는 않습니다. 근처에 많은 현지 식당과 아파트 바로 옆에 편의점이 있습니다. 추천합니다!',\n",
       " '깨끗한 장소, 좋은 위치 !!',\n",
       " '우리는 완전히 만족했습니다. 아파트는 깨끗했고 위치는 여행에 완벽했습니다. 질문이 있으면 호스트가 항상 우리를 도울 수 있습니다. 우리는 독일에서 2 주간의 휴가를 보내고 매우 즐겼습니다!',\n",
       " '서울에서 정말 좋은 곳. 멋진 관광, 큰 방, 커피 머신도 있습니다. 다음에 여기에 오기를 바랍니다 서울에서.',\n",
       " '주찬의 집이 굉장 해요! 삼각 지역 바로 옆, 레스토랑, 카페, 바가 매우 편리합니다! 놀라운 경험이었던 전쟁 기념관 바로 건너편에 있으며 서울의 거의 모든 곳에서 매우 가깝습니다 (지도 위치는 항상 10-13 분이었습니다)! Juchan은 매우 친절하고 우리의 질문에 너무 빨리 대답했습니다. 그의 장소는 서울 아파트에 비해 조용하고 장식용 예술품과 식물의 멋진 손길을 가졌습니다. 앉아서 휴식을 취하고 물건을 넣을 수있는 충분한 공간이 있습니다. 그는 커피를위한 네스프레소 머신과 매우 명확한 지침이있는 작은 영화관을 가지고 있습니다. 아파트에는 큰 옥상과 온돌 바닥 난방이있어 열이 필요할 때 아주 푹신합니다. 적극 추천합니다! 또한 지역은 꽤 조용했고 좋았습니다!',\n",
       " '중앙 기차역과 버스 노선에서 도보로 단 5 분 거리에있는 매우 편리한 위치입니다. 바로 밖에서 좋은 음식 선택. 아파트는 세련되고 깨끗했으며 난방 시스템이 잘 작동합니다. 주찬은 테이크 아웃과 답변을 빠르게 해주는데 도움이되었습니다.',\n",
       " '아주 멋진 호스트가있는 멋진 집입니다! 집 주변에 많은 맛있는 레스토랑 ~ 좋은 경험 :)',\n",
       " '4,6 호선 삼각 지역에서 도보 5 분 이내 근처에 버스 정류장도 어디에 가기에도 편리합니다! 집 주변에는 식당과 편의점이 있습니다 방도 사진대로 샤워의 수압 온돌도 문제없이 사용할 수있었습니다 :) 물 2 개와 커피와 차 서비스 너무 고마웠어요 ~~ ※ 2 층에 올라가는 외부 계단이 가파른 때문에 무거운 짐이있는 분은주의가 필요합니다',\n",
       " 'Juchan의 재산은 아름답습니다. 여러 언어로 된지도와 냉장고에있는 생수를 포함하는 세심한 손길이 있습니다. 하루 종일 시내를 돌아 다닐 때 큰 도움이 된 세탁기가 있다는 것을 알게되어 기뻤습니다. 모든 것을 매우 간단하고 쉽게 만들 수 있도록 잘 설정된 재활용 쓰레기통이 있습니다. 체크인 전 의사 소통은 매우 빠르고 도움이되었습니다. 부동산을 찾는 방법은 매우 명확하고 도움이되었습니다. 여기에 머무르는 것을 좋아할 것입니다! 버스 정류장과 기차역에서 매우 가깝습니다. 동네에는 먹기 좋은 곳이 많이 있습니다.',\n",
       " '제가 가장 좋아하는 에어 비앤비 숙박 중 하나입니다. 이 아파트에서 서울에 살고 있다는 느낌이 들었습니다! 흰색 벽과 세련된 터치로 미학이 아름답습니다. 이 아파트에는 스마트 폰에서 콘텐츠를 스트리밍 할 수있는 영화 실을 포함하여 필요한 모든 것이 있습니다. 아파트는 달콤하고 작은 현지인 만 느끼는 동네에 있지만 이태원과 같은 더 많은 관광지로 연결되는 주요 지하철 및 버스 정류장에서 불과 2 분 거리에 있습니다. 전쟁 기념관도 아파트에서 가까운 도보 거리에 있습니다. 나는 호스트가 사전에 아파트에 체크인하는 방법에 대한 놀랍도록 상세한 파워 포인트를 보냈고 전체 숙박 기간 동안 매우 의사 소통을했다는 것을 덧붙일 것입니다. 유일한 사소한 결함은 한밤중에 화재 경보가 몇 번 울렸다는 것이지만 우리는 향후 방문객을 위해 호스트에게 경고했습니다. 전반적으로 놀라운 가치와 멋진 숙박.',\n",
       " '호스트는 좋은 sooooo입니다!! 그는 많은 인내심으로 우리를 도왔습니다 !! 그리고 그의 영어는 우리가 아주 잘 소통 할 수있을 정도로 훌륭합니다. 그는 우리가 테이크 아웃을 주문하고 택시를 부르는 것을 도왔습니다! 집도 훌륭합니다! 도착하자마자 사랑에 빠졌습니다. 집 주변에는 맛있는 음식이 많이 있으며 지하철역 근처에 있습니다. 그래서 교통도 편리합니다. 한마디로 살기에 정말 좋은 선택입니다!',\n",
       " '매우 예쁘고 잘 위치한 아파트! 호스트는 정말 친절하고 배려합니다. 모든 것에 감사드립니다!',\n",
       " '이 집을 강력히 추천합니다. 호스트 Juchan은 아주 좋은 사람입니다. 나는 거기에 오기 전에 공항과 집 사이의 교통에 대한 매우 자세한 안내를 받았습니다. 그는 내 질문에 대해 빠른 답변을 드릴 수 있으며 때로는 긴급 상황에 있습니다. 우리가 돌아온 마지막 날, 그는 짐을 보관할 보관함을 찾기 위해 우리를 서울역으로 데려 왔습니다. 그는 매우 친절하고 우리를 돌보아줍니다. 집의 경우, 그것은 매우 편리한 위치에 있으며, 지하철 4 & 6 호선에서 도보로 5 분, 서울역에서 2 정거장 거리에 있습니다. 설명은 실제이며 에어 비앤비 소개와 동일합니다. 집이 깨끗합니다. 주의해야 할 사항이 하나 있습니다. 바닥 난방 시스템도 온수를 덮습니다. 샤워 후 스위치를 끄십시오. 그렇지 않으면 바닥 난방 시스템이 여전히 켜져 있습니다. 겨울에는 좋아요. 간단히 말해서,이 집에 별 5 개가 있습니다.',\n",
       " '',\n",
       " '',\n",
       " '',\n",
       " '',\n",
       " '',\n",
       " '속솜스테이를 보자마자 제가 찾던 분위기의 숙소라서 망설임 없이 예약했어요. 너무 만족스러운 시간이었고, 날씨 좋은 날 남산타워 뷰 보러 또 한번 가고싶네요! 호스트님의 친절하고 빠른 답변 덕분에 예약부터 이용 퇴실까지 불편함 없이 좋았습니다! 특히 생화와 디퓨저의 좋은 향기가 기억에 남네요. 오브제들 하나하나 섬세하게… 더 읽기',\n",
       " '예쁜 인테리어, 거기에다 뷰까지 정말 잘 머물다 갔습니다! 특히 밤에 조명들덕에 아늑하고 뷰도 너무 예뻐요! 저는 차를 타고 갔지만(지하주차장이 있어 편리) 대중교통도 편히 갈 수 있을것 같아요 주변에 먹을 것도 잔뜩! 위치가 좋습니다! 예쁜 복층 자취생활을 경험해볼 수 있었어용ㅎㅎ 친절하고 세심하게 챙겨주신 부분이 많아 대만족 했습니다 :) 감사합니다',\n",
       " '호스트 분도 너무 친절하고, 숙소도 엄청 깔끔하고 인테리어도 너무 이쁩니다. 창문으로 보이는 뷰도 이뻐요. 기회가 된다면 다음에 또 오고 싶어요!',\n",
       " '',\n",
       " '세심하고 따뜻한 안내메시지 덕분에 입실 전부터 설레고 기대되는 마음이었습니다. 역시나 방이 참 깨끗했습니다. 저도 에어비앤비를 여러개 운영하고 있는 터라 이렇게 깔끔하게 방을 유지한다는 것이 쉽지 않다는 것을 잘 알고 있습니다. 그래서 더더욱 만족스러웠습니다. 인테리어도 실용적이고 통일성 있으며 무엇보다도 단아한 것이… 더 읽기',\n",
       " '여러모로 너무 좋았던 것 같습니다. 빔 프로젝터가 너무 맘에 들어서 고민 없이 예약한 곳인데 기대를 저버리지 않았습니다 :-) 2층 공간으로 올라가는 계단의 간격이 높아서 살짝 불편한 점이 있었지만 나머지는 너무 좋았습니다.',\n",
       " '',\n",
       " '',\n",
       " '',\n",
       " '1.호스팅 예약하고 숙소 방문일 전에 친절하고 상세한 안내 연락을 해줘서 숙소 방문 이전부터 더욱 기대가 되도록 호스팅을 잘 해주셨어요! 숙소에 도착해서 소금을 못 찾아서 연락드렸더니 바로 답장이 와서 빨리 해결할 수 있었습니다. 그밖에 체크아웃하는 날에는 주변의 가까운 현지 음식점이나 정보를 알려주고 스테이 끝까지 정말 친절한 호스팅을 해줘서 감동이었어요 :) 2.시설 주방은 원룸이라 협소하긴 하지만 요리하기에 크게 나쁜 점은 없었고 조미료, 식기, 커트러리, 냄비 까지 종류별로 다양하고 깔끔하게 준비돼있어서 정말 만족스러웠습니다. 요리해서 먹으려고 예약한 숙소라 기대했는데 기대만큼이나 좋았어요ㅠㅠ 현관 들어서자마자 보이는 예쁜 보라색 생화부터 여기 저기에 배치된 식물들이 귀엽고 기분이 좋게 만들어줬어요. 화장실에는 수전과 샤워기에 달린 필터 덕분에 깨끗한 물로 걱정없이 씻을 수 있었고 생각지도 못한 부분에서 의외의 세심한 배려로 호스트분의 센스에 놀랐습니다. 그 외 침실이나 다이닝 공간까지 속솜 이라는 단어 뜻과 참 잘 맞는 공간이라고 생각이 들었고, 구석 구석 호스트분의 취향과 배려가 담긴 인테리어 덕분에 깔끔하고 아늑하고도 예쁜 공간에서 편히 쉴 수 있었어요! 3.위치 숙대입구랑 남영역에서 둘 다 매우 가까웠어요! 숙소에서 남산이 보이는데 남산이랑도 가깝고 근처 지하철역이나 버스정류장과도 가까워서 대중교통으로 이동하기에도 정말 편리해요. 후기가 없음에도 숙소 소개글이 마음에 들어 예약했던 곳인데, 정말 정말 만족스러웠던 숙소라서 혹시 후기가 얼마 없어 고민이신 분들있다면 바로 예약하시길 추천해요 진짜!',\n",
       " '속솜스테이를 보자마자 제가 찾던 분위기의 숙소라서 망설임 없이 예약했어요. 너무 만족스러운 시간이었고, 날씨 좋은 날 남산타워 뷰 보러 또 한번 가고싶네요! 호스트님의 친절하고 빠른 답변 덕분에 예약부터 이용 퇴실까지 불편함 없이 좋았습니다! 특히 생화와 디퓨저의 좋은 향기가 기억에 남네요. 오브제들 하나하나 섬세하게 공간을 꾸며주신 점도 너무 맘에 들었어요. 청결이 가장 중요하다고 생각하는데 노후된 건물이긴 하지만 깨끗하게 청소 해주신 부분이 느껴졌습니다. 편안하고 기분 좋은 시간 보낼 수 있게 도와주셔서 감사해요',\n",
       " '예쁜 인테리어, 거기에다 뷰까지 정말 잘 머물다 갔습니다! 특히 밤에 조명들덕에 아늑하고 뷰도 너무 예뻐요! 저는 차를 타고 갔지만(지하주차장이 있어 편리) 대중교통도 편히 갈 수 있을것 같아요 주변에 먹을 것도 잔뜩! 위치가 좋습니다! 예쁜 복층 자취생활을 경험해볼 수 있었어용ㅎㅎ 친절하고 세심하게 챙겨주신 부분이 많아 대만족 했습니다 :) 감사합니다',\n",
       " '호스트 분도 너무 친절하고, 숙소도 엄청 깔끔하고 인테리어도 너무 이쁩니다. 창문으로 보이는 뷰도 이뻐요. 기회가 된다면 다음에 또 오고 싶어요!',\n",
       " '세심하고 따뜻한 안내메시지 덕분에 입실 전부터 설레고 기대되는 마음이었습니다. 역시나 방이 참 깨끗했습니다. 저도 에어비앤비를 여러개 운영하고 있는 터라 이렇게 깔끔하게 방을 유지한다는 것이 쉽지 않다는 것을 잘 알고 있습니다. 그래서 더더욱 만족스러웠습니다. 인테리어도 실용적이고 통일성 있으며 무엇보다도 단아한 것이 참 만족스러웠습니다. 서울역 근처라 타지에서 오시는 분들은 교통이 편리할 것 같습니다. 숙대 상권 근처라 인프라도 최고수준입니다. 잘 머물다 갑니다!',\n",
       " '병재님 안녕하세요. 멋진 후기 감사합니다. 호스트분에게 칭찬을 들으니 더 뿌듯하고 기분이 좋습니다. 같은 호스트로서 반갑기도 하고요:) 정말 깔끔하게 숙소 이용해주셔서 최고였어요. 정말 청결하게 숙소를 사용하셔서 저 또한 감사했습니다. 계시는동안 충분한 휴식이 되셨길 바라봅니다! 만물이 소생하는 봄에 병재님에게 기분 좋은일이 가득하길 바라보아요. 다음에 또 만나뵙길 기대할게요 감사합니다.',\n",
       " '여러모로 너무 좋았던 것 같습니다. 빔 프로젝터가 너무 맘에 들어서 고민 없이 예약한 곳인데 기대를 저버리지 않았습니다 :-) 2층 공간으로 올라가는 계단의 간격이 높아서 살짝 불편한 점이 있었지만 나머지는 너무 좋았습니다.',\n",
       " '정말 추천하고싶은 숙소입니다 역이랑도 가깝고 주변에 식당이나 편의시설이 많아요 사진으로 보고 숙소가 조금 작은건 아닌가 걱정했는데 실제로 보니 층고도 높고 호스트분께서 공간을 실용적이게 꾸며놓으셨어요. 호스트님 정말정말 친절하시고 메세지 보내면 답장도 바로바로 해주셔서 너무 편하게 잘 쉬다왔어요',\n",
       " '세심한 배려와 멋진 풍경 덕분에 편안한 시간 보내다 갑니다:) 풍경, 위치, 배려 등 모두 좋았습니다! 머무르며, 편안한 힐링했습니다! 감사합니다!',\n",
       " '후기가 없어서 걱정했는데 걱정과 달리 정말-정말 만족했어요. 예상보다 훨씬 좋았어요 재방문 의사, 만족도 1000% 1. 남산뷰 남산뷰를 평소에 좋아해서 예약했는데, 남산 뷰가 사진보다 실제로 더 가까이 느껴져서 남산이 바로 앞에 있는 것 같아서 좋았어요. 저녁에 해방촌과 남산타워의 야경도 잊지 못할 것 같아요. 웬만한 호텔보다 멋진 뷰였습니다. 야경이나 낮에 봐도 멋져서 계속 창밖에 보면서 멍 때렸어요 2. 위치, 편의시설 주변에 편의시설도 많아서 편리했구요. 마트 편의점 맛집 다 있어요. 지하철역도 정말 가깝습니다. 바로 앞에 버스정류장도 있고 숙대입구 남영역 다 가까워요. 서울역이나 용산역도 가깝고요. 3. 내부 숙소 컨디션 주방도 그릇도 많고 와인오프너까지 구비되어 있어서 편리했고요. 침구도 폭신폭신하고요. 깨끗했습니다. 공간도 매우 청결했습니다. 냄새에 민감한 편인데 들어가자마자 향기가 넘 좋았어요. 저녁에 빔으로 영화보는 것도 좋았고요. 작동법도 잘 알려주셔서 영화관에 온 것 처럼 잘 봤어요 아늑하고 하나하나마다 호스트님의 손길이 닿아 있는 느낌이라 더 세심함을 느꼈습니다. 4. 가격대비 만족도 지금 오픈기간이라 할인하신다고 하셨었는데 이렇게 좋은 공간을 이 가격에 이용해도 되나? 싶을 정도로 완전 만족합니다:) 연신 자취방이었으면 좋겠다고 내내 말했어요. 이런 집에서 살고 싶어요! 인스타 스토리에 올렸는데 지인들이 다 어디냐고 물어보고 주변에 많이 알려줬습니다 덕분에 정말 잘 쉬다 가요. 푸릇한 남산이 궁금해져서 다시 또 오고 싶은 곳입니다. 공간이 주는 위로와 안정감을 느끼고 갑니다. 호스트님의 응대도 정말 친절하시고 더할 나위 없이 행복한 1박을 보내고 갔네요 감사합니다. 강력 추천해요. 재방문 의사 100%있습니다.',\n",
       " '은비님 이용해주셔서 감사합니다. 덕분에 저도 호스팅하면서 기분이 따스해졌어요. 다정하게 이야기 나눌 수 있어 감사했습니다. 이제 봄이네요. 다가 오는 봄에도 좋은 일만 가득하시길 바랄게요 :) 다음에 또 뵙길 바라봅니다',\n",
       " '',\n",
       " '',\n",
       " '기념일이라 어디를 갈까 하다가 시기가 시기인지라 그냥 예쁜 숙소에서 하루를 보내려고 찾아보다가 방문하게 되었어요!ㅎㅎ 사진보다 실제가 훨씬 예뻤고 호스트님이 정성이 느껴졌습니다~~! 그래서 숙소 쓰는내내 저도 더 깨끗히 머물다 가야겠다고 생각이 들었어용❤️ 화장실도 너무 청결했고 동네 자체가 조용해서 푹~ 잘 쉬다가요!! 예약을 고민하고 있다면 저는 강추합니다❤️',\n",
       " '좋았습니다',\n",
       " '깨끗하고 조용해서 푹 쉬기 좋았어요. 추천!❣️',\n",
       " '',\n",
       " '에어비엔비 하면서 센스 있다고 생각하는 부분이 주방에 키친타올이 있는건데 여기 있더라구요. 그것 말고도 곳곳에 호스트님 센스가 보이는 곳이 많았어요. 그리고 정말 정말 깨끗합니다. 정말로.. 식기들은 저희가 꼭 한번 씻고 사용하는데 여기는 그냥 썼어요. 화장실도 그렇고 침실도 그렇고 너무 깨끗해서 정말 저희 집처럼 편하게… 더 읽기',\n",
       " '숙소가 생각 보다 넓고 역시나 숙소 향이 좋고 청결했습니다 요리 하기에는 다소 부엌이 좁앗지만 해먹을수 잇을 조미료도 많고 좋앗어용 특히 침실이 너무 편안햇어용',\n",
       " '칫솔이랑 물은 없었지만 공간이 너무 예쁘고 편안해서 다른 후기들 처럼 계속 있고싶었어요',\n",
       " '',\n",
       " '',\n",
       " '',\n",
       " '',\n",
       " '',\n",
       " '기념일이라 어디를 갈까 하다가 시기가 시기인지라 그냥 예쁜 숙소에서 하루를 보내려고 찾아보다가 방문하게 되었어요!ㅎㅎ 사진보다 실제가 훨씬 예뻤고 호스트님이 정성이 느껴졌습니다~~! 그래서 숙소 쓰는내내 저도 더 깨끗히 머물다 가야겠다고 생각이 들었어용❤️ 화장실도 너무 청결했고 동네 자체가 조용해서 푹~ 잘 쉬다가요!! 예약을 고민하고 있다면 저는 강추합니다❤️',\n",
       " '좋았습니다',\n",
       " '깨끗하고 조용해서 푹 쉬기 좋았어요. 추천!❣️',\n",
       " '에어비엔비 하면서 센스 있다고 생각하는 부분이 주방에 키친타올이 있는건데 여기 있더라구요. 그것 말고도 곳곳에 호스트님 센스가 보이는 곳이 많았어요. 그리고 정말 정말 깨끗합니다. 정말로.. 식기들은 저희가 꼭 한번 씻고 사용하는데 여기는 그냥 썼어요. 화장실도 그렇고 침실도 그렇고 너무 깨끗해서 정말 저희 집처럼 편하게 지냈어요. 이렇게까지 청결한 숙소는 여기가 처음이었습니다. 테라스에서 저녁 먹었는데 노을 지는 게 되게 예뻤습니다 ㅎㅎ 집들이 다닥다닥 있어서 밥 먹다가 눈 마주치시는 분들이 계시긴 했지만 좋았어요. 아 그리고 하나 흠이라면 계단이 가파른 거.. 계단 공포증있는 분들은 많이 무서우실 수도 있어요.. 다음에 또 묵을 때는 며칠 묵고 싶네요 :)',\n",
       " '숙소가 생각 보다 넓고 역시나 숙소 향이 좋고 청결했습니다 요리 하기에는 다소 부엌이 좁앗지만 해먹을수 잇을 조미료도 많고 좋앗어용 특히 침실이 너무 편안햇어용',\n",
       " '칫솔이랑 물은 없었지만 공간이 너무 예쁘고 편안해서 다른 후기들 처럼 계속 있고싶었어요',\n",
       " '좋았어요!',\n",
       " '사진처럼 공간이 너무 이쁘게 잘 되어있어서 좋았어요!! 두명이 쓰기 적당한 공간인것같아요!! 아 그리고 수압이 엄청 쎄서 좋았어요!!ㅎㅎ 좋은 1박 2일이 된것같아요! 감사합니다',\n",
       " '들어가자마자 좋은 냄새가 났고 숙소도 엄청 청결했어요 테라스도 넓고 좋아요. 그리고 3분 거리에 이마트가 있어서 장보기 편합니다. 숙소에 기본적인 향신료들과 파스타면, 시리얼이 있어서 맛있게 먹었어요 ㅎㅎ 빔 프로젝터 사용법이 어려워서 호스트님께 연락했었는데 엄청 친절히 알려주셔서 감동 받았습니다 3박 4일동안 즐겁게 보내다 갑니다!',\n",
       " '너무 친절하신 호스트님 덕분에, 좋은 추억 만들고 왔습니다. 숙소 컨디션도 너무 좋고, 인테리어도 마음에 들었습니다. 재방문 의사 200%입니다',\n",
       " '공간이 너무 아기자기하고 예뻤어요. 너무 깔끔하고 침대 시트도 너무 부드러워서 잠도 잘잤습니다:) 물도 잘나오고 방도 따듯하고.. 다 좋았습니다... 사장님도 너무 친절하시고 최고최고,,,!!!',\n",
       " '여기서 살고싶어요ㅠㅠ',\n",
       " '사진으로 보던 것보다 훨씬 좋았어요!!! 아늑하고 테라스도 있어서 더 완벽했습니다✨',\n",
       " '분이기좋고 침실도 넘넘 편안했습니다 빔도 넘 잘되어서 짱이였어용 ㅎ 분이기 청결도 다 모두 만점입니다',\n",
       " '좋은 곳입니다. 미세먼지 때문에 테라스를 잘 사용하지 못해서 아쉽지만 여러모로 매력적인 공간이네요! 셋톱박스도 있는진 모르지만 없는 점 참고하세요! 숙소가 매우 깨끗하고 아기자기합니다. 난방같은 것도 매우 좋습니다. 열차 소음이 좀 있는데 막차 시간 이후로는 안납니다! 잘 쉬다 갑니다 :)',\n",
       " '혼자 조용하게 시간을 보내려고 1박했는데 그냥 여기 살고 싶었어요.. 다음날 체크아웃하기가 너무 싫었어요ㅠㅜ 사진으로만 봤을 땐 공간이 너무 작지 않을까 걱정했는데 생각보다 넓직하고 전반적인 인테리어가 따뜻한 느낌을 줘서 첫눈에 바로 마음에 들었어요. 그리고 어쩜 그렇게 구석구석 먼지 하나 없이 깨끗한 지;; 관리를 진짜 잘하시는 것 같아요. 침대는 편안하고 침구도 매우 깨끗해서 편안한 밤 보냈슴다 테라스가 있어서 선택한 곳인데 내부때문에 더 좋아진 곳입니다.',\n",
       " '제주도 날씨가 너무 안좋아서 일정 다 취소하고 그냥 서울에서 놀자고 급하게 예약했는데 호스트님 정말 너무 친절하시구 숙소도 진짜 너무너무너무 좋았습니다! 진짜 불편한거 1도 없이 3박4일 지냈네요!! 에어비앤비 많이 사용했지만 여기가 진짜 젤 만족도 높았습니다! 제일 중요하게 생각하는게 청결인데 진짜 너무 깔끔해서 너무 기분 좋았어요! 그리고 화장실 수압도 좋고 따뜻한물 진짜 잘나옵니다 ! 그냥 전체적으로 너무 너무 만족한 숙소!! 담에 또 이용할겁니당~~',\n",
       " '완전 굿입니다 깔끔하고 친절하시구요',\n",
       " '기본 식료품과 주방기구들도 다양해서 편했고, 너무 예쁩니다',\n",
       " '포근하고 향이 너무 좋았던 숙소였어요 화장실도 사진보다 실제로 봤을 때 더 깨끗한 느낌이었어요! 다만 주방은 좁은 편이라 요리하기엔 조금 힘들었어요ㅜㅜ 하지만 테라스도 있어서 분위기 내기 좋아서 기념일 같은 때에 너무 추천드려요!',\n",
       " '위치 안내도 정확히해주시고, 깨끗하고 조용해서 즐거웠습니다 :) 날씨가 따뜻하진 않아서 루프탑 공간에서 오래 있지는 않았지만 바람도 쐴수있고 다 좋았어요! 조용한 동네라 시끄럽지않게 휴식하고싶을 때 또 오고싶어요!',\n",
       " '스마트빔 아이폰 연결 케이블이 살짝 약해진것 같았어요. 그래도 연결해서 엄청 잘 썼습니다,, ^ㅁ^! 그 외에, 주방이 조금 작지만 조리도구는 넉넉해서 밥도 야무지게 해먹었습니다. 제가 간 에어비앤비중 제일 좋았어요 ~ ㅠ 매트리스도 너무 편해서 진짜 꿀잠자고 ㅠ 쵝오 최고',\n",
       " '공간이 깨끗하고 정갈했습니다. 아담하지만 필요한 물품들이 다 갖추어져있어 편리합니다.',\n",
       " '우선 역에서 너무 가까워서 좋았어요. 너무 추운날 예약했는데 역에서 3분정도 거리라 걸어가기 부담스럽지 않았습니다. 또 역 근처에 이마트가 있어서 장보기에도 좋았습니다 !! 원래 피부가 예민한편이라 외부에서 자면 몸에 무조건 알러지가 일어나서 감안하고 자는데,, 여기서 잘땐 전혀 없었어요 ! 침대도 처음봤을땐 몰랐는데 누워보니 생각보다 넓고 아늑해서 너무 좋더라구요 (침대때문에 다음에 또 이용하고싶은 공간이었어요) 또 청결은 기본이라고 생각하는데 기본도 안되어있는곳이 많아서 어딜가든 참 아쉬웠거든요ㅠㅠ 근데 여기 진짜 정말 정말 깨끗해요.. 화장실이 진짜(!!) 깔끔하고 아베다 샴푸에, 마비스 치약 이런 세심한 제품들이 너무 기분좋았어요 !! :) 요리할 생각이 없었는데 주방이 너무 아기자기하고 분위기 있어서 근처 마트에서 장보고 요리까지 했더니 같이간 친구랑도 기분좋게 놀았습니다 ~ 빔프로젝터도 이용했는데 생각보다 이용방법이 쉬워서 넷플릭스 봤는데 재밌더라구요 ㅎ 재활용/일반쓰레기 통도 큼지막해서 이용하기도 편했어요 ! 호스트분과는 연락도 아주 잘되셨고, 말씀을 너무 상냥하게 해주셔서 감사했습니다 . 조금 아쉬운점이라면 들어갈때 계단이 조금 위험했는데 그정도는 아무렇지도 않을정도로 기분좋은 공간이었어요 ! 테이블에 자기전 먹는 카페인 프리 차도 놓여져있었는데 너무 세심해서 감동이었어요 ,, 정말 또 이용하고 싶은 공간입니다 !!',\n",
       " '편하게 잘 쉬다갑니다 힐링되는 느낌 너무 좋았어요 :)',\n",
       " '숙소가 예상 외로 넓었습니다. 그리고 들어가자마자 풍기는 향이 너무 좋았습니다. 저는 특히 침구와 매트리스가 너무 편해서 집이 아닌 낯선 곳인데도 불구하고 푹 잤습니다. 또 날씨가 너무 추워 테라스 이용은 하지 못했지만 날 좋은 날 재방문 해서 테라스에서 여유를 만끽하고 싶네요 :)',\n",
       " '여러가지 요리를 해먹어도 무리가 없었을정도로 도구들이 알찼어요 ㅎ 인테리어는 말할것도없어서 사진을얼마나찍었나몰라요 ◡̈ 청결하고 조용했던곳 추천합니다 !',\n",
       " '배려해주신 덕분에 아주 편히 쉬다갑니다! 무엇보다 위치가 아주 좋고, 주변 편의시설도 최고에요. 간단한 요리 해먹기에도 아주 좋았습니다 인테리어에 많은 영감 얻고가요 ㅎㅎ',\n",
       " '문을 열고 발을 딛자마자 코끝에 닿았던 공간의 첫 향기가 차분하고 포근해서 공간과 잘어울렸습니다. 그리고 아침에 일어나 들어오는 햇살이 정말 싱그러운 느낌이었어서 저도모르게 음악을 틀고 콧노래를 흥얼거리며 커피를 한잔 만들어 마시게 되는 분위기였습니다. 역에서도 가깝고 이마트에서도 가까워서 이것저것 사와서 마음편히 먹을 수 있었네요. 오롯이 나의 공간이었던 1박을 보낼 수 있게 해주셔서 고맙습니다. 또 뵈어요! 새해 복 많이 받으시구요!',\n",
       " '자꾸 생각날 것 같은 곳- 맛집, 카페, 마트, 편의점, 빵집 등 숙소 근처에 편의시설도 잘 갖춰져있어요. 공덕역에서 가깝고 찾아가기도 좋고요. 아늑하고 편안한 시간 보내고 왔습니다. 한동안 집에서도 숙면 못했는데, 꿈도 안 꾸고 푹 잔 것 같아요 :D',\n",
       " '사진보다 더 좋은 숙소였어요 체크인이 4시라 2시쯤에 짐만 맡기러 숙소 들렸는데 호스트님이 감사하게도 얼리체크인 도와주셨습니다 소품들이나 곳곳에 호스트님에 감각이 돋보였구요 다른 문의사항도 친절했습니다 특히 수압이 짱짱입니다 바디워시 향도 취저에요..',\n",
       " '사진보다 훨씬 예쁘고 아늑한 방이였어요! 호스트님의 다른 숙소 이용해보고 너무 만족해서 이번 숙소도 이용했는데 인테리어와 소품 하나하나 모두 너무 예뻤어요ㅠㅠ 하루 묵기 너무 아쉬운 방이었습니다ㅜㅜ 옥탑?같은 곳이라 춥지 않을까 걱정했는데 보일러 빵빵했고 무척 깨끗했습니다! 특히 침구와 쇼파가 정말 너무 편안~.~ 호스트님도 친절히 응대해주셨어요! 다음에 또 묵으러 올게요!',\n",
       " '폭설이 내리던날 묵었어요! 이전에 호스트님의 다른 숙소에 묵었을때 기억이 좋았어서 또 예약했는데 같은 호스트님이지만 또다른 분위기가 났어요. 사진에 보여지는것처럼 기본적인 식재료, 빔프로젝트, 어메니티 등등 다 구비되어있고, 테라스와 침대 만족도가 너무 좋았어요. 밤사이 내린 폭설로 아침엔 테라스에서 눈사람도 만들고 기분좋은 기억만 가득 가져가네요ㅎㅎ 다만 아쉬운건 눈이 오면 계단이 상당히 미끄러우니 조심해야하고, 후라이팬이 상당히 작고, 한개뿐이라 조금 애먹은 기억이 있어요. 여름에 꼭 다시와서 테라스에서 놀고가자며 또 약속을 했네요ㅎㅎ',\n",
       " '공덕역에서 숙소와의 거리도 정말 가까웠습니다 그리고 근처에 이마트도 있어서 장 보기에도 정말 편했습니다 숙소도 정말 청결했습니다',\n",
       " '사진과 똑같아요! 옥탑이라 조금 춥진 않을까 걱정했는데 너무 따뜻해서 반팔입고 자도 충분했어요 ◡̈ 재방문 의사 200%,,',\n",
       " '이번에 Yoon님의 숙소에 머무르게 되어서 정말 무척 좋았습니다 :) 완전 추천해요~!!!',\n",
       " '바로 앞 이마트, 지하철역 등등 모든 것이 완벽했다...다음에도 꼭 다시 이용할게요!!',\n",
       " '사진보다 좋았어요. 여태까지 가 본 에어비앤비 중에 최고입니다',\n",
       " '좋았어요! 아늑하니 둘이 쓰기에 딱 적당한 공간! 너무 추워서 테라스는 사용못한게 좀 아쉬워요 ㅠㅠ 좀 날이 따뜻하거나 선선할 때 밖에 앉아 밥먹기 좋은 것 같습니다. 꼭대기 층임에도 따뜻하고 춥지 않아서 좋았어요 그리고 첫 체크인할 때 향긋한 향기 good..! 처음에 대문을 못 찾아서 허둥지둥했는데, 친절하게 전화로 안내주셨어요 너무 감사합니다..! 덕분에 좋은 크리스마스 추억이 생겼어요 잘 쉬다 갑니다❤️',\n",
       " '아늑하고 예쁘고 깨끗한 공간이었어요',\n",
       " '친절하시고 숙소도 깔끔했습니다:) 또 방문하고 싶어요!',\n",
       " '다음에도 이용하고싶은 곳이네요 숙소에서 세심한 배려가 많이 느껴집니다',\n",
       " '대형마트가 주변에 있어서 일단 너무 좋았구 필요한것들 꼼꼼하게 챙겨주시고 연락도 바로바로 주셔서 잘이용하다 갑니다 겨울이라 그런지 근데 숙소안이 건조한게 조금 아쉬웠지만 그래도 침실에는 공기청정기랑 잘있어서 좋았어요 ㅎㅎ',\n",
       " '좋아요~',\n",
       " '청결도 분위기 편안함 숙소의 모든걸 갖춘 에어비앤비였습니다',\n",
       " 'Yoon님과는 두번째 만남이었는데 언제나 배려깊은 호스팅해주셔서 또 좋은 추억 남기고 가요 이번 숙소도 너무 깔끔하고 공덕역 근처라 이동하는거나 주변에 편의시설이나 맛집,카페가 많아서 너무 편했습니다:)',\n",
       " '테라스랑 갬성 가득한 인테리어에 선택한 숙소인데 곳곳에 위치한 센스 넘치는 소품들에 비록 하루지만 너무 행복 가득한 시간을 보낼 수 있었어용!! 추운날씨라고 미리 틀어두신 보일러 센스 덕분에 체크인서부터 너무너무 좋았고 침구도 착 감기는 호텔스탈에 포근함 캬 또또 체크아웃이 12시인 덕분에 느긋하게 테라스에서 햇살 받으며 먹었던 아침은 절대 잊지못할거 같아용ㅠ 기회가 되면 따뜻할때 또 이용해보고 싶어요ㅎ',\n",
       " '주차할곳이 없어서 아쉬웟던것 빼고는 숙소도 아기자기하고 넘 예뻣어요❤️ 근처에 유명한 카페나 음식점도 많아서 좋앗습니다!',\n",
       " '둘이 쉬어가기 딱 좋은 공간입니다. 테라스 공간이 아주 넓고 쾌적해서 시간가는 줄 모르고 바깥 바람 쐬며 시간 보냈네요. 무엇보다도 제가 후각이 몹시 예민한데 방이며 화장실이며 어디서든 포근한 향이 나서 좋았습니다.',\n",
       " '생각보다 더 깨끗했고 온수가 잘나와요 ㅎㅎ수압짱... 공덕역 근처라 1~2분만 걸어가면 식당,이마트,카페 다 많아서 위치도 좋아요 ㅎㅎ잘쉬다갑니당ㅎㅎ',\n",
       " '좋아욘',\n",
       " '사진 그대로 아늑하고 깔끔해요! 온수도 잘나오고 수압이 쎄서 좋았고 불편한 점 없이 편히 쉬었습니다:)',\n",
       " '후기대로 좋았어요~ ㅎㅎ 연인끼리 가기 정말 좋았습니다',\n",
       " '근처에 이마트도 있어서 장보기가 편했고 역근처여서 좋았어요! 방도 너무 깔끔하고 테라스에서 여유도 즐기고 간단한 조미료들도 있어 좋았습니다. 호스트분도 바로바로 피드백도 주시고 여러모로 재방문의사 높습니다!',\n",
       " '재밌게 놀다왔습니다 아늑하고 좋았어요❕❕',\n",
       " '기대 이상으로 너무 너무 좋았습니다 .',\n",
       " '향기도 좋고, 스피커가 있는 것도 좋고, 무엇보다 정말 청결했어요. 또 가고싶네요.',\n",
       " '너무 아늑하고 좋았습니다! 좋은 곳에서 좋은시간 잘보내고갑니다:)',\n",
       " '소품도 감각적이고 위치도 너무 좋았습니다. 청결도 최고였고요!',\n",
       " '진짜 너무 좋아요... 소품 하나하나 예쁘고 작은 일본 숙소같달까 너무 힐링했어요 ㅜㅜ 진심으로 한 번 더 방문하고 싶습니다',\n",
       " '정말 생각했던것보다 너무 이쁘고 아늑한곳이였어요,, 모든게 다 청결하고 인테리어도 정말 너무 이쁘고,, 답장도 엄청 빠르게 해주시고 아침에 브런치 카페까지 추천해주시는 친철함까지 최고입니다! 자가용을 타고 가신다면 골목이 너무 좁으니초보운전자께서는 대중교통을 이용하시는걸 추천해 드립니당! 버스가 바로 앞까지 와요.. 정말 행복한 시간 보내고 갑니다!',\n",
       " '아늑하고 조용해서 잘 쉬고 왔습니다',\n",
       " '생각했던것보다 실제로 오니까 더 더 좋았어요! 호스트님도 세심하게 잘 챙겨주시고 친절하셨어요! 어제 태풍이 와서 밖에 못나가서 하루종일 숙소에만 있었는데도 너무 재밌었어요 :) 다음에도 또 올게요',\n",
       " '침대가 너무 포근하고 좋아서 잠을잘잤어요.. ㅜㅜ 침대가진짜 너무너무너무좋아요사고싶어요.... 빔프로젝트도 이용하기편하고 파스타면이 구비되어있어서 좋았어요! 또 위치도 엄청 좋았고 집 바로앞에 이마트가있어서 편리했습니다.. +물과 클렌징폼 칫솔은 구비되어있지않아서 미리 알고 챙겨가시면 좋을것같았습니다!',\n",
       " '테라스가 생각보다 넓어서 좋았어요!',\n",
       " '숙소가 웬만한 호텔보다 청결하고 분위기도 아늑한 느낌이라 좋았습니다!',\n",
       " '비가와서 테라스 이용을 못해서 아쉽지만 그래도 너무 좋았어요! 특히 블루투스 스피커가 있어서 좋더라구요',\n",
       " '에어비앤비 여러번 해봤지만 여기가 제일 좋았어요!! 오전 , 낮에는 화장실에 불 안켜도 될 정도로 환해서 좋고 공기청정기 너무 쾌적합니다! 분리수거하기도 좋게 해두시고 이마트문닫는날 방문했는데 편의점이 가까워서 왔다갔다하기 편했습니다. 소파 너무 푹신하고 침대도 푹신하고 어디에 앉든 눕든 너무 편해서 힐링 목적이었는데 완벽한 하루를 보냈어요 감사합니다!~ 아 향이 너무 좋았던게 제일 기억에 남아요. 후각은 금방 적응되기 마련인데 은은하게 계~속 나 는데 정말 편안하고 행복하게 해주는 향이었어요',\n",
       " '여자친구와 1000일 여행으로 놀러왔는데, 너무 만족 하고 가네요. 기회가 된다면 다음에도 또 방문 하도 싶어요',\n",
       " '사진보다 더 많은게 준비되어있고 예쁜 숙소예요 ㅎㅎ 화장실도 너무 깨끗하고 침구들도 좋아서 아주 편하게 숙박했습니다 :)',\n",
       " '숙소가 사진보다 더 좋았어요. 고민하고 계신 분들은 절대 후회하지 않으실 거예요~ 매우 깔끔하고 작은 듯 작지않은 공간, 부엌도 세심하게 필요한 것들이 다 갖춰져있었습니다. 주택의 맨 꼭대기층이다보니 좀 덥지않을까 걱정을 했는데 전혀 덥지않고 오히려 전 좀 추웠어요. 숙소에 머리카락 하나도 보이지 않았고, 빔프로젝터가 있어서 너무 좋았네요! 정말 편히 잘 쉬다 갑니다!',\n",
       " '역에서 가깝고 이마트도 근처라 편의성이 좋았어요. 장마철이지만 누수로 문제될점도 없었고 조용한 골목이었어서 편안히 잘 쉬다 갑니다',\n",
       " '위치도 정확하고 또 호스트 분이 추천해준 곳들 중에 카페도 너무 좋았습니다 공간은 생각했던 거 보다 훨씬 좋았는데 세심한 배려와 센스가 돋보였고 테라스 활용도가 저는 좋았습니다 요즘 같은 시기에 개인적인 공간이면서 누릴 수 있는 곳이 있단게 얼마나 좋았는지 모릅니다!! 주로 저희는 포장해 와서 숙소와 테라스 이용했고요. 비 오면 안에서 놀다가 그치면 나와서 놀고 하늘도 보고 좋은 힐링이었습니다!',\n",
       " '처음부터 소통도 너무 잘해주셔서 좋았고, 주변에 좋은 곳들도 많이 추천해두셔서 인상적이었습니다! 숙소는 소품하나하나 신경쓴것이 느껴져서 더 이쁘고 좋았던거같어요! 청결도도 높아서 아주아주기분좋게 잘 놀다왔어요! 정말 강추입니다!!',\n",
       " '우선 사진과 똑같이 되어 있고 주변에 편의점과 맛집들이 많아서 정말 좋았아요! 질문할때마다 빠르게 대답해주시고 제가 컵을 실수로 깼는데 바로 응답해주면서 바로 대처해주셨습니다ㅠㅅ ㅠ 진짜 너무너무너무 호스트님 친절하시고 방도 너무너무 마음에 듭니다 다음에도 재방문할 의사 10000%입니다 !',\n",
       " '별 5점 줘도 아깝지 않습니다. 1. 위치가 대박입니다. 어디든 가깝게 이용 할 수 있고 숙소도 역 바로 앞입니다. 2. 호스트와의 연락이 빠릅니다. 3. 숙소 청결이 최고 입니다!!! 화장실 하수구도 깨끗합니다.',\n",
       " '완전 이쁜 장소',\n",
       " '세상 엄청나게 만족스럽습니다아- 1. 사진보다 훨씬 예쁘고 깔끔하고 청결합니다. 2. 치약이 두가지입니다. 꽤나 매운것과 덜 매운것 취향에 맞게 사용할 수 있도록 세심히 준비해주셔서 마음이 따뜻해졌습니다. 3. 침실 매우매우 아늑하고 좋습니당 4. 테라스 또한 얼마나 좋은지 몰라요오 5. 체크아웃12시 ★★ 6. 이마트 접근성 최곱니다. 들어가자마자 \"뭐야 사진보다 훨 좋잖아아아아ㅏ\" 라고 외쳤어요ㅎㅎㅎㅎㅎ 단 하룻밤 묵은거라 아쉬울 정도였네요ㅎㅎ히히',\n",
       " '빠른 호스팅 덕분에 궁금한점 바로바로 해결가능했어요 공간도 좋았구요! 감사합니다',\n",
       " '깨끗하고 분위기 좋은 곳이었습니다! 다만 부엌이 좁아서 요리하기엔 쉽지 않은 공간이었지만 그걸 이길만큼 숙소 분위기가 너무 좋았어요!!!! 또 이용하겠습니다!!!!',\n",
       " '생각보다 더 좋았어요. 후기에 왜 칭찬일색인지 알 것 같습니다! 위치, 접근성 너무 훌륭해서 주변 지인에게도 추천하고 저 또한 또 방문할 의사가 200%. 도중에 불미스러운 일이 한차례 있었지만 호스트님의 빠른 답변으로 기분좋게 넘어갈 수 있었어요! 숙소 소개의 말 그대로 아고 다 귀찮다, 먹을 것만 바리바리 사들고 가서 하루종일 빔으로 영화보고 밥 지어먹고 스테이케이션 제대로 하다가 갑니다 :) 센스있는 공간, 호스트님의 배려 모두 감사합니다. 아, 침구가 정말 좋았어요! 저 이케아에서 침구 바꾸려고욬ㅋㅋㅋㅋㅋ 최고! 다들 외 않와요? 외 예약않해?',\n",
       " '일단 숙소가 너무 이쁘고 주변에 맛집도 많고 공덕역도 걸어서 거의 3분 거리라 정말 기억에 남을 숙소였습니다.',\n",
       " '흠잡을 것 없이 좋은시간 보내다 갑니다ㅎㅎ',\n",
       " '숙소가 굉장히 깔끔하고 잘 정돈되어 있다는 느낌을 받았습니다! 휴식을 위한 공간으로 추천합니다:)',\n",
       " '좋습니다~! 깔끔하고 위치도 좋아요',\n",
       " '예상보다 숙소 내부 분위기가 좋았어요. 아기자기한 설명들이 곳곳에 적혀있어서 이용하는데 편했습니다. 이마트와 먹자골목, 카페 등 주변 상권이 훌륭했어요.',\n",
       " '깨끗하고 포근하게 머물다 가요:) 지하철역이랑도 가깝고 이마트도 가까워 편리했습니다! 다음에 또 이용할게요~',\n",
       " '매우 만족합니다! 아기자기하고 너무 예쁜 숙소였습니다! 다음에 또 방문할 의향있습니다 ㅎㅎ',\n",
       " '매번 만족도 높은 스테이를 하고 갑니다. 가격대비 완벽한 곳 좋은 추억 쌓기 아주 좋아요',\n",
       " '위치가 너무 좋았어요! 공덕역 바로앞이고 주변에 맛집도 많고 조금만 걸으면 마트가 있어 접근성이 좋았습니다. 숙소에서 쉬다가 저녁을 차려서 빔프로젝트를 보면서 먹고 따릉이 빌려서 한강도 가보고 테라스에서 맥주도 먹고! 완벽한 서울살이의 느낌이였어요! 숙소 인테리어도 너무 좋았습니다!',\n",
       " '테라스가 생각보다 훨씬 넓었고, 씨리얼준비해주는 에어비앤비는 처음이라 색다르고 좋았습니다 ㅎㅎ 코로나피해서 안전하게 놀기 딱이에요. 집에만있기지겨워서 예약했는데 좋은공간 공유해주셔서 감사합니다!! 주차도 골목앞에 빈자리가있어서 편하게 해결했습니다',\n",
       " '편히 잘 쉬다가 갑니다 추천합니다!',\n",
       " '침구류가 너무 깨끗했고 빔 프로젝트도 잘 나오고 전체적으로 아기자기 한 디자인이 넘 좋았씁니다. 잘 놀다가요~~',\n",
       " '부족함 없는 멋진 공간이었습니다! :) 테라스가 있어서 너무 좋았어요',\n",
       " '넘 좋았어요 ~ 덕분에 꿈같은 하루를 보냈어요 다음에 또 가고싶어요!!',\n",
       " '깔끔하고 좋았어요 다음에도 이용하고싶어요',\n",
       " '답장이 정말 빠르시고 친절하세요! 청결도가 정말 대박이에요,, 완전 깔끔!! 웬만한 조미료들은 다 준비되어있어서 요리하기도 정말 간편하고 시리얼까지 준비해주시는 센스에 너무 감동이었어요ㅠㅠ,,, 비가와서 테라스 이용을 못해 아쉬웠지만 그래도 분위기가 너무 좋아서 굉장히 만족스러웠어요! 그리고 빔프로젝트 정말 최고예요!! 담에 기회가된다면 또 올거예요!!!',\n",
       " '일단 너무깔끔하고 이쁘게 잘해두셔서 다음에또방문하고싶은 곳이였어요~ 테라스도 너무 좋구 비치해두신 것들도 너무 이뻤습니다 다만 차량을 가지고오신다면 좀 불편하실수도있습니다~ 그래도 전 너무 만족했습니다!!',\n",
       " '깨끗하고 포근한 숙소에요 :) 침실은 너무 포근했고 주방은 각종 조미료들이 준비되어있어 편했어요! 특히 빔프로젝터와 블루투스 스피커를 사용할 수 있어서 너무 좋았습니다ㅎㅎ',\n",
       " '좋습니다 ^^',\n",
       " '너무 편히 잘 쉬다 갔어요^^',\n",
       " '깨끗하고 배려가 느껴지는 공간이었어요~',\n",
       " '너무 예쁘고 공간 활용이 잘 되어 있어서 집에 가기 아쉬웠어요. 비치된 물건들 하나하나에 배려심이 느껴지고 문의에도 친절하게 답변해 주셔서 짧은 시간 동안이었지만 즐겁게 지내다 올 수 있었어요. 다만 테라스로 통하는 문을 닫으면 밖에서 아예 들어올 수가 없는 구조라 하마터면 갇힐 뻔해서 짜릿했네요. 다행히 금방 빠져나왔지만 이런 불상사를 막기 위해 주의 문구를 더 크게 붙여 놓으셔야 할 것 같아요ㅎㅎ 탈출(?) 방법도 안내해 주셨으면 좋겠구요ㅎㅎㅎ 너무 즐거웠습니다. 감사합니다.',\n",
       " '안녕하세요. 혜련님이 말씀해주신 것처럼 이 숙소의 매력인 넓은 테라스로 나가는 샷시문은 안전샷시로 되어있어 닫히면 밖에서는 절대 열수 없고 안에서만 열수 있습니다. 만약 테라스 밖에서 샷시문을 열 수 있다면, 혹시라도 외부인이 테라스로 침입했을때 집 안으로 들어올 수 있고 이런 경우 게스트 보안에 심각한 문제가 생길 수 있음을 감안하여, 가격대가 훨씬 높아도 안전 샷시로 시공해두었습니다. 이 점은 매뉴얼 및 샷시에 메모를 붙여두었으니, 다음에 오시는 손님들도 꼭 읽어봐주시면 감사하겠습니다.',\n",
       " '아늑한 분위기가 좋았습니다 :)',\n",
       " '우선 들어가자마자 숙소에서 나는 향기가 너무 좋았어요! 그리고 방문해본 숙소 중에 가장 깨끗했어요! 정말 군더더기가 없는 숙소입니다 침대랑 침구도 정말 편하고 좋아서 일어나기가 싫었어요 ㅠㅠ 다음에 또 방문하고 싶어요 정말 추천입니다!',\n",
       " '사진보다도 더 예쁜 공간이었습니다. 하이라이트는 테라스였어요 ㅎㅎㅎㅎㅎ 살고싶은 마음까지 들었던! 아늑한 느낌과 아기자기한 소품들까지 신경쓴 느낌이 많이 났어요.',\n",
       " '굿굿이었어요',\n",
       " '평점이 높은 이유가 있네요 :) 호스트님도 매우 친절하시고! 위치도 공간도 아주 만족스럽습니다. 수도권에서 머물렀던 에어비앤비 중 만족도가 가장 높았던 것 같아요! 또 방문하겠습니다',\n",
       " '너무 아늑하고 깔끔했어요! 주위에 맛집도 많고 테라스도 햇빛도 잘들어와서 좋구 교통도 좋아요. 차를 가지고 갔더니 주차공간이 없어서 근처 주차장에 주차하고 주차비가..하핫ㅜㅜ하지만 숙소는 너무 좋았습니당~~',\n",
       " '인테리어 너무 잘해놓으셨고 청결도도 높으며 마침 날씨도 좋았고 스피커를 두고왔는데 스피커가 구비되어 있어서 편안한 노래 들으며 편하게 쉬고 왔습니다! 다음에 또 올게요!',\n",
       " '깨끗하고 멋진 장소였습니다',\n",
       " '우여곡절 끝에 가게된 숙소. 여러모로 호스트분을 귀찮게 했는데 다 이해해주시고 친절히 대해주셔서 감사했습니다. 요리를 많이 해먹었는데, 꽤 큰 이마트가 아주 가까이 있고 주방의 조리도구나 식기, 조미료들도 하나같이 질좋고 예쁜것들이 있어서 아주 만족했습니다. 방에 들어갔을때의 향과 욕실용품들의 향도 너무 좋아서 머무르는 동안 느꼈던 향이 좋은 추억이 될것같습니다. 조금 추웠지만 감성있는 테라스도 잘 사용했습니다. 꼭 또 방문하고 싶은 숙소입니다. :)',\n",
       " '역에서 멀지 않고 실내에서 좋은 향이 나서 쾌적한 환경이었어요. 머문 시간이 짧아 오래 즐기지 못한 것이 너무 아쉬워서 다음에 또 오고 싶어요! 그리고 테라스가 있어 좋았어요.',\n",
       " '위치도 너무 좋았고, 청결하고, 향기도 좋고 힐링하고 갔습니다!!! 굿 ♥️',\n",
       " '날이 많이 풀려서 옥상을 쓸 수 있거나 테라스가 있는 공간을 찾다 발견한 아늑하고 예쁜 공간이었습니다. 인테리어뿐만 아니라 다른 부분에도 신경을 많이 썼다는 것을 느낄 수 있었는데요. 집 이름처럼 상큼한 향이 체크인을 기분 좋게 해줬고, 요리를 편히 할 수 있도록 꽤 다양한 양념 재료들이 구비되어 있으며, 볕 좋은 날 테라스에서 몇몇 옷가지들과 사용한 수건의 햇볕 소독을 도와줄 작은 빨래 건조대까지 챙겨주신 세심함까지! 다만 주택 밀집 지역에 위치해있어 단독으로 쓸 수 있는 넓은 테라스의 뷰가 트여있지는 않았어요. 그래도 옥탑의 낭만을 즐기기 너무 좋은 곳 입니다! 아! 그리고 호스트분이 정말 친절하십니다:)',\n",
       " '인테리어가 너무 예뻐서 감동 받았습니다 조명들이 다 너무 예뻐요 ㅜㅜ 따뜻한 분위기에 예쁜 테라스까지 정말 최고였어요 낮 밤 할거 없이 잘 이용 할 수 있게 되어있더라구요 빔으로 가져온 영화를 봤는데 구비 된 스피커까지 연결하니 정말 환상 !! 침실이 살짝 구분 되어 있는게 정말 세심하고 좋았어요 공기청정기 덕분에 청결하기도 했습니다 그리고 침대가 정말 ....마약이였습니다 ..... ❤️ 지하철역이 정말 2분 거리에 있어서 너무 편했구 앞에 이마트랑 편의점 없는게 없어서 잘 이용했어요 다음에 기회되면 또 올까 합니다!!',\n",
       " '훌륭한 호스팅과 좋은 숙소 덕분에 편하게 쉬다갑니다 :)',\n",
       " '사진과 동일하게 깔끔하고 카페같은 느낌의 집입니다. 테라스가 있는게 너무 좋았습니다. 따사로운 햇살과 집이 잘 어울렸습니다. 역 출구 앞에 있는 편의점에서 물건을 사가시고 오는게 좋습니다. 즐거운 시간 보내다 갑니다!',\n",
       " '코로나때문에 사실 고민은 했지만! 집콕이 여행목적이였어서! 숙소에 비치되어있는 커피가루랑 설탕으로 달고나라떼도 해먹었답니다! 무엇보다 침실이 아늑하고 꿀잠자구 아침에 베란다에서 광합성도 하고 너무 행복한 하루였습니다!!!',\n",
       " '좋은 시간 보내셨다니 호스트로서 무척 뿌듯합니다 ☺️ 간혹 게스트 분들께서 “부정확한 주소”를 지적해주셔서 이곳에 안내를 드립니다. 메시지로 보내드리는 “링크”를 클릭하시면 정확한 주소와 집 사진, 찾아오는 법을 확인하 실수 있어요. 아마도 에어비앤비에서 보내는 안내 메시지에 큰 지역을 표기하는 도로명 주소를 보시고 혼동을 하시는 분들이 가끔 계시는것 같아요 :)',\n",
       " '서울에서 했던 에어비엔비 중에 제일 좋았습니다:) 무조건 담에 또 하구싶어요ㅎㅎㅎ 일단 소품들이 전부 다 너무 좋았구 추워서 루프탑은 못썼지만 나중에 꼭 써보고 싶어요! 빔프로젝터도 크게 어려움없이 해서 밤에 잘 보고 잤고, 음식도 하기 좋게 재료가 다 있었어요:) 분위기도 너무 좋고 이마트 한 5분안에 가서 진짜 좋았어용 역도 가깝습니다! 주위에 맛집도 많아서 놀기 딱 좋아용 고데기나 폼클렌징만 챙겨가시면 될 것 같아요!',\n",
       " '지금까지 다녀온 에어비앤비 중 가장 훌륭했다고 해도 과언이 아닐만큼 너무 좋았어요! 호스트님의 세심한 배려로 치약부터 커피까지 뭐 하나 대충 구비 해 놓으신 것 없이 싹 다 사용하기에 좋았고 편리했어요, 특히 숙소 분위기가 해외에 와있는 것처럼 특이하고 매력이 넘쳤어요,, 다음에 꼭 다시 방문하고 싶은 멋진 곳이에요! 잘 쉬다 갑니다☺️',\n",
       " '너무 깨끗하고 좋아서 편히 잘쉬다가 갑니다. 들어왔을땐 조금 추운데 오자마자 보일러 올리시면 따뜻하고 너무 좋습니다. 집이 약간 건조한거 빼고는 완벽해요!',\n",
       " '코로나를 피해 사람들이 적은 공덕역에 머물게 되었는데..주변에 머가 없더라도 집만으로 충분히 만족이 될만한 숙소였어요! 다만,체크인이 좀 늦어서 아쉬웠어요 ㅠㅠ.. 그것 말고는 청결도며, 냉장고도 크고 침대도 포근하고 바스락대는 이불도 너무 좋았고.. 빔프로젝트로 분위기도 한껏 나고 넘넘 좋았네요!! 다음엔 yoon님의 다른 숙소도 방문해보고 싶습니당!',\n",
       " '지난번 호스트분의 다른 숙소가 너무너무 맘에 들어서 생일기념으로 지금 숙소를 예약했는데 역시나 최고였어요:-) 위치도 공덕역 근처라 뚜벅이들에게는 완벽한 조건이에요! 집-회사만 반복하던 일상에 단비같은 소중한 하루를 보냈습니다^-^ 감성쟁이 친구덜에게 꼭 추천하고 싶은 숙소에요:))',\n",
       " '공간이 조금 작긴했지만 인테리어도 예쁘고 침실이 아늑해서 너무 좋았어요 빔 프로젝터로 영화도 보고 휴가 온 기분 맘껏 즐기다 가요 :-)',\n",
       " '위치적으로 너무 편했고 근처에 장볼수 있는 이마트도 있어서 좋았어요 그리고 무엇보다 방이 너무 좋고 이뻤어요 글구 각종 조미료도 있어서 요리하기 편했구요 아침에 일어나서 테라스에서 멍 때리며 커피한잔 하면 완전 좋아요',\n",
       " '전반적으로 마음에 들었던 숙소입니다. 위치는 역이랑 이마트랑 바로 근처에 있어서 다니기 편했습니다. 생각했던거 보단 방이 작았지만 작아서 그런지 더 아늑한 하루 보낸거 같아서 좋았어요 조미료랑 스파게티 면도 충분히 있어서 맛있는 요리 해먹기도 좋았습니다. 주차 공간이 여유롭지 않지만 주말에는 큰길가 언덕길에도 주차 가능한거 같아서 언덕길에 세워뒀습니다. (주차안내 상세하게 설명해주십니다)',\n",
       " '여긴 며칠동안 지내고싶을정도로 좋은 공간이였어요.. 숙소 내부도 너무 청결하고 좋은 향기가 나서 들어가자마자 기분이 좋았네요. 여태 이용하면서 제일 만족도 높은 곳이 후르츠입니다. 공간이 막 넓지 않아도 이렇게 만족도가 높은걸 보면 크기랑은 상관없나봐요 ㅎㅎ 호스트님도 너무 친절하시고 .. 굳이 아쉬운걸 찾자면 루프탑이라 테이블을 사용하고싶었는데 추워서 사용하지 못했어요.. 그 부분만 아쉽네요.. 추가로는 꽤 넓어서 바베큐 추가 요금 받고 해도 괜찮을것같단 생각도 듭니다 ㅎㅎ 다음번에 꼭 다시 갈게요!',\n",
       " '숙소가 너무 예쁘고 깨끗했어요 묵는 동안 은은하게 나는 향들도 좋았구요 기분 좋게 있다가 왔네요! 옥탑이라 방음이나 외풍이 신경 쓰일 줄 알았는데 그런 것도 없고 따뜻하게 잘 있다가 왔습니다 ㅎㅎ',\n",
       " '애머너티 같은 작고 소소한 부분까지 신경 써주신 부분이 너무 좋았어요! 게다가 청결 하기까지! 다만 키가 크신 분들은 소파에서 일어날 때 조심해야 할거 같아요 천장이 조금 낮아서 조명에 머리를 여러차례 부딪혔답니다,,허허 이 부분만 제외하면 너무 좋았어요! 난방도 너무 잘되고 뜨거운 물도 아주 잘나왔어요! 호스트님의 다른 숙소들도 이용해보고 싶어요:)',\n",
       " '따듯한 느낌에 푹 쉬고가기 좋은 장소입니다.',\n",
       " '문을열고들어간 순간 조명이 예쁘게 켜져있고 향도 좋아서 너무좋았어요! 조리도구랑 인테리어가 너무 다 갬성있고 이쁘더라구용 한번더오고싶은곳!!! 아쉬운점하나는 주차문제 ㅠㅠ 대중교통꼭이용하세영',\n",
       " '스테이가 만족스러우셨던것 같아 저도 무척 뿌듯하네요. 다만, 저희집은 주차장이 따로 없습니다. (근처 유료주차장을 이용) 다음 오시는 게스트 분들의 혼선을 방지하기 위해 댓글을 남깁니다.',\n",
       " '위치도 좋고 공간도 너무 예뻤습니다.',\n",
       " '깔끔하고 옥탑이라추울것같았지만 전혀춥지않았고 거실이랑 싱크대가 조금작을뿐 그외에는 흠잡을곳이없었다.',\n",
       " '일단 들어서자마자 향이 진짜좋앗어요, 호스트님 빠른응답도 좋았구 테라스조명 다너무 이쁘고좋앗습니다. 다만 키가큰분은 거실조명에 머리가 닿을거같아요! 티비따로없이 빔으로 영상시청가능한데 저는 개인적으로 담아간영상이따로없구 조작법 보내주셧는데도 기종?때문인지 잘연결이안됫어요ㅠㅠ 그래도 방도 너무깨끗하고 안락해서 1시반정도부터 거의 6시까지 내리잤던거같아요♡',\n",
       " '외국에서도 국내에서도 에어비앤비 많이 이용했는데 그 중 가장 맘에 드는 공간이었어요...최고.. 옥탑이라 외풍 걱정했는데 정말 따뜻하고 세심한 소품들에 놀랐습니다. 에어비앤비를 이용하다보면 사진에서만 깔끔해보이는....(눈에 보이는 곳만 깔끔한)곳이 종종 있었는데요. 이 곳은 화장실 타일, 선반, 침구류 모든 곳이 잘 관리 되어 있었어요! 2인에게 딱 맞는 공간이고, 빔프로젝터/마샬스피커/조리도구/작은 구급상자/우산2개/마스크까지 구비되어 있었습니다. 세권의 책이 스피커 아래 놓여있었는데 조용하고 따뜻한 공간에서 한참 읽다 잠들었네용 다음에 다시 방문할게요☺️ 고민하는 모든 분들께 추천합니다!',\n",
       " '경의선 공덕역에서 가까워요 집 바로 근처에 이마트가 있어서 장보기 좋아요 근처에 은근 먹을 곳이 많아요 사진으로 예쁜 숙소들 막상 가보면 사진으로만 예뻐 보이거나 청결상태가 안좋은 경우가 종종 있는데 후르츠 로프트는 예쁜데다가 무척 깨끗해요! 난방도 잘되고 온수도 잘 나오구요 조리도구와 조미료가 잘 준비되어 있어요 (아침에 씨리얼 잘 먹었습니다! :) ) 블루투스 스피커로 노래도 듣고 빔프로젝터로 영화도 잘 봤어요! 어메니티도 좋은 제품으로 챙겨주셨구요 제가 숙박한 날엔 공기가 안좋아서 테라스는 이용 안했는데 생각보다 꽤 넓어서 날씨 좋은 날 딱 좋을 것 같아요 - 공간대비 조명이 많아서 취향대로 분위기 내기 좋아서 참 마음에 들었어요 ㅎㅎ 재방문 의사 있습니다 :)',\n",
       " '깔끔해서 시간이 더 머무르고 싶은 곳이었습니다.',\n",
       " '1. 위치 공덕역과 가까워 찾아가기 편했고, 바로 옆에 이마트, 경의선 숲길이 있어서 굉장히 좋았어요! 2. 시설 사진하고 똑같은, 아니 더 좋은 공간에 감동받았어요! 조명도 너무 예쁘고, 중간중간 연필로 예쁘게 적힌 안내문들 덕분에 편하게 머무를 수 있었습니다. 예쁜 컵과 조리기구 덕분에 음식 만들어 먹는 것도 재밌었어요ㅎㅎㅎ 3. 청결 정말 정말 깨끗했습니다. 지저분하면 어쩌지 했던 걱정이 무색할 정도로 너무 깨끗했어요...!!! 4. 어매니티 필요한 것들이 다 준비되어있어서 너무 좋았어요. 게다가 다 좋은 브랜드의 어매니티들이어서 기분 좋았습니다ㅎㅎㅎ 5. 빔프로젝터 연결도 간편하고 화질도 좋아서 영화 보기에 딱이예요! 전체적으로 굉장히 만족했던 숙소였습니다! 다음에도 또 머무를거예요ㅎㅎㅎ 호스트님의 친절한 응대와 아름다운 공간으로 행복한 기억을 담아 갑니다~ 감사합니다!',\n",
       " '사진으로 봤던 숙소모습 그대로 였습니다. 입구에서 부터 좋은 냄새가 났고 화장실, 거실 및 침구의 청결도 상태도 좋았습니다. 주변 마트, 맛집, 역도 가까워 이동이 편했습니다. 다만 180이상 성인 남성이 지내기엔 조금 천장이 낮은 느낌이였고^^; 수납공간이 부족하여 조금은 아쉬웠습니다. 빔으로 영화보는 감성이 너무 좋았고 도심 속 힐링을 즐기기엔 더할나위없는 숙소였습니다~',\n",
       " '작고 아늑해서 정말 좋았어요 ㅎㅎㅎ 이용하면서 힐링하는 느낌이었습니다! 추천해요!',\n",
       " '정말 너무 추천하고 싶은 숙소예요! 하나하나 신경쓰신게 느껴지는 숙소라 지내는 동안 편안하게 지낼 수 있었었고, 사진하고 똑같은데도 기대했던 것보다 더 포근하고 좋은 공간이었어요 :) +주차문제로 예약때 고민한게 무색할 정도로 주차하는 것도 너무 상세히 메세지 주시고 신경써주셔서 골목길 주차도 무리 없이 했습니다',\n",
       " '공덕역과 가깝고 실내가 매우 쾌적하고 인테리어가 예뻐요. 곳곳에 조명과 콘센트가 있어 너무 편리했구요. 또 집이 아닌 곳에서 자면서 한번쯤 필요할만한 물건 다 구비되어있어요. 간단한 조미료와 조리도구도 있어서 요리도 해먹고 즐거운 시간 보냈어요. 재방문의사 100프로입니다',\n",
       " '최고였어요!',\n",
       " '호스트 센스가 집 모든면에 묻어있어요. 너무 예쁘고 깔끔합니다 ㅠㅠㅠ 인스타감성의 화이트느낌 뿐이었다면 단조로웠을텐데, 주방 토스트기계, 소품 등 곳곳에서 빈티지하고 알록달록한 색감이 있어요 ㅠ 근데 그게 하나같이 다 이쁩니다,,, 함께 비치해주신 레몬글라스 향 바디오일 바르고 꿀잠잤어요 ! 잘 쉬다 가요 ! ❤️ 무조건 또갈거에요.',\n",
       " '아기자기하고 깔끔한 공간이였어요 기분좋게 묵었습니다',\n",
       " '아늑하고 정말 편안했어요!! 저희 집이면 좋겠다 싶을만큼 예쁜 공간이었습니다☺️',\n",
       " '깨끗하고 좋은 숙소입니다 기분좋은 하루를 보냈습니다',\n",
       " '1) 위치 공덕역에서 가까웠으며, 이마트나 편의시설이 가까워서 편리하였습니다. 덕분에 이동시간이 매우 절약되었습니다. 2) 내부 시설 깔끔한 숙소였고, 내부 시설이 잘 되어 있습니다. 특히 공기청정기 등이 구비되어있어서, 문을 닫고 있어도 답답하지 않고 쾌적하게 보낼 수 있었던 점이 인상적이었습니다. 그리고 단열이 잘 되어 있었고, 난방이나 온수도 잘 나와서 불편함이 없었습니다. 3) 호스트 편리한 이용이 가능하도록 연락주셨고, 지내면서 필요한 물품이나 서비스(와이파이, 쓰레기 등)에 대해서도 상세히 설명해주어서 따로 연락해야 하는 등의 불편함이 없었습니다. 4) 전체적인 평 다음에도 기회가 된다면 숙박하고 싶고, 지인이나 외국인에게도 추천할만한 숙소입니다.',\n",
       " '주변 편의시설도 좋았고 이마트 생각보다 추워서 그런지 거리가있는거같지만 괜찮았고 좀만 걸어가면 로또명당도있고 숙소내부도 좋았어요 다만 빔이 제폰은 인식을 못하는게 아쉬웠지만 그거빼고 좋았고 테라스는 추워서 아쉬웠지만 나중에 따뜻할때 가면 좋을것같아요',\n",
       " '위치적으로 공덕역이랑 매우 가까워서 편했고, 숙소 또한 너무 아늑하고 좋았어요 집안 곳곳에 호스트분의 세심한 배려가 돋보입니다 추천해요 :)',\n",
       " '너무 좋은 공간이었습니다. 위치도 완벽하도 청결도, 숙소 전반의 센스도 너무 좋았어요 !',\n",
       " '이번에도 완벽했던 숙소! 호스트님도 최고에요^^ 가을의 경의선 숲길과 동네 분위기도 최고! 테라스도 사랑이었어요♥',\n",
       " '위치도 공간도 모든 부분이 완벽한 곳입니다! 꼭 다시 들릴 생각입니다!!',\n",
       " '예상보다 방이 작긴했지만 불편하거나 협소하단 생각은 전혀 안 들었구요. 인테리어가 아주 예뻤고 각종 조리도구와 양념들이 잘 구비되어있어서 좋았어요 무엇보다도 걸어서 5분도 채 안되는 거리에 이마트와 편의점이 있어서 아주 편했습니다 그리고 비가 와서 테라스를 이용하진 못했지만 아침에 보니 널찍하고 깔끔하더라구요ㅎㅎ',\n",
       " '저는 날씨가 많이 안좋을 때 가서 테라스를 활용 못해본게 아쉽지만 공덕역에서 정말 가깝고 요리하기 위한 재료들이 많이 준비되어 있어서 즐거운 시간을 보내고 왔습니다! 다음에 또 방문하고 싶어요',\n",
       " '정말이지 아기자기하고 깔끔한 숙소였어요! 만족합니다',\n",
       " '평일에가서 1박을 이용했습니다. 호스트님 답장 속도가 굉장히 빠르고 예정 체크인시간보다 일찍 도착을해서 문의를 드렸더니 조금 더 이른 체크인이 가능했습니다. 공간은 예상보다 훨씬 아늑해서 좋았고 베딩이 정말 맘에들었어요. 청결도는 말할 것도 없고 부엌에 종류별로 시즈닝이 많아서 유용하게 이용했습니다. 요리를 해서 테라스에서 와인이랑 같이 먹었는데 테라스가 시원하고 주변이 조용한 편이라서 정말 기억에 남는 시간을 보냈어요. 다음 번에는 겨울에 다시 이용하기로 남자친구랑 이미 정했습니다~~',\n",
       " '1. 교통과 주변 편의시설 모두 너무 만족했어요. 이마트가 도보 3분에 경의선 숲길이 도로 맞은편 바로에요. 매일 저녁마다 공덕-홍대입구-공덕(4-50분) 산책하는 맛 들려서 너무 행복했어요. 2. 구옥들 사이에 빈티지 리모델링 된 건물. 처음엔 좀 놀랬지만 보면 볼수록 매력적인 건물이에요. 그리고 내부는 최신식이었어요. 3. 들어가자마자 너무 좋은 향기와 감성 가득한 인테리어. 사진에서 보는 그대로와 그보다 더 감동했던 분위기. 테라스의 분위기까지 최고입니다! 여자분들 화장실 예민하신분들 걱정 안하셔도 됩니다! 굉장히 깨끗하며 치약, 핸드워시, 샴푸, 컨디셔너 어메니티 상태 너무 최고입니다. 4. 챙겨주신 씨리얼과 파스타면, 식빵으로 야무지게 끼니마다 뭐 사러 나가지 않아도 끼니 때우기 너무 좋았어요. 그리고 다른 후기처럼 이마트나 편의점에서 생수, 우유, 얼음 미리 사와서 보관할 수 있어서 좋았어요. 5. 5박6일간 집순이처럼 있으면서 가장 사랑했던건 쇼파에요. 빈티지 쇼파가 정말 푹신하고 편했어요. 낮엔 스피커로 음악틀고 책도 보고 저녁마다 거기에 앉아서 노트북으로 영화보면서 하루를 쇼파에서 시작해서 쇼파로 끝냈어요. 거기에 침대로 곧장 직행하면 열대야가 무엇인가요. 진짜 새벽에 단 한 번도 안 깨고 잘 잤어요. 6. 낮에도 집에 계실 분들 중에서 기차 진동소리 예민하시면 이 집은 좀 피하셔야 할수도 있어요. 동네 자체는 굉장히 조용해서 너무 좋아요. 1시간에 3번정도 진동이 느껴지는데 경의전철이 지나가는 진동인것 같은데 전 이것조차도 좋았어요. 신경 많이 안 쓰시면 정말 완벽한 집입니다. 경의선 끊기는 시간이면 정말 더더욱 아무소리도 안 납니다. 집앞으로 버스 지나가는 진동보단 약합니다. 7. 호스트님은 완벽하십니다. 친절과 세심함이 인테리어에와 매너에 돋보이고 제가 불편한 점에도 굉장히 빠르게 답해주시며 해결해주십니다. 이번에 비가 계속 와서 테라스를 이용해보지 못했는데 호스트님의 완벽한 감성적인 인테리어와 테라스의 낭만을 느끼러 이번 가을겨울에 꼭 한 번 다시 방문 할 예정입니다. 8. 공덕에 여행오실 분들 따뜻하고 아늑한 감성충만 로컬의 느낌을 느끼고 싶으시면 꼭 yoon&hye님 숙소 선택하세요! ^^',\n",
       " '예쁘고 없는게 없는 집이었어요 바로 앞에 이마트도 있고 공덕역이랑도 가깝습니다 주택가라 조용하고 무엇보다 침대가 정말 편하고 깨끗했어요 주방에 올리브오일 페퍼론치노도 구비 잘 되어있구요!! 테라스도 좋았습니다 ㅎㅎ 호스트님의 세심한 배려가 느껴지는 집이었어요 또 방문하고싶네요 !! 최고의 에어비앤비 집입니다 :)',\n",
       " '집 인테리어가 예쁘고 청결했어요 다음번에 또 묵고 싶어요~',\n",
       " '여기 너무너무너무 좋았어요!! 1. 청결했고 (화장실, 부엌, 침실 모두) 2. 요리해서 먹으려고 빌린건데 소금, 설탕, 식초, 올리브오일부터 페퍼로치노까지 있어사 너무 좋았어요. 식기도 이케아라 예뻤구요. 와인잔도 좋았습니다. 파스타면이랑 시리얼도 센스 넘치세요!! (토스트기도 있어요!) 3. 화장실 어메니티가 아베다입니다 여러분.',\n",
       " '깨끗하고 편하고 정말 아쉬운게 하나도 없었던 훌륭한 숙소였습니다!',\n",
       " '깨끗하고 아기자기한 집입니다. 인테리어도 예쁘고 루프탑도 기분전환하기 좋아요 또 가고 싶습니다',\n",
       " '공덕역이랑 가깝고 깨끗하고...좀만 분위기 신경쓰면 감성도 최고입니당',\n",
       " '*방 컨디션 : 방이 너무너무 예쁘고 아기자기했어요! 특히 주방쪽에 초록색타일은 정말 취향저격 ㅠㅠ 침실은 아늑하게 따로 프라이빗룸으로 되어있는것도 너무 마음에 들었어요! 테라스도 분위기 짱입니다 *주차 : 차로 갔는데 주차공간 없다는 것 미리 알고갔지만 문의드렸을때 너무 친절하게 답해주셔서 주차할수있는곳에 잘 댈 수 있었어요! 전체적으로 너무 만족한 공간입니다 ! 공덕역에서 바로에요~! 다음에 또 이용하겠습니다',\n",
       " '뷰가 좋은편은 아니지만 테라스에서 친구와 밤에 칵테일 한잔하고 아침에 커피와 토스트도 먹으면서 정말 좋은 시간 보내기에 멋진 공간입니다:-) 침구도 정말 편해서 푹 잘 수 있었구요, 아기자기 있을거 다 있어서 편리하게 하룻밤 잘 묵고 갔습니다. 구비된 어메니티도 만족합니다.',\n",
       " '위치도 너무 좋고 주변도 조용해서 좋았어요! 집도 정말 아늑한데다가 화장실도 아주 청결했고 테라스가 굉장히 넓어서 정말 여행 온 기분이었어요. 나중에 꼭 이런 집에서 살고싶다는 생각이 들 정도로 쾌적하고 아늑한 공간이었습니다 :)',\n",
       " '티비 없는거 빼고는 너무 너무 좋았어요',\n",
       " '공덕역 바로 3분 거리에, 이마트 주변에 있고 동네도 조용하며 호스트님이 매우 예쁘게 숙소 꾸며주시고 불편한 점이 있는지 신경써주셔서 정말 만족스러웠습니다!',\n",
       " '생각했던것 보다 분위기가 좋았고 기본적인 주방기구가 배치되어 있어서 요리 하기 너무 좋았어요. 여행처럼 머물다가 좋은시간 보내고 갑니다.',\n",
       " '위치도 공덕역이랑 가깝고 공간도 너무 아기자기하고 이뻤어요! 준비되어있는 조미료나 샴푸나 치약등 모두 오가닉이나 유명한 브랜드여서 좋았고 커피나 시리얼 등 호스트분의 세심한 배려에 감동하고 갑니다! 재방문의사 200%에요^^',\n",
       " 'I recommend this room without fail! It’s soooo amazing!! 정말 이쁘고 스타일리쉬한 방이에요! 다들 꼭 머무르셨으면 좋겠습니다! ㅜㅜ It’s really pretty and stylish room! I hope everyone stay here! 1. 호스트님고 너무 친절하시고 문의사항들에 빠르게 대응해주셔서 불편함 하나 없이 머물렀어요! The host is so kind and friendly. whenever I ask somethings, she always give a quick answer. So I could stay without any problem. 2. 처음 사진 보고 방이 좀 작을까봐 걱정했는데 웬걸, 꽤나 넓고 충분했습니다!ㅠㅠ! 테라스까지 있어서 바람 쐬기도 좋고, 침대도 넓었어요! Before arriving at room, I was afraid the room will be small. However the room was spacious enough. There is a terrace, so it’s good for the wind. And A bed was spacious too. Love it. 3. 세심한 인테리어에 감동 ㅜㅜ 테니스 라켓하며 주방기구들 다 너무 아기자기하고 맘에 쏙 들었어요! I was touched because of the interior. I could feel how carefully host prepared the room. 4. 난방, 온수 너무 잘 작동해줘서 불편함 하나 없이 지냈습니다! The heating and how water were working well, so I got rid of the inconvenience. 5. 역이랑도 너무 가까워요! It’s walking distance from the room to subway station. 꼭 추천드리구 싶어요~!~!~!~ I really recommend the room for you! When you visit Korea, you should reserve this room:’)',\n",
       " '친절하고 빠른 답변과 아늑하고 깔끔한 공간에서 매우 잘 쉬고 왔습니다. 매우 감성돋는 공간입니다!',\n",
       " '공간이 너무 아름다워서 지내는 내내 즐거웠습니다.',\n",
       " '따뜻하고 깨끗해요! 공간도 예뻐서 친구와 만족스러운 쉼이 되었습니다. 호스트분도 문의에 대한 답변이 빠르시고 친절하셔서 편히 쉬다 가요ㅎㅎ 감사합니다~',\n",
       " '기대한것보다 훠~~얼씬좋았어요! 세심하게 준비하신게 느껴지고(디테일 짱) 코로나때문에 걱정도좀됐었는데 너무 깨끗해서 ㅋㅋ 가져간 소독용품으로 따로 안닦았어요. 테라스 사진보다 훨씬 넓고 좋아요. 요즘은 아직더우니까 저녁때 이용하면좋을것같아요. 주방 식기랑 컵도 예뻐서 맘에들었고, 조명이나 기타 인테리어 소품들이 다 취향이라 행복했어요 ㅎㅎ 위치도 조용한주택가고 근처에 경의선숲길이 있어서 좋았어요 저희는 체크아웃하고 홍대까지 숲길따라 한시간 산책하고 맛있는것도 먹고 그랬어요 ㅎㅎㅎ 강추합니다~~',\n",
       " '위치도 괜찮았고 여기는 테라스 맛집입니다 모두들 테라스 때문에라도 가세요! 원룸이지만 침실(?)과 거실을 분리해서 투룸 느낌이고 한명 혹은 두명의 인원을 추천드립니다 또한 티비는 없지만 빔프로젝터가 있으니 이용하시면 좋아요(아이폰은 잭이 있고 그 외 핸드폰은 불루투스를 이용하면 되지만 선으로 연결해야 끊김이 없어요) 냉장고도 크고 감성 뿜뿜합니다 다만 부엌은 협소하여 거창한 요리보다 간단한 브런치나 조금 간단하게 준비한다면 파스타 정도는 가능합니다 숙소에 있는 비품 하나 하나가 호스트의 정성이 가득합니다 기념일로 택하였을 때 너무 좋았어요! 꼭 숙소에서 준비한 블랙 커피나 차 한 잔 내려서 테라스에서 즐기시면 좋습니다 ㅎㅎ',\n",
       " '정말 좋은 숙소. 옥탑방 자취의 로망을 실현한 것 같은 숙소였습니다.',\n",
       " '들어가자 마자 느껴지는 따스한 분위기가 여행자의 입장에서 너무 설레고 행복했답니다. 숙소 전체가 깔끔해서 묵기 너무 좋았어요. 가까이에 산책로와 마트가 있어서 그것도 좋아요!! 빔프로젝터와 마샬은 침구도 완전 좋아요!! 각 장소마다 어울리는 조명과 디테일한 감각이 너무나 돋보이는 숙소에요 제가 궁금한게 많아서 메시지를 자주 보냈는데도 불구하고 호스트분의 대응도 빠르고 사려깊음이 느껴졌어요. 고민하고 계시다면 꼭꼭! 여기서 묵으시라고 추천드립니다:-) 후르츠로프트에게 행복한 하루를 선물받은 기분이에요',\n",
       " ...]"
      ]
     },
     "execution_count": 178,
     "metadata": {},
     "output_type": "execute_result"
    }
   ],
   "source": [
    "data"
   ]
  },
  {
   "cell_type": "code",
   "execution_count": 207,
   "metadata": {},
   "outputs": [],
   "source": [
    "#데이터프레임 형성\n",
    "yongsan_reviews = pd.DataFrame(data, columns=['review'])"
   ]
  },
  {
   "cell_type": "code",
   "execution_count": 208,
   "metadata": {},
   "outputs": [],
   "source": [
    "yongsan_reviews = yongsan_reviews.drop_duplicates(['review'])"
   ]
  },
  {
   "cell_type": "code",
   "execution_count": 217,
   "metadata": {},
   "outputs": [],
   "source": [
    "yongsan_reviews = yongsan_reviews.drop([yongsan_reviews.index[0]])"
   ]
  },
  {
   "cell_type": "code",
   "execution_count": 218,
   "metadata": {},
   "outputs": [
    {
     "data": {
      "text/html": [
       "<div>\n",
       "<style scoped>\n",
       "    .dataframe tbody tr th:only-of-type {\n",
       "        vertical-align: middle;\n",
       "    }\n",
       "\n",
       "    .dataframe tbody tr th {\n",
       "        vertical-align: top;\n",
       "    }\n",
       "\n",
       "    .dataframe thead th {\n",
       "        text-align: right;\n",
       "    }\n",
       "</style>\n",
       "<table border=\"1\" class=\"dataframe\">\n",
       "  <thead>\n",
       "    <tr style=\"text-align: right;\">\n",
       "      <th></th>\n",
       "      <th>review</th>\n",
       "    </tr>\n",
       "  </thead>\n",
       "  <tbody>\n",
       "    <tr>\n",
       "      <th>2</th>\n",
       "      <td>깨끗하고 감성있는 분위기있는 숙소입니다</td>\n",
       "    </tr>\n",
       "    <tr>\n",
       "      <th>3</th>\n",
       "      <td>용산역 바로 2분 거리라서 교통도 되게 좋고 주변에 마트 카페 맛집 등등 많아서 아...</td>\n",
       "    </tr>\n",
       "    <tr>\n",
       "      <th>5</th>\n",
       "      <td>위치가 좋아 잘 쉬다갔습니다. 하지만 아쉬운점이 한둘이 아니네요. 방음이 약하다고는...</td>\n",
       "    </tr>\n",
       "    <tr>\n",
       "      <th>6</th>\n",
       "      <td>한강뷰가 .,, 그냥 너무좋아요 숙소도 깨끗하고 넓고 호텔이랑 크게 다를건없는것같아...</td>\n",
       "    </tr>\n",
       "    <tr>\n",
       "      <th>7</th>\n",
       "      <td>주차 제외하고는 아주 좋아요</td>\n",
       "    </tr>\n",
       "    <tr>\n",
       "      <th>...</th>\n",
       "      <td>...</td>\n",
       "    </tr>\n",
       "    <tr>\n",
       "      <th>5567</th>\n",
       "      <td>아파트는 2 개의 지하철역 사이에 위치해 있습니다. 따라서 지하철 바로 위에 아파트...</td>\n",
       "    </tr>\n",
       "    <tr>\n",
       "      <th>5568</th>\n",
       "      <td>Terry의 장소는 큰 그룹에게 매우 편안합니다. 숙명여 대역에서 가깝습니다. 인근...</td>\n",
       "    </tr>\n",
       "    <tr>\n",
       "      <th>5569</th>\n",
       "      <td>집주인은 체크인 문제를 매우 친절하고 열망합니다. 집은 서울역 12 번 출구에서 1...</td>\n",
       "    </tr>\n",
       "    <tr>\n",
       "      <th>5570</th>\n",
       "      <td>Terry의 장소는 넓고 방은 모두 큽니다. 저는 개인적으로 Terry의 집에서 가...</td>\n",
       "    </tr>\n",
       "    <tr>\n",
       "      <th>5571</th>\n",
       "      <td>우리는 테리의 집을 좋아했습니다. 깨끗하고 침대가 편안하고 위치가 좋습니다! 숙명 ...</td>\n",
       "    </tr>\n",
       "  </tbody>\n",
       "</table>\n",
       "<p>4814 rows × 1 columns</p>\n",
       "</div>"
      ],
      "text/plain": [
       "                                                 review\n",
       "2                                 깨끗하고 감성있는 분위기있는 숙소입니다\n",
       "3     용산역 바로 2분 거리라서 교통도 되게 좋고 주변에 마트 카페 맛집 등등 많아서 아...\n",
       "5     위치가 좋아 잘 쉬다갔습니다. 하지만 아쉬운점이 한둘이 아니네요. 방음이 약하다고는...\n",
       "6     한강뷰가 .,, 그냥 너무좋아요 숙소도 깨끗하고 넓고 호텔이랑 크게 다를건없는것같아...\n",
       "7                                       주차 제외하고는 아주 좋아요\n",
       "...                                                 ...\n",
       "5567  아파트는 2 개의 지하철역 사이에 위치해 있습니다. 따라서 지하철 바로 위에 아파트...\n",
       "5568  Terry의 장소는 큰 그룹에게 매우 편안합니다. 숙명여 대역에서 가깝습니다. 인근...\n",
       "5569  집주인은 체크인 문제를 매우 친절하고 열망합니다. 집은 서울역 12 번 출구에서 1...\n",
       "5570  Terry의 장소는 넓고 방은 모두 큽니다. 저는 개인적으로 Terry의 집에서 가...\n",
       "5571  우리는 테리의 집을 좋아했습니다. 깨끗하고 침대가 편안하고 위치가 좋습니다! 숙명 ...\n",
       "\n",
       "[4814 rows x 1 columns]"
      ]
     },
     "execution_count": 218,
     "metadata": {},
     "output_type": "execute_result"
    }
   ],
   "source": [
    "yongsan_reviews"
   ]
  },
  {
   "cell_type": "code",
   "execution_count": 219,
   "metadata": {},
   "outputs": [],
   "source": [
    "yongsan_reviews.to_excel('yongsan_reviews.xlsx')"
   ]
  },
  {
   "cell_type": "code",
   "execution_count": null,
   "metadata": {},
   "outputs": [],
   "source": []
  }
 ],
 "metadata": {
  "kernelspec": {
   "display_name": "Python 3",
   "language": "python",
   "name": "python3"
  },
  "language_info": {
   "codemirror_mode": {
    "name": "ipython",
    "version": 3
   },
   "file_extension": ".py",
   "mimetype": "text/x-python",
   "name": "python",
   "nbconvert_exporter": "python",
   "pygments_lexer": "ipython3",
   "version": "3.8.3"
  }
 },
 "nbformat": 4,
 "nbformat_minor": 4
}
